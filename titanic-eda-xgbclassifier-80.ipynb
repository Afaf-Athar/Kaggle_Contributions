{
 "cells": [
  {
   "cell_type": "code",
   "execution_count": 1,
   "metadata": {
    "_cell_guid": "b1076dfc-b9ad-4769-8c92-a6c4dae69d19",
    "_uuid": "8f2839f25d086af736a60e9eeb907d3b93b6e0e5",
    "execution": {
     "iopub.execute_input": "2021-01-12T17:05:14.477081Z",
     "iopub.status.busy": "2021-01-12T17:05:14.476378Z",
     "iopub.status.idle": "2021-01-12T17:05:15.917830Z",
     "shell.execute_reply": "2021-01-12T17:05:15.918474Z"
    },
    "papermill": {
     "duration": 1.48366,
     "end_time": "2021-01-12T17:05:15.918661",
     "exception": false,
     "start_time": "2021-01-12T17:05:14.435001",
     "status": "completed"
    },
    "tags": []
   },
   "outputs": [
    {
     "name": "stdout",
     "output_type": "stream",
     "text": [
      "/kaggle/input/titanic/train.csv\n",
      "/kaggle/input/titanic/test.csv\n",
      "/kaggle/input/titanic/gender_submission.csv\n"
     ]
    }
   ],
   "source": [
    "# This Python 3 environment comes with many helpful analytics libraries installed\n",
    "# It is defined by the kaggle/python Docker image: https://github.com/kaggle/docker-python\n",
    "# For example, here's several helpful packages to load\n",
    "\n",
    "import numpy as np # linear algebra\n",
    "import pandas as pd # data processing, CSV file I/O (e.g. pd.read_csv)\n",
    "import matplotlib.pyplot as plt \n",
    "%matplotlib inline\n",
    "from sklearn.model_selection import train_test_split\n",
    "from sklearn.preprocessing import LabelEncoder\n",
    "# Input data files are available in the read-only \"../input/\" directory\n",
    "# For example, running this (by clicking run or pressing Shift+Enter) will list all files under the input directory\n",
    "import seaborn as sns\n",
    "import os\n",
    "for dirname, _, filenames in os.walk('/kaggle/input'):\n",
    "    for filename in filenames:\n",
    "        print(os.path.join(dirname, filename))\n",
    "\n",
    "# You can write up to 20GB to the current directory (/kaggle/working/) that gets preserved as output when you create a version using \"Save & Run All\" \n",
    "# You can also write temporary files to /kaggle/temp/, but they won't be saved outside of the current session"
   ]
  },
  {
   "cell_type": "code",
   "execution_count": 2,
   "metadata": {
    "_cell_guid": "79c7e3d0-c299-4dcb-8224-4455121ee9b0",
    "_uuid": "d629ff2d2480ee46fbb7e2d37f6b5fab8052498a",
    "execution": {
     "iopub.execute_input": "2021-01-12T17:05:16.004676Z",
     "iopub.status.busy": "2021-01-12T17:05:16.003976Z",
     "iopub.status.idle": "2021-01-12T17:05:16.074069Z",
     "shell.execute_reply": "2021-01-12T17:05:16.073343Z"
    },
    "papermill": {
     "duration": 0.118364,
     "end_time": "2021-01-12T17:05:16.074198",
     "exception": false,
     "start_time": "2021-01-12T17:05:15.955834",
     "status": "completed"
    },
    "tags": []
   },
   "outputs": [
    {
     "data": {
      "text/html": [
       "<div>\n",
       "<style scoped>\n",
       "    .dataframe tbody tr th:only-of-type {\n",
       "        vertical-align: middle;\n",
       "    }\n",
       "\n",
       "    .dataframe tbody tr th {\n",
       "        vertical-align: top;\n",
       "    }\n",
       "\n",
       "    .dataframe thead th {\n",
       "        text-align: right;\n",
       "    }\n",
       "</style>\n",
       "<table border=\"1\" class=\"dataframe\">\n",
       "  <thead>\n",
       "    <tr style=\"text-align: right;\">\n",
       "      <th></th>\n",
       "      <th>PassengerId</th>\n",
       "      <th>Survived</th>\n",
       "      <th>Pclass</th>\n",
       "      <th>Name</th>\n",
       "      <th>Sex</th>\n",
       "      <th>Age</th>\n",
       "      <th>SibSp</th>\n",
       "      <th>Parch</th>\n",
       "      <th>Ticket</th>\n",
       "      <th>Fare</th>\n",
       "      <th>Cabin</th>\n",
       "      <th>Embarked</th>\n",
       "    </tr>\n",
       "  </thead>\n",
       "  <tbody>\n",
       "    <tr>\n",
       "      <th>0</th>\n",
       "      <td>1</td>\n",
       "      <td>0</td>\n",
       "      <td>3</td>\n",
       "      <td>Braund, Mr. Owen Harris</td>\n",
       "      <td>male</td>\n",
       "      <td>22.0</td>\n",
       "      <td>1</td>\n",
       "      <td>0</td>\n",
       "      <td>A/5 21171</td>\n",
       "      <td>7.2500</td>\n",
       "      <td>NaN</td>\n",
       "      <td>S</td>\n",
       "    </tr>\n",
       "    <tr>\n",
       "      <th>1</th>\n",
       "      <td>2</td>\n",
       "      <td>1</td>\n",
       "      <td>1</td>\n",
       "      <td>Cumings, Mrs. John Bradley (Florence Briggs Th...</td>\n",
       "      <td>female</td>\n",
       "      <td>38.0</td>\n",
       "      <td>1</td>\n",
       "      <td>0</td>\n",
       "      <td>PC 17599</td>\n",
       "      <td>71.2833</td>\n",
       "      <td>C85</td>\n",
       "      <td>C</td>\n",
       "    </tr>\n",
       "    <tr>\n",
       "      <th>2</th>\n",
       "      <td>3</td>\n",
       "      <td>1</td>\n",
       "      <td>3</td>\n",
       "      <td>Heikkinen, Miss. Laina</td>\n",
       "      <td>female</td>\n",
       "      <td>26.0</td>\n",
       "      <td>0</td>\n",
       "      <td>0</td>\n",
       "      <td>STON/O2. 3101282</td>\n",
       "      <td>7.9250</td>\n",
       "      <td>NaN</td>\n",
       "      <td>S</td>\n",
       "    </tr>\n",
       "    <tr>\n",
       "      <th>3</th>\n",
       "      <td>4</td>\n",
       "      <td>1</td>\n",
       "      <td>1</td>\n",
       "      <td>Futrelle, Mrs. Jacques Heath (Lily May Peel)</td>\n",
       "      <td>female</td>\n",
       "      <td>35.0</td>\n",
       "      <td>1</td>\n",
       "      <td>0</td>\n",
       "      <td>113803</td>\n",
       "      <td>53.1000</td>\n",
       "      <td>C123</td>\n",
       "      <td>S</td>\n",
       "    </tr>\n",
       "    <tr>\n",
       "      <th>4</th>\n",
       "      <td>5</td>\n",
       "      <td>0</td>\n",
       "      <td>3</td>\n",
       "      <td>Allen, Mr. William Henry</td>\n",
       "      <td>male</td>\n",
       "      <td>35.0</td>\n",
       "      <td>0</td>\n",
       "      <td>0</td>\n",
       "      <td>373450</td>\n",
       "      <td>8.0500</td>\n",
       "      <td>NaN</td>\n",
       "      <td>S</td>\n",
       "    </tr>\n",
       "    <tr>\n",
       "      <th>...</th>\n",
       "      <td>...</td>\n",
       "      <td>...</td>\n",
       "      <td>...</td>\n",
       "      <td>...</td>\n",
       "      <td>...</td>\n",
       "      <td>...</td>\n",
       "      <td>...</td>\n",
       "      <td>...</td>\n",
       "      <td>...</td>\n",
       "      <td>...</td>\n",
       "      <td>...</td>\n",
       "      <td>...</td>\n",
       "    </tr>\n",
       "    <tr>\n",
       "      <th>886</th>\n",
       "      <td>887</td>\n",
       "      <td>0</td>\n",
       "      <td>2</td>\n",
       "      <td>Montvila, Rev. Juozas</td>\n",
       "      <td>male</td>\n",
       "      <td>27.0</td>\n",
       "      <td>0</td>\n",
       "      <td>0</td>\n",
       "      <td>211536</td>\n",
       "      <td>13.0000</td>\n",
       "      <td>NaN</td>\n",
       "      <td>S</td>\n",
       "    </tr>\n",
       "    <tr>\n",
       "      <th>887</th>\n",
       "      <td>888</td>\n",
       "      <td>1</td>\n",
       "      <td>1</td>\n",
       "      <td>Graham, Miss. Margaret Edith</td>\n",
       "      <td>female</td>\n",
       "      <td>19.0</td>\n",
       "      <td>0</td>\n",
       "      <td>0</td>\n",
       "      <td>112053</td>\n",
       "      <td>30.0000</td>\n",
       "      <td>B42</td>\n",
       "      <td>S</td>\n",
       "    </tr>\n",
       "    <tr>\n",
       "      <th>888</th>\n",
       "      <td>889</td>\n",
       "      <td>0</td>\n",
       "      <td>3</td>\n",
       "      <td>Johnston, Miss. Catherine Helen \"Carrie\"</td>\n",
       "      <td>female</td>\n",
       "      <td>NaN</td>\n",
       "      <td>1</td>\n",
       "      <td>2</td>\n",
       "      <td>W./C. 6607</td>\n",
       "      <td>23.4500</td>\n",
       "      <td>NaN</td>\n",
       "      <td>S</td>\n",
       "    </tr>\n",
       "    <tr>\n",
       "      <th>889</th>\n",
       "      <td>890</td>\n",
       "      <td>1</td>\n",
       "      <td>1</td>\n",
       "      <td>Behr, Mr. Karl Howell</td>\n",
       "      <td>male</td>\n",
       "      <td>26.0</td>\n",
       "      <td>0</td>\n",
       "      <td>0</td>\n",
       "      <td>111369</td>\n",
       "      <td>30.0000</td>\n",
       "      <td>C148</td>\n",
       "      <td>C</td>\n",
       "    </tr>\n",
       "    <tr>\n",
       "      <th>890</th>\n",
       "      <td>891</td>\n",
       "      <td>0</td>\n",
       "      <td>3</td>\n",
       "      <td>Dooley, Mr. Patrick</td>\n",
       "      <td>male</td>\n",
       "      <td>32.0</td>\n",
       "      <td>0</td>\n",
       "      <td>0</td>\n",
       "      <td>370376</td>\n",
       "      <td>7.7500</td>\n",
       "      <td>NaN</td>\n",
       "      <td>Q</td>\n",
       "    </tr>\n",
       "  </tbody>\n",
       "</table>\n",
       "<p>891 rows × 12 columns</p>\n",
       "</div>"
      ],
      "text/plain": [
       "     PassengerId  Survived  Pclass  \\\n",
       "0              1         0       3   \n",
       "1              2         1       1   \n",
       "2              3         1       3   \n",
       "3              4         1       1   \n",
       "4              5         0       3   \n",
       "..           ...       ...     ...   \n",
       "886          887         0       2   \n",
       "887          888         1       1   \n",
       "888          889         0       3   \n",
       "889          890         1       1   \n",
       "890          891         0       3   \n",
       "\n",
       "                                                  Name     Sex   Age  SibSp  \\\n",
       "0                              Braund, Mr. Owen Harris    male  22.0      1   \n",
       "1    Cumings, Mrs. John Bradley (Florence Briggs Th...  female  38.0      1   \n",
       "2                               Heikkinen, Miss. Laina  female  26.0      0   \n",
       "3         Futrelle, Mrs. Jacques Heath (Lily May Peel)  female  35.0      1   \n",
       "4                             Allen, Mr. William Henry    male  35.0      0   \n",
       "..                                                 ...     ...   ...    ...   \n",
       "886                              Montvila, Rev. Juozas    male  27.0      0   \n",
       "887                       Graham, Miss. Margaret Edith  female  19.0      0   \n",
       "888           Johnston, Miss. Catherine Helen \"Carrie\"  female   NaN      1   \n",
       "889                              Behr, Mr. Karl Howell    male  26.0      0   \n",
       "890                                Dooley, Mr. Patrick    male  32.0      0   \n",
       "\n",
       "     Parch            Ticket     Fare Cabin Embarked  \n",
       "0        0         A/5 21171   7.2500   NaN        S  \n",
       "1        0          PC 17599  71.2833   C85        C  \n",
       "2        0  STON/O2. 3101282   7.9250   NaN        S  \n",
       "3        0            113803  53.1000  C123        S  \n",
       "4        0            373450   8.0500   NaN        S  \n",
       "..     ...               ...      ...   ...      ...  \n",
       "886      0            211536  13.0000   NaN        S  \n",
       "887      0            112053  30.0000   B42        S  \n",
       "888      2        W./C. 6607  23.4500   NaN        S  \n",
       "889      0            111369  30.0000  C148        C  \n",
       "890      0            370376   7.7500   NaN        Q  \n",
       "\n",
       "[891 rows x 12 columns]"
      ]
     },
     "execution_count": 2,
     "metadata": {},
     "output_type": "execute_result"
    }
   ],
   "source": [
    "df = pd.read_csv('../input/titanic/train.csv')\n",
    "df_test = pd.read_csv('../input/titanic/test.csv')\n",
    "df"
   ]
  },
  {
   "cell_type": "code",
   "execution_count": 3,
   "metadata": {
    "execution": {
     "iopub.execute_input": "2021-01-12T17:05:16.153837Z",
     "iopub.status.busy": "2021-01-12T17:05:16.153057Z",
     "iopub.status.idle": "2021-01-12T17:05:16.171298Z",
     "shell.execute_reply": "2021-01-12T17:05:16.171857Z"
    },
    "papermill": {
     "duration": 0.059824,
     "end_time": "2021-01-12T17:05:16.172031",
     "exception": false,
     "start_time": "2021-01-12T17:05:16.112207",
     "status": "completed"
    },
    "tags": []
   },
   "outputs": [
    {
     "data": {
      "text/html": [
       "<div>\n",
       "<style scoped>\n",
       "    .dataframe tbody tr th:only-of-type {\n",
       "        vertical-align: middle;\n",
       "    }\n",
       "\n",
       "    .dataframe tbody tr th {\n",
       "        vertical-align: top;\n",
       "    }\n",
       "\n",
       "    .dataframe thead th {\n",
       "        text-align: right;\n",
       "    }\n",
       "</style>\n",
       "<table border=\"1\" class=\"dataframe\">\n",
       "  <thead>\n",
       "    <tr style=\"text-align: right;\">\n",
       "      <th></th>\n",
       "      <th>PassengerId</th>\n",
       "      <th>Survived</th>\n",
       "      <th>Pclass</th>\n",
       "      <th>Name</th>\n",
       "      <th>Sex</th>\n",
       "      <th>Age</th>\n",
       "      <th>SibSp</th>\n",
       "      <th>Parch</th>\n",
       "      <th>Ticket</th>\n",
       "      <th>Fare</th>\n",
       "      <th>Cabin</th>\n",
       "      <th>Embarked</th>\n",
       "    </tr>\n",
       "  </thead>\n",
       "  <tbody>\n",
       "    <tr>\n",
       "      <th>0</th>\n",
       "      <td>1</td>\n",
       "      <td>0</td>\n",
       "      <td>3</td>\n",
       "      <td>Braund, Mr. Owen Harris</td>\n",
       "      <td>male</td>\n",
       "      <td>22.0</td>\n",
       "      <td>1</td>\n",
       "      <td>0</td>\n",
       "      <td>A/5 21171</td>\n",
       "      <td>7.2500</td>\n",
       "      <td>NaN</td>\n",
       "      <td>S</td>\n",
       "    </tr>\n",
       "    <tr>\n",
       "      <th>1</th>\n",
       "      <td>2</td>\n",
       "      <td>1</td>\n",
       "      <td>1</td>\n",
       "      <td>Cumings, Mrs. John Bradley (Florence Briggs Th...</td>\n",
       "      <td>female</td>\n",
       "      <td>38.0</td>\n",
       "      <td>1</td>\n",
       "      <td>0</td>\n",
       "      <td>PC 17599</td>\n",
       "      <td>71.2833</td>\n",
       "      <td>C85</td>\n",
       "      <td>C</td>\n",
       "    </tr>\n",
       "    <tr>\n",
       "      <th>2</th>\n",
       "      <td>3</td>\n",
       "      <td>1</td>\n",
       "      <td>3</td>\n",
       "      <td>Heikkinen, Miss. Laina</td>\n",
       "      <td>female</td>\n",
       "      <td>26.0</td>\n",
       "      <td>0</td>\n",
       "      <td>0</td>\n",
       "      <td>STON/O2. 3101282</td>\n",
       "      <td>7.9250</td>\n",
       "      <td>NaN</td>\n",
       "      <td>S</td>\n",
       "    </tr>\n",
       "    <tr>\n",
       "      <th>3</th>\n",
       "      <td>4</td>\n",
       "      <td>1</td>\n",
       "      <td>1</td>\n",
       "      <td>Futrelle, Mrs. Jacques Heath (Lily May Peel)</td>\n",
       "      <td>female</td>\n",
       "      <td>35.0</td>\n",
       "      <td>1</td>\n",
       "      <td>0</td>\n",
       "      <td>113803</td>\n",
       "      <td>53.1000</td>\n",
       "      <td>C123</td>\n",
       "      <td>S</td>\n",
       "    </tr>\n",
       "    <tr>\n",
       "      <th>4</th>\n",
       "      <td>5</td>\n",
       "      <td>0</td>\n",
       "      <td>3</td>\n",
       "      <td>Allen, Mr. William Henry</td>\n",
       "      <td>male</td>\n",
       "      <td>35.0</td>\n",
       "      <td>0</td>\n",
       "      <td>0</td>\n",
       "      <td>373450</td>\n",
       "      <td>8.0500</td>\n",
       "      <td>NaN</td>\n",
       "      <td>S</td>\n",
       "    </tr>\n",
       "  </tbody>\n",
       "</table>\n",
       "</div>"
      ],
      "text/plain": [
       "   PassengerId  Survived  Pclass  \\\n",
       "0            1         0       3   \n",
       "1            2         1       1   \n",
       "2            3         1       3   \n",
       "3            4         1       1   \n",
       "4            5         0       3   \n",
       "\n",
       "                                                Name     Sex   Age  SibSp  \\\n",
       "0                            Braund, Mr. Owen Harris    male  22.0      1   \n",
       "1  Cumings, Mrs. John Bradley (Florence Briggs Th...  female  38.0      1   \n",
       "2                             Heikkinen, Miss. Laina  female  26.0      0   \n",
       "3       Futrelle, Mrs. Jacques Heath (Lily May Peel)  female  35.0      1   \n",
       "4                           Allen, Mr. William Henry    male  35.0      0   \n",
       "\n",
       "   Parch            Ticket     Fare Cabin Embarked  \n",
       "0      0         A/5 21171   7.2500   NaN        S  \n",
       "1      0          PC 17599  71.2833   C85        C  \n",
       "2      0  STON/O2. 3101282   7.9250   NaN        S  \n",
       "3      0            113803  53.1000  C123        S  \n",
       "4      0            373450   8.0500   NaN        S  "
      ]
     },
     "execution_count": 3,
     "metadata": {},
     "output_type": "execute_result"
    }
   ],
   "source": [
    "df.head()\n"
   ]
  },
  {
   "cell_type": "code",
   "execution_count": 4,
   "metadata": {
    "execution": {
     "iopub.execute_input": "2021-01-12T17:05:16.261504Z",
     "iopub.status.busy": "2021-01-12T17:05:16.260819Z",
     "iopub.status.idle": "2021-01-12T17:05:16.298521Z",
     "shell.execute_reply": "2021-01-12T17:05:16.299146Z"
    },
    "papermill": {
     "duration": 0.083589,
     "end_time": "2021-01-12T17:05:16.299300",
     "exception": false,
     "start_time": "2021-01-12T17:05:16.215711",
     "status": "completed"
    },
    "tags": []
   },
   "outputs": [
    {
     "data": {
      "text/html": [
       "<div>\n",
       "<style scoped>\n",
       "    .dataframe tbody tr th:only-of-type {\n",
       "        vertical-align: middle;\n",
       "    }\n",
       "\n",
       "    .dataframe tbody tr th {\n",
       "        vertical-align: top;\n",
       "    }\n",
       "\n",
       "    .dataframe thead th {\n",
       "        text-align: right;\n",
       "    }\n",
       "</style>\n",
       "<table border=\"1\" class=\"dataframe\">\n",
       "  <thead>\n",
       "    <tr style=\"text-align: right;\">\n",
       "      <th></th>\n",
       "      <th>PassengerId</th>\n",
       "      <th>Survived</th>\n",
       "      <th>Pclass</th>\n",
       "      <th>Age</th>\n",
       "      <th>SibSp</th>\n",
       "      <th>Parch</th>\n",
       "      <th>Fare</th>\n",
       "    </tr>\n",
       "  </thead>\n",
       "  <tbody>\n",
       "    <tr>\n",
       "      <th>count</th>\n",
       "      <td>891.000000</td>\n",
       "      <td>891.000000</td>\n",
       "      <td>891.000000</td>\n",
       "      <td>714.000000</td>\n",
       "      <td>891.000000</td>\n",
       "      <td>891.000000</td>\n",
       "      <td>891.000000</td>\n",
       "    </tr>\n",
       "    <tr>\n",
       "      <th>mean</th>\n",
       "      <td>446.000000</td>\n",
       "      <td>0.383838</td>\n",
       "      <td>2.308642</td>\n",
       "      <td>29.699118</td>\n",
       "      <td>0.523008</td>\n",
       "      <td>0.381594</td>\n",
       "      <td>32.204208</td>\n",
       "    </tr>\n",
       "    <tr>\n",
       "      <th>std</th>\n",
       "      <td>257.353842</td>\n",
       "      <td>0.486592</td>\n",
       "      <td>0.836071</td>\n",
       "      <td>14.526497</td>\n",
       "      <td>1.102743</td>\n",
       "      <td>0.806057</td>\n",
       "      <td>49.693429</td>\n",
       "    </tr>\n",
       "    <tr>\n",
       "      <th>min</th>\n",
       "      <td>1.000000</td>\n",
       "      <td>0.000000</td>\n",
       "      <td>1.000000</td>\n",
       "      <td>0.420000</td>\n",
       "      <td>0.000000</td>\n",
       "      <td>0.000000</td>\n",
       "      <td>0.000000</td>\n",
       "    </tr>\n",
       "    <tr>\n",
       "      <th>25%</th>\n",
       "      <td>223.500000</td>\n",
       "      <td>0.000000</td>\n",
       "      <td>2.000000</td>\n",
       "      <td>20.125000</td>\n",
       "      <td>0.000000</td>\n",
       "      <td>0.000000</td>\n",
       "      <td>7.910400</td>\n",
       "    </tr>\n",
       "    <tr>\n",
       "      <th>50%</th>\n",
       "      <td>446.000000</td>\n",
       "      <td>0.000000</td>\n",
       "      <td>3.000000</td>\n",
       "      <td>28.000000</td>\n",
       "      <td>0.000000</td>\n",
       "      <td>0.000000</td>\n",
       "      <td>14.454200</td>\n",
       "    </tr>\n",
       "    <tr>\n",
       "      <th>75%</th>\n",
       "      <td>668.500000</td>\n",
       "      <td>1.000000</td>\n",
       "      <td>3.000000</td>\n",
       "      <td>38.000000</td>\n",
       "      <td>1.000000</td>\n",
       "      <td>0.000000</td>\n",
       "      <td>31.000000</td>\n",
       "    </tr>\n",
       "    <tr>\n",
       "      <th>max</th>\n",
       "      <td>891.000000</td>\n",
       "      <td>1.000000</td>\n",
       "      <td>3.000000</td>\n",
       "      <td>80.000000</td>\n",
       "      <td>8.000000</td>\n",
       "      <td>6.000000</td>\n",
       "      <td>512.329200</td>\n",
       "    </tr>\n",
       "  </tbody>\n",
       "</table>\n",
       "</div>"
      ],
      "text/plain": [
       "       PassengerId    Survived      Pclass         Age       SibSp  \\\n",
       "count   891.000000  891.000000  891.000000  714.000000  891.000000   \n",
       "mean    446.000000    0.383838    2.308642   29.699118    0.523008   \n",
       "std     257.353842    0.486592    0.836071   14.526497    1.102743   \n",
       "min       1.000000    0.000000    1.000000    0.420000    0.000000   \n",
       "25%     223.500000    0.000000    2.000000   20.125000    0.000000   \n",
       "50%     446.000000    0.000000    3.000000   28.000000    0.000000   \n",
       "75%     668.500000    1.000000    3.000000   38.000000    1.000000   \n",
       "max     891.000000    1.000000    3.000000   80.000000    8.000000   \n",
       "\n",
       "            Parch        Fare  \n",
       "count  891.000000  891.000000  \n",
       "mean     0.381594   32.204208  \n",
       "std      0.806057   49.693429  \n",
       "min      0.000000    0.000000  \n",
       "25%      0.000000    7.910400  \n",
       "50%      0.000000   14.454200  \n",
       "75%      0.000000   31.000000  \n",
       "max      6.000000  512.329200  "
      ]
     },
     "execution_count": 4,
     "metadata": {},
     "output_type": "execute_result"
    }
   ],
   "source": [
    "df.describe()"
   ]
  },
  {
   "cell_type": "code",
   "execution_count": 5,
   "metadata": {
    "execution": {
     "iopub.execute_input": "2021-01-12T17:05:16.400418Z",
     "iopub.status.busy": "2021-01-12T17:05:16.389564Z",
     "iopub.status.idle": "2021-01-12T17:05:16.405249Z",
     "shell.execute_reply": "2021-01-12T17:05:16.405867Z"
    },
    "papermill": {
     "duration": 0.064271,
     "end_time": "2021-01-12T17:05:16.406020",
     "exception": false,
     "start_time": "2021-01-12T17:05:16.341749",
     "status": "completed"
    },
    "tags": []
   },
   "outputs": [
    {
     "data": {
      "text/html": [
       "<div>\n",
       "<style scoped>\n",
       "    .dataframe tbody tr th:only-of-type {\n",
       "        vertical-align: middle;\n",
       "    }\n",
       "\n",
       "    .dataframe tbody tr th {\n",
       "        vertical-align: top;\n",
       "    }\n",
       "\n",
       "    .dataframe thead th {\n",
       "        text-align: right;\n",
       "    }\n",
       "</style>\n",
       "<table border=\"1\" class=\"dataframe\">\n",
       "  <thead>\n",
       "    <tr style=\"text-align: right;\">\n",
       "      <th></th>\n",
       "      <th>PassengerId</th>\n",
       "      <th>Survived</th>\n",
       "      <th>Pclass</th>\n",
       "      <th>Age</th>\n",
       "      <th>SibSp</th>\n",
       "      <th>Parch</th>\n",
       "      <th>Fare</th>\n",
       "    </tr>\n",
       "  </thead>\n",
       "  <tbody>\n",
       "    <tr>\n",
       "      <th>PassengerId</th>\n",
       "      <td>1.000000</td>\n",
       "      <td>-0.005007</td>\n",
       "      <td>-0.035144</td>\n",
       "      <td>0.036847</td>\n",
       "      <td>-0.057527</td>\n",
       "      <td>-0.001652</td>\n",
       "      <td>0.012658</td>\n",
       "    </tr>\n",
       "    <tr>\n",
       "      <th>Survived</th>\n",
       "      <td>-0.005007</td>\n",
       "      <td>1.000000</td>\n",
       "      <td>-0.338481</td>\n",
       "      <td>-0.077221</td>\n",
       "      <td>-0.035322</td>\n",
       "      <td>0.081629</td>\n",
       "      <td>0.257307</td>\n",
       "    </tr>\n",
       "    <tr>\n",
       "      <th>Pclass</th>\n",
       "      <td>-0.035144</td>\n",
       "      <td>-0.338481</td>\n",
       "      <td>1.000000</td>\n",
       "      <td>-0.369226</td>\n",
       "      <td>0.083081</td>\n",
       "      <td>0.018443</td>\n",
       "      <td>-0.549500</td>\n",
       "    </tr>\n",
       "    <tr>\n",
       "      <th>Age</th>\n",
       "      <td>0.036847</td>\n",
       "      <td>-0.077221</td>\n",
       "      <td>-0.369226</td>\n",
       "      <td>1.000000</td>\n",
       "      <td>-0.308247</td>\n",
       "      <td>-0.189119</td>\n",
       "      <td>0.096067</td>\n",
       "    </tr>\n",
       "    <tr>\n",
       "      <th>SibSp</th>\n",
       "      <td>-0.057527</td>\n",
       "      <td>-0.035322</td>\n",
       "      <td>0.083081</td>\n",
       "      <td>-0.308247</td>\n",
       "      <td>1.000000</td>\n",
       "      <td>0.414838</td>\n",
       "      <td>0.159651</td>\n",
       "    </tr>\n",
       "    <tr>\n",
       "      <th>Parch</th>\n",
       "      <td>-0.001652</td>\n",
       "      <td>0.081629</td>\n",
       "      <td>0.018443</td>\n",
       "      <td>-0.189119</td>\n",
       "      <td>0.414838</td>\n",
       "      <td>1.000000</td>\n",
       "      <td>0.216225</td>\n",
       "    </tr>\n",
       "    <tr>\n",
       "      <th>Fare</th>\n",
       "      <td>0.012658</td>\n",
       "      <td>0.257307</td>\n",
       "      <td>-0.549500</td>\n",
       "      <td>0.096067</td>\n",
       "      <td>0.159651</td>\n",
       "      <td>0.216225</td>\n",
       "      <td>1.000000</td>\n",
       "    </tr>\n",
       "  </tbody>\n",
       "</table>\n",
       "</div>"
      ],
      "text/plain": [
       "             PassengerId  Survived    Pclass       Age     SibSp     Parch  \\\n",
       "PassengerId     1.000000 -0.005007 -0.035144  0.036847 -0.057527 -0.001652   \n",
       "Survived       -0.005007  1.000000 -0.338481 -0.077221 -0.035322  0.081629   \n",
       "Pclass         -0.035144 -0.338481  1.000000 -0.369226  0.083081  0.018443   \n",
       "Age             0.036847 -0.077221 -0.369226  1.000000 -0.308247 -0.189119   \n",
       "SibSp          -0.057527 -0.035322  0.083081 -0.308247  1.000000  0.414838   \n",
       "Parch          -0.001652  0.081629  0.018443 -0.189119  0.414838  1.000000   \n",
       "Fare            0.012658  0.257307 -0.549500  0.096067  0.159651  0.216225   \n",
       "\n",
       "                 Fare  \n",
       "PassengerId  0.012658  \n",
       "Survived     0.257307  \n",
       "Pclass      -0.549500  \n",
       "Age          0.096067  \n",
       "SibSp        0.159651  \n",
       "Parch        0.216225  \n",
       "Fare         1.000000  "
      ]
     },
     "execution_count": 5,
     "metadata": {},
     "output_type": "execute_result"
    }
   ],
   "source": [
    "df.corr()"
   ]
  },
  {
   "cell_type": "code",
   "execution_count": 6,
   "metadata": {
    "execution": {
     "iopub.execute_input": "2021-01-12T17:05:16.496436Z",
     "iopub.status.busy": "2021-01-12T17:05:16.495404Z",
     "iopub.status.idle": "2021-01-12T17:05:16.500432Z",
     "shell.execute_reply": "2021-01-12T17:05:16.499758Z"
    },
    "papermill": {
     "duration": 0.052818,
     "end_time": "2021-01-12T17:05:16.500544",
     "exception": false,
     "start_time": "2021-01-12T17:05:16.447726",
     "status": "completed"
    },
    "tags": []
   },
   "outputs": [
    {
     "data": {
      "text/plain": [
       "PassengerId      0\n",
       "Survived         0\n",
       "Pclass           0\n",
       "Name             0\n",
       "Sex              0\n",
       "Age            177\n",
       "SibSp            0\n",
       "Parch            0\n",
       "Ticket           0\n",
       "Fare             0\n",
       "Cabin          687\n",
       "Embarked         2\n",
       "dtype: int64"
      ]
     },
     "execution_count": 6,
     "metadata": {},
     "output_type": "execute_result"
    }
   ],
   "source": [
    "df.isna().sum()"
   ]
  },
  {
   "cell_type": "code",
   "execution_count": 7,
   "metadata": {
    "execution": {
     "iopub.execute_input": "2021-01-12T17:05:16.590291Z",
     "iopub.status.busy": "2021-01-12T17:05:16.589176Z",
     "iopub.status.idle": "2021-01-12T17:05:16.592533Z",
     "shell.execute_reply": "2021-01-12T17:05:16.593048Z"
    },
    "papermill": {
     "duration": 0.052743,
     "end_time": "2021-01-12T17:05:16.593206",
     "exception": false,
     "start_time": "2021-01-12T17:05:16.540463",
     "status": "completed"
    },
    "tags": []
   },
   "outputs": [],
   "source": [
    "df = df.drop('Cabin',axis = 1)\n",
    "df_test = df_test.drop('Cabin',axis = 1)"
   ]
  },
  {
   "cell_type": "code",
   "execution_count": 8,
   "metadata": {
    "execution": {
     "iopub.execute_input": "2021-01-12T17:05:16.682635Z",
     "iopub.status.busy": "2021-01-12T17:05:16.681425Z",
     "iopub.status.idle": "2021-01-12T17:05:16.685974Z",
     "shell.execute_reply": "2021-01-12T17:05:16.685257Z"
    },
    "papermill": {
     "duration": 0.051558,
     "end_time": "2021-01-12T17:05:16.686120",
     "exception": false,
     "start_time": "2021-01-12T17:05:16.634562",
     "status": "completed"
    },
    "tags": []
   },
   "outputs": [
    {
     "data": {
      "text/plain": [
       "Index(['PassengerId', 'Survived', 'Pclass', 'Name', 'Sex', 'Age', 'SibSp',\n",
       "       'Parch', 'Ticket', 'Fare', 'Embarked'],\n",
       "      dtype='object')"
      ]
     },
     "execution_count": 8,
     "metadata": {},
     "output_type": "execute_result"
    }
   ],
   "source": [
    "df.columns"
   ]
  },
  {
   "cell_type": "code",
   "execution_count": 9,
   "metadata": {
    "execution": {
     "iopub.execute_input": "2021-01-12T17:05:16.777060Z",
     "iopub.status.busy": "2021-01-12T17:05:16.776042Z",
     "iopub.status.idle": "2021-01-12T17:05:16.781006Z",
     "shell.execute_reply": "2021-01-12T17:05:16.780374Z"
    },
    "papermill": {
     "duration": 0.053579,
     "end_time": "2021-01-12T17:05:16.781130",
     "exception": false,
     "start_time": "2021-01-12T17:05:16.727551",
     "status": "completed"
    },
    "tags": []
   },
   "outputs": [
    {
     "data": {
      "text/plain": [
       "PassengerId      int64\n",
       "Survived         int64\n",
       "Pclass           int64\n",
       "Name            object\n",
       "Sex             object\n",
       "Age            float64\n",
       "SibSp            int64\n",
       "Parch            int64\n",
       "Ticket          object\n",
       "Fare           float64\n",
       "Embarked        object\n",
       "dtype: object"
      ]
     },
     "execution_count": 9,
     "metadata": {},
     "output_type": "execute_result"
    }
   ],
   "source": [
    "df.dtypes"
   ]
  },
  {
   "cell_type": "markdown",
   "metadata": {
    "papermill": {
     "duration": 0.040912,
     "end_time": "2021-01-12T17:05:16.865403",
     "exception": false,
     "start_time": "2021-01-12T17:05:16.824491",
     "status": "completed"
    },
    "tags": []
   },
   "source": [
    "## Some Visuals: To get more Insights"
   ]
  },
  {
   "cell_type": "code",
   "execution_count": 10,
   "metadata": {
    "execution": {
     "iopub.execute_input": "2021-01-12T17:05:16.956819Z",
     "iopub.status.busy": "2021-01-12T17:05:16.956106Z",
     "iopub.status.idle": "2021-01-12T17:05:17.145394Z",
     "shell.execute_reply": "2021-01-12T17:05:17.145946Z"
    },
    "papermill": {
     "duration": 0.239763,
     "end_time": "2021-01-12T17:05:17.146108",
     "exception": false,
     "start_time": "2021-01-12T17:05:16.906345",
     "status": "completed"
    },
    "tags": []
   },
   "outputs": [
    {
     "data": {
      "text/plain": [
       "<matplotlib.axes._subplots.AxesSubplot at 0x7f29bef01850>"
      ]
     },
     "execution_count": 10,
     "metadata": {},
     "output_type": "execute_result"
    },
    {
     "data": {
      "image/png": "[encoded data removed]",
      "text/plain": [
       "<Figure size 2160x720 with 1 Axes>"
      ]
     },
     "metadata": {},
     "output_type": "display_data"
    }
   ],
   "source": [
    "plt.figure(figsize=(30,10))\n",
    "plt.subplots_adjust(left=0.125, bottom=0.1, right=0.9, top=0.9,\n",
    "                      wspace=0.5, hspace=0.2)\n",
    "plt.subplot(141)\n",
    "plt.title('Embarked!',fontsize = 30)\n",
    "df['Embarked'].value_counts().plot.pie(autopct=\"%1.1f%%\")"
   ]
  },
  {
   "cell_type": "code",
   "execution_count": 11,
   "metadata": {
    "execution": {
     "iopub.execute_input": "2021-01-12T17:05:17.241357Z",
     "iopub.status.busy": "2021-01-12T17:05:17.240324Z",
     "iopub.status.idle": "2021-01-12T17:05:17.325674Z",
     "shell.execute_reply": "2021-01-12T17:05:17.326391Z"
    },
    "papermill": {
     "duration": 0.1324,
     "end_time": "2021-01-12T17:05:17.326558",
     "exception": false,
     "start_time": "2021-01-12T17:05:17.194158",
     "status": "completed"
    },
    "tags": []
   },
   "outputs": [
    {
     "data": {
      "text/plain": [
       "<matplotlib.axes._subplots.AxesSubplot at 0x7f29bc651d50>"
      ]
     },
     "execution_count": 11,
     "metadata": {},
     "output_type": "execute_result"
    },
    {
     "data": {
      "image/png": "[encoded data removed]",
      "text/plain": [
       "<Figure size 2160x720 with 1 Axes>"
      ]
     },
     "metadata": {},
     "output_type": "display_data"
    }
   ],
   "source": [
    "plt.figure(figsize=(30,10))\n",
    "plt.subplots_adjust(left=0.125, bottom=0.1, right=0.9, top=0.9,\n",
    "                      wspace=0.5, hspace=0.2)\n",
    "plt.subplot(141)\n",
    "plt.title('Embarked!',fontsize = 30)\n",
    "df['Embarked'].value_counts().plot.pie(autopct=\"%1.1f%%\")"
   ]
  },
  {
   "cell_type": "code",
   "execution_count": 12,
   "metadata": {
    "execution": {
     "iopub.execute_input": "2021-01-12T17:05:17.440183Z",
     "iopub.status.busy": "2021-01-12T17:05:17.438641Z",
     "iopub.status.idle": "2021-01-12T17:05:17.534646Z",
     "shell.execute_reply": "2021-01-12T17:05:17.535329Z"
    },
    "papermill": {
     "duration": 0.155336,
     "end_time": "2021-01-12T17:05:17.535488",
     "exception": false,
     "start_time": "2021-01-12T17:05:17.380152",
     "status": "completed"
    },
    "tags": []
   },
   "outputs": [
    {
     "data": {
      "text/plain": [
       "<matplotlib.axes._subplots.AxesSubplot at 0x7f29bcc59c10>"
      ]
     },
     "execution_count": 12,
     "metadata": {},
     "output_type": "execute_result"
    },
    {
     "data": {
      "image/png": "[encoded data removed]",
      "text/plain": [
       "<Figure size 2160x720 with 1 Axes>"
      ]
     },
     "metadata": {},
     "output_type": "display_data"
    }
   ],
   "source": [
    "plt.figure(figsize=(30,10))\n",
    "plt.subplots_adjust(left=0.125, bottom=0.1, right=0.9, top=0.9,\n",
    "                      wspace=0.5, hspace=0.2)\n",
    "plt.subplot(141)\n",
    "plt.title('Gender!',fontsize = 30)\n",
    "df['Sex'].value_counts().plot.pie(autopct=\"%1.1f%%\")"
   ]
  },
  {
   "cell_type": "code",
   "execution_count": 13,
   "metadata": {
    "execution": {
     "iopub.execute_input": "2021-01-12T17:05:17.638163Z",
     "iopub.status.busy": "2021-01-12T17:05:17.637137Z",
     "iopub.status.idle": "2021-01-12T17:05:17.735742Z",
     "shell.execute_reply": "2021-01-12T17:05:17.736296Z"
    },
    "papermill": {
     "duration": 0.148024,
     "end_time": "2021-01-12T17:05:17.736462",
     "exception": false,
     "start_time": "2021-01-12T17:05:17.588438",
     "status": "completed"
    },
    "tags": []
   },
   "outputs": [
    {
     "data": {
      "text/plain": [
       "<matplotlib.axes._subplots.AxesSubplot at 0x7f29bcc269d0>"
      ]
     },
     "execution_count": 13,
     "metadata": {},
     "output_type": "execute_result"
    },
    {
     "data": {
      "image/png": "[encoded data removed]",
      "text/plain": [
       "<Figure size 2160x720 with 1 Axes>"
      ]
     },
     "metadata": {},
     "output_type": "display_data"
    }
   ],
   "source": [
    "plt.figure(figsize=(30,10))\n",
    "plt.subplots_adjust(left=0.125, bottom=0.1, right=0.9, top=0.9,\n",
    "                      wspace=0.5, hspace=0.2)\n",
    "plt.subplot(141)\n",
    "plt.title('Parch!',fontsize = 30)\n",
    "df['Parch'].value_counts().plot.pie(autopct=\"%1.1f%%\")"
   ]
  },
  {
   "cell_type": "code",
   "execution_count": 14,
   "metadata": {
    "execution": {
     "iopub.execute_input": "2021-01-12T17:05:17.838012Z",
     "iopub.status.busy": "2021-01-12T17:05:17.836888Z",
     "iopub.status.idle": "2021-01-12T17:05:17.998431Z",
     "shell.execute_reply": "2021-01-12T17:05:17.999044Z"
    },
    "papermill": {
     "duration": 0.213376,
     "end_time": "2021-01-12T17:05:17.999200",
     "exception": false,
     "start_time": "2021-01-12T17:05:17.785824",
     "status": "completed"
    },
    "tags": []
   },
   "outputs": [
    {
     "data": {
      "text/plain": [
       "<matplotlib.axes._subplots.AxesSubplot at 0x7f29bcba5ad0>"
      ]
     },
     "execution_count": 14,
     "metadata": {},
     "output_type": "execute_result"
    },
    {
     "data": {
      "image/png": "[encoded data removed]",
      "text/plain": [
       "<Figure size 2160x720 with 1 Axes>"
      ]
     },
     "metadata": {},
     "output_type": "display_data"
    }
   ],
   "source": [
    "\n",
    "plt.figure(figsize=(30,10))\n",
    "plt.subplots_adjust(left=0.125, bottom=0.1, right=0.9, top=0.9,\n",
    "                      wspace=0.5, hspace=0.2)\n",
    "plt.subplot(141)\n",
    "plt.title('Pclass!',fontsize = 30)\n",
    "df['Pclass'].value_counts().plot.pie(autopct=\"%1.1f%%\")"
   ]
  },
  {
   "cell_type": "code",
   "execution_count": 15,
   "metadata": {
    "execution": {
     "iopub.execute_input": "2021-01-12T17:05:18.117784Z",
     "iopub.status.busy": "2021-01-12T17:05:18.116393Z",
     "iopub.status.idle": "2021-01-12T17:05:18.401312Z",
     "shell.execute_reply": "2021-01-12T17:05:18.400539Z"
    },
    "papermill": {
     "duration": 0.347292,
     "end_time": "2021-01-12T17:05:18.401442",
     "exception": false,
     "start_time": "2021-01-12T17:05:18.054150",
     "status": "completed"
    },
    "tags": []
   },
   "outputs": [
    {
     "data": {
      "text/plain": [
       "<seaborn.axisgrid.FacetGrid at 0x7f29bef69450>"
      ]
     },
     "execution_count": 15,
     "metadata": {},
     "output_type": "execute_result"
    },
    {
     "data": {
      "image/png": "[encoded data removed]",
      "text/plain": [
       "<Figure size 411.875x360 with 1 Axes>"
      ]
     },
     "metadata": {
      "needs_background": "light"
     },
     "output_type": "display_data"
    }
   ],
   "source": [
    "sns.catplot(x = 'Sex', hue = 'Survived',data = df, kind = 'count')"
   ]
  },
  {
   "cell_type": "code",
   "execution_count": 16,
   "metadata": {
    "execution": {
     "iopub.execute_input": "2021-01-12T17:05:18.524070Z",
     "iopub.status.busy": "2021-01-12T17:05:18.520561Z",
     "iopub.status.idle": "2021-01-12T17:05:18.699781Z",
     "shell.execute_reply": "2021-01-12T17:05:18.699174Z"
    },
    "papermill": {
     "duration": 0.243264,
     "end_time": "2021-01-12T17:05:18.699918",
     "exception": false,
     "start_time": "2021-01-12T17:05:18.456654",
     "status": "completed"
    },
    "tags": []
   },
   "outputs": [
    {
     "data": {
      "text/plain": [
       "<matplotlib.axes._subplots.AxesSubplot at 0x7f29bcac7110>"
      ]
     },
     "execution_count": 16,
     "metadata": {},
     "output_type": "execute_result"
    },
    {
     "data": {
      "image/png": "[encoded data removed]",
      "text/plain": [
       "<Figure size 720x432 with 1 Axes>"
      ]
     },
     "metadata": {
      "needs_background": "light"
     },
     "output_type": "display_data"
    }
   ],
   "source": [
    "plt.figure(figsize=(10,6))\n",
    "sns.countplot(y=\"Sex\",hue ='Embarked',data=df)"
   ]
  },
  {
   "cell_type": "code",
   "execution_count": 17,
   "metadata": {
    "execution": {
     "iopub.execute_input": "2021-01-12T17:05:18.811136Z",
     "iopub.status.busy": "2021-01-12T17:05:18.810148Z",
     "iopub.status.idle": "2021-01-12T17:05:18.997339Z",
     "shell.execute_reply": "2021-01-12T17:05:18.997816Z"
    },
    "papermill": {
     "duration": 0.247488,
     "end_time": "2021-01-12T17:05:18.997988",
     "exception": false,
     "start_time": "2021-01-12T17:05:18.750500",
     "status": "completed"
    },
    "tags": []
   },
   "outputs": [
    {
     "data": {
      "text/plain": [
       "<matplotlib.axes._subplots.AxesSubplot at 0x7f29bcacfa10>"
      ]
     },
     "execution_count": 17,
     "metadata": {},
     "output_type": "execute_result"
    },
    {
     "data": {
      "image/png": "[encoded data removed]",
      "text/plain": [
       "<Figure size 720x432 with 1 Axes>"
      ]
     },
     "metadata": {
      "needs_background": "light"
     },
     "output_type": "display_data"
    }
   ],
   "source": [
    "plt.figure(figsize=(10,6))\n",
    "sns.countplot(y=\"Embarked\",hue ='Survived',data=df)"
   ]
  },
  {
   "cell_type": "code",
   "execution_count": 18,
   "metadata": {
    "execution": {
     "iopub.execute_input": "2021-01-12T17:05:19.112816Z",
     "iopub.status.busy": "2021-01-12T17:05:19.112139Z",
     "iopub.status.idle": "2021-01-12T17:05:19.115316Z",
     "shell.execute_reply": "2021-01-12T17:05:19.115775Z"
    },
    "papermill": {
     "duration": 0.064171,
     "end_time": "2021-01-12T17:05:19.115938",
     "exception": false,
     "start_time": "2021-01-12T17:05:19.051767",
     "status": "completed"
    },
    "tags": []
   },
   "outputs": [],
   "source": [
    "Female = df[df['Sex'] == 'female']\n",
    "Male = df[df['Sex'] == 'male']"
   ]
  },
  {
   "cell_type": "code",
   "execution_count": 19,
   "metadata": {
    "execution": {
     "iopub.execute_input": "2021-01-12T17:05:19.228603Z",
     "iopub.status.busy": "2021-01-12T17:05:19.227484Z",
     "iopub.status.idle": "2021-01-12T17:05:19.232645Z",
     "shell.execute_reply": "2021-01-12T17:05:19.231974Z"
    },
    "papermill": {
     "duration": 0.064671,
     "end_time": "2021-01-12T17:05:19.232762",
     "exception": false,
     "start_time": "2021-01-12T17:05:19.168091",
     "status": "completed"
    },
    "tags": []
   },
   "outputs": [
    {
     "data": {
      "text/plain": [
       "array([38.  , 26.  , 35.  , 27.  , 14.  ,  4.  , 58.  , 55.  , 31.  ,\n",
       "         nan, 15.  ,  8.  , 18.  , 40.  ,  3.  , 19.  , 49.  , 29.  ,\n",
       "       21.  ,  5.  , 17.  , 16.  , 30.  , 33.  , 23.  , 34.  , 28.  ,\n",
       "       14.5 , 20.  ,  2.  , 32.5 , 47.  , 22.  , 24.  ,  9.  , 45.  ,\n",
       "        1.  , 50.  , 32.  , 44.  , 25.  , 41.  , 63.  , 36.  , 60.  ,\n",
       "       42.  , 10.  , 13.  ,  0.75, 54.  , 37.  ,  7.  , 11.  , 48.  ,\n",
       "       39.  , 53.  , 52.  , 43.  ,  6.  , 51.  , 30.5 , 57.  , 62.  ,\n",
       "       56.  ])"
      ]
     },
     "execution_count": 19,
     "metadata": {},
     "output_type": "execute_result"
    }
   ],
   "source": [
    "Female['Age'].unique()"
   ]
  },
  {
   "cell_type": "code",
   "execution_count": 20,
   "metadata": {
    "execution": {
     "iopub.execute_input": "2021-01-12T17:05:19.345522Z",
     "iopub.status.busy": "2021-01-12T17:05:19.344636Z",
     "iopub.status.idle": "2021-01-12T17:05:19.348327Z",
     "shell.execute_reply": "2021-01-12T17:05:19.348803Z"
    },
    "papermill": {
     "duration": 0.063876,
     "end_time": "2021-01-12T17:05:19.348966",
     "exception": false,
     "start_time": "2021-01-12T17:05:19.285090",
     "status": "completed"
    },
    "tags": []
   },
   "outputs": [
    {
     "data": {
      "text/plain": [
       "27.915708812260537"
      ]
     },
     "execution_count": 20,
     "metadata": {},
     "output_type": "execute_result"
    }
   ],
   "source": [
    "Female['Age'].mean()"
   ]
  },
  {
   "cell_type": "markdown",
   "metadata": {
    "papermill": {
     "duration": 0.052315,
     "end_time": "2021-01-12T17:05:19.453527",
     "exception": false,
     "start_time": "2021-01-12T17:05:19.401212",
     "status": "completed"
    },
    "tags": []
   },
   "source": [
    "### Distibution of female-age plot"
   ]
  },
  {
   "cell_type": "code",
   "execution_count": 21,
   "metadata": {
    "execution": {
     "iopub.execute_input": "2021-01-12T17:05:19.565171Z",
     "iopub.status.busy": "2021-01-12T17:05:19.564155Z",
     "iopub.status.idle": "2021-01-12T17:05:19.738331Z",
     "shell.execute_reply": "2021-01-12T17:05:19.738907Z"
    },
    "papermill": {
     "duration": 0.232023,
     "end_time": "2021-01-12T17:05:19.739073",
     "exception": false,
     "start_time": "2021-01-12T17:05:19.507050",
     "status": "completed"
    },
    "tags": []
   },
   "outputs": [
    {
     "data": {
      "text/plain": [
       "<matplotlib.axes._subplots.AxesSubplot at 0x7f29bc9dec50>"
      ]
     },
     "execution_count": 21,
     "metadata": {},
     "output_type": "execute_result"
    },
    {
     "data": {
      "image/png": "[encoded data removed]",
      "text/plain": [
       "<Figure size 432x288 with 1 Axes>"
      ]
     },
     "metadata": {
      "needs_background": "light"
     },
     "output_type": "display_data"
    }
   ],
   "source": [
    "sns.distplot(Female.Age.value_counts())"
   ]
  },
  {
   "cell_type": "markdown",
   "metadata": {
    "papermill": {
     "duration": 0.053464,
     "end_time": "2021-01-12T17:05:19.847210",
     "exception": false,
     "start_time": "2021-01-12T17:05:19.793746",
     "status": "completed"
    },
    "tags": []
   },
   "source": [
    "### Distibution of male-age plot"
   ]
  },
  {
   "cell_type": "code",
   "execution_count": 22,
   "metadata": {
    "execution": {
     "iopub.execute_input": "2021-01-12T17:05:19.960937Z",
     "iopub.status.busy": "2021-01-12T17:05:19.959575Z",
     "iopub.status.idle": "2021-01-12T17:05:19.967804Z",
     "shell.execute_reply": "2021-01-12T17:05:19.968315Z"
    },
    "papermill": {
     "duration": 0.066338,
     "end_time": "2021-01-12T17:05:19.968468",
     "exception": false,
     "start_time": "2021-01-12T17:05:19.902130",
     "status": "completed"
    },
    "tags": []
   },
   "outputs": [
    {
     "data": {
      "text/plain": [
       "array([22.  , 35.  ,   nan, 54.  ,  2.  , 20.  , 39.  , 34.  , 28.  ,\n",
       "       19.  , 40.  , 66.  , 42.  , 21.  ,  7.  , 65.  , 28.5 , 11.  ,\n",
       "       45.  ,  4.  , 26.  , 32.  , 25.  ,  0.83, 29.  , 16.  , 24.  ,\n",
       "       46.  , 59.  , 71.  , 23.  , 33.  , 37.  , 38.  , 47.  , 70.5 ,\n",
       "       32.5 , 12.  , 18.  , 27.  , 36.5 , 51.  , 55.5 , 40.5 , 30.  ,\n",
       "       44.  , 17.  ,  1.  ,  9.  , 61.  , 56.  , 36.  ,  3.  , 45.5 ,\n",
       "       20.5 , 62.  , 52.  , 23.5 ,  0.92, 43.  , 15.  , 50.  , 64.  ,\n",
       "       31.  , 49.  , 48.  , 58.  , 55.  ,  8.  , 60.  , 57.  , 80.  ,\n",
       "       70.  , 24.5 , 14.  ,  6.  ,  0.67, 41.  ,  0.42, 30.5 , 10.  ,\n",
       "       34.5 , 74.  ])"
      ]
     },
     "execution_count": 22,
     "metadata": {},
     "output_type": "execute_result"
    }
   ],
   "source": [
    "Male['Age'].unique()"
   ]
  },
  {
   "cell_type": "code",
   "execution_count": 23,
   "metadata": {
    "execution": {
     "iopub.execute_input": "2021-01-12T17:05:20.083118Z",
     "iopub.status.busy": "2021-01-12T17:05:20.082323Z",
     "iopub.status.idle": "2021-01-12T17:05:20.284252Z",
     "shell.execute_reply": "2021-01-12T17:05:20.283494Z"
    },
    "papermill": {
     "duration": 0.26059,
     "end_time": "2021-01-12T17:05:20.284381",
     "exception": false,
     "start_time": "2021-01-12T17:05:20.023791",
     "status": "completed"
    },
    "tags": []
   },
   "outputs": [
    {
     "data": {
      "text/plain": [
       "<matplotlib.axes._subplots.AxesSubplot at 0x7f29bc977850>"
      ]
     },
     "execution_count": 23,
     "metadata": {},
     "output_type": "execute_result"
    },
    {
     "data": {
      "image/png": "[encoded data removed]",
      "text/plain": [
       "<Figure size 432x288 with 1 Axes>"
      ]
     },
     "metadata": {
      "needs_background": "light"
     },
     "output_type": "display_data"
    }
   ],
   "source": [
    "sns.distplot(Male.Age.value_counts())"
   ]
  },
  {
   "cell_type": "code",
   "execution_count": 24,
   "metadata": {
    "execution": {
     "iopub.execute_input": "2021-01-12T17:05:20.403762Z",
     "iopub.status.busy": "2021-01-12T17:05:20.402859Z",
     "iopub.status.idle": "2021-01-12T17:05:20.408108Z",
     "shell.execute_reply": "2021-01-12T17:05:20.407359Z"
    },
    "papermill": {
     "duration": 0.066919,
     "end_time": "2021-01-12T17:05:20.408226",
     "exception": false,
     "start_time": "2021-01-12T17:05:20.341307",
     "status": "completed"
    },
    "tags": []
   },
   "outputs": [
    {
     "data": {
      "text/plain": [
       "30.72664459161148"
      ]
     },
     "execution_count": 24,
     "metadata": {},
     "output_type": "execute_result"
    }
   ],
   "source": [
    "Male['Age'].mean()"
   ]
  },
  {
   "cell_type": "markdown",
   "metadata": {
    "papermill": {
     "duration": 0.056118,
     "end_time": "2021-01-12T17:05:20.520762",
     "exception": false,
     "start_time": "2021-01-12T17:05:20.464644",
     "status": "completed"
    },
    "tags": []
   },
   "source": [
    "## Filling the missing values"
   ]
  },
  {
   "cell_type": "code",
   "execution_count": 25,
   "metadata": {
    "execution": {
     "iopub.execute_input": "2021-01-12T17:05:20.642331Z",
     "iopub.status.busy": "2021-01-12T17:05:20.640104Z",
     "iopub.status.idle": "2021-01-12T17:05:20.646663Z",
     "shell.execute_reply": "2021-01-12T17:05:20.646132Z"
    },
    "papermill": {
     "duration": 0.069123,
     "end_time": "2021-01-12T17:05:20.646792",
     "exception": false,
     "start_time": "2021-01-12T17:05:20.577669",
     "status": "completed"
    },
    "tags": []
   },
   "outputs": [],
   "source": [
    "df.Age.fillna(df.Age.mean(),inplace=True)\n",
    "df.Embarked.fillna(df.Embarked.mode,inplace=True)"
   ]
  },
  {
   "cell_type": "code",
   "execution_count": 26,
   "metadata": {
    "execution": {
     "iopub.execute_input": "2021-01-12T17:05:20.769864Z",
     "iopub.status.busy": "2021-01-12T17:05:20.768923Z",
     "iopub.status.idle": "2021-01-12T17:05:20.774578Z",
     "shell.execute_reply": "2021-01-12T17:05:20.773675Z"
    },
    "papermill": {
     "duration": 0.070965,
     "end_time": "2021-01-12T17:05:20.774701",
     "exception": false,
     "start_time": "2021-01-12T17:05:20.703736",
     "status": "completed"
    },
    "tags": []
   },
   "outputs": [
    {
     "data": {
      "text/plain": [
       "PassengerId    0\n",
       "Survived       0\n",
       "Pclass         0\n",
       "Name           0\n",
       "Sex            0\n",
       "Age            0\n",
       "SibSp          0\n",
       "Parch          0\n",
       "Ticket         0\n",
       "Fare           0\n",
       "Embarked       0\n",
       "dtype: int64"
      ]
     },
     "execution_count": 26,
     "metadata": {},
     "output_type": "execute_result"
    }
   ],
   "source": [
    "df.isnull().sum()\n"
   ]
  },
  {
   "cell_type": "code",
   "execution_count": 27,
   "metadata": {
    "execution": {
     "iopub.execute_input": "2021-01-12T17:05:20.896509Z",
     "iopub.status.busy": "2021-01-12T17:05:20.895697Z",
     "iopub.status.idle": "2021-01-12T17:05:20.900137Z",
     "shell.execute_reply": "2021-01-12T17:05:20.899434Z"
    },
    "papermill": {
     "duration": 0.068351,
     "end_time": "2021-01-12T17:05:20.900259",
     "exception": false,
     "start_time": "2021-01-12T17:05:20.831908",
     "status": "completed"
    },
    "tags": []
   },
   "outputs": [],
   "source": [
    "df.drop(['Name','PassengerId'],axis = 1,inplace=True)\n"
   ]
  },
  {
   "cell_type": "code",
   "execution_count": 28,
   "metadata": {
    "execution": {
     "iopub.execute_input": "2021-01-12T17:05:21.026886Z",
     "iopub.status.busy": "2021-01-12T17:05:21.023209Z",
     "iopub.status.idle": "2021-01-12T17:05:21.032726Z",
     "shell.execute_reply": "2021-01-12T17:05:21.033338Z"
    },
    "papermill": {
     "duration": 0.076115,
     "end_time": "2021-01-12T17:05:21.033493",
     "exception": false,
     "start_time": "2021-01-12T17:05:20.957378",
     "status": "completed"
    },
    "tags": []
   },
   "outputs": [],
   "source": [
    "df.drop(['Embarked'],axis= 1,inplace = True)\n",
    "df.drop('Ticket',axis = 1,inplace = True)\n",
    "df['Sex']=pd.get_dummies(df[['Sex']],drop_first=True)\n"
   ]
  },
  {
   "cell_type": "code",
   "execution_count": 29,
   "metadata": {
    "execution": {
     "iopub.execute_input": "2021-01-12T17:05:21.156376Z",
     "iopub.status.busy": "2021-01-12T17:05:21.155376Z",
     "iopub.status.idle": "2021-01-12T17:05:21.169454Z",
     "shell.execute_reply": "2021-01-12T17:05:21.168738Z"
    },
    "papermill": {
     "duration": 0.076421,
     "end_time": "2021-01-12T17:05:21.169578",
     "exception": false,
     "start_time": "2021-01-12T17:05:21.093157",
     "status": "completed"
    },
    "tags": []
   },
   "outputs": [
    {
     "data": {
      "text/html": [
       "<div>\n",
       "<style scoped>\n",
       "    .dataframe tbody tr th:only-of-type {\n",
       "        vertical-align: middle;\n",
       "    }\n",
       "\n",
       "    .dataframe tbody tr th {\n",
       "        vertical-align: top;\n",
       "    }\n",
       "\n",
       "    .dataframe thead th {\n",
       "        text-align: right;\n",
       "    }\n",
       "</style>\n",
       "<table border=\"1\" class=\"dataframe\">\n",
       "  <thead>\n",
       "    <tr style=\"text-align: right;\">\n",
       "      <th></th>\n",
       "      <th>Survived</th>\n",
       "      <th>Pclass</th>\n",
       "      <th>Sex</th>\n",
       "      <th>Age</th>\n",
       "      <th>SibSp</th>\n",
       "      <th>Parch</th>\n",
       "      <th>Fare</th>\n",
       "    </tr>\n",
       "  </thead>\n",
       "  <tbody>\n",
       "    <tr>\n",
       "      <th>0</th>\n",
       "      <td>0</td>\n",
       "      <td>3</td>\n",
       "      <td>1</td>\n",
       "      <td>22.0</td>\n",
       "      <td>1</td>\n",
       "      <td>0</td>\n",
       "      <td>7.2500</td>\n",
       "    </tr>\n",
       "    <tr>\n",
       "      <th>1</th>\n",
       "      <td>1</td>\n",
       "      <td>1</td>\n",
       "      <td>0</td>\n",
       "      <td>38.0</td>\n",
       "      <td>1</td>\n",
       "      <td>0</td>\n",
       "      <td>71.2833</td>\n",
       "    </tr>\n",
       "    <tr>\n",
       "      <th>2</th>\n",
       "      <td>1</td>\n",
       "      <td>3</td>\n",
       "      <td>0</td>\n",
       "      <td>26.0</td>\n",
       "      <td>0</td>\n",
       "      <td>0</td>\n",
       "      <td>7.9250</td>\n",
       "    </tr>\n",
       "    <tr>\n",
       "      <th>3</th>\n",
       "      <td>1</td>\n",
       "      <td>1</td>\n",
       "      <td>0</td>\n",
       "      <td>35.0</td>\n",
       "      <td>1</td>\n",
       "      <td>0</td>\n",
       "      <td>53.1000</td>\n",
       "    </tr>\n",
       "    <tr>\n",
       "      <th>4</th>\n",
       "      <td>0</td>\n",
       "      <td>3</td>\n",
       "      <td>1</td>\n",
       "      <td>35.0</td>\n",
       "      <td>0</td>\n",
       "      <td>0</td>\n",
       "      <td>8.0500</td>\n",
       "    </tr>\n",
       "  </tbody>\n",
       "</table>\n",
       "</div>"
      ],
      "text/plain": [
       "   Survived  Pclass  Sex   Age  SibSp  Parch     Fare\n",
       "0         0       3    1  22.0      1      0   7.2500\n",
       "1         1       1    0  38.0      1      0  71.2833\n",
       "2         1       3    0  26.0      0      0   7.9250\n",
       "3         1       1    0  35.0      1      0  53.1000\n",
       "4         0       3    1  35.0      0      0   8.0500"
      ]
     },
     "execution_count": 29,
     "metadata": {},
     "output_type": "execute_result"
    }
   ],
   "source": [
    "df.head()"
   ]
  },
  {
   "cell_type": "code",
   "execution_count": 30,
   "metadata": {
    "execution": {
     "iopub.execute_input": "2021-01-12T17:05:21.291551Z",
     "iopub.status.busy": "2021-01-12T17:05:21.290902Z",
     "iopub.status.idle": "2021-01-12T17:05:21.297572Z",
     "shell.execute_reply": "2021-01-12T17:05:21.296984Z"
    },
    "papermill": {
     "duration": 0.06746,
     "end_time": "2021-01-12T17:05:21.297697",
     "exception": false,
     "start_time": "2021-01-12T17:05:21.230237",
     "status": "completed"
    },
    "tags": []
   },
   "outputs": [
    {
     "data": {
      "text/plain": [
       "Index(['Survived', 'Pclass', 'Sex', 'Age', 'SibSp', 'Parch', 'Fare'], dtype='object')"
      ]
     },
     "execution_count": 30,
     "metadata": {},
     "output_type": "execute_result"
    }
   ],
   "source": [
    "df.columns"
   ]
  },
  {
   "cell_type": "markdown",
   "metadata": {
    "papermill": {
     "duration": 0.058934,
     "end_time": "2021-01-12T17:05:21.415712",
     "exception": false,
     "start_time": "2021-01-12T17:05:21.356778",
     "status": "completed"
    },
    "tags": []
   },
   "source": [
    "### Splitting of data into train and test"
   ]
  },
  {
   "cell_type": "code",
   "execution_count": 31,
   "metadata": {
    "execution": {
     "iopub.execute_input": "2021-01-12T17:05:21.540721Z",
     "iopub.status.busy": "2021-01-12T17:05:21.539694Z",
     "iopub.status.idle": "2021-01-12T17:05:21.543232Z",
     "shell.execute_reply": "2021-01-12T17:05:21.542617Z"
    },
    "papermill": {
     "duration": 0.0693,
     "end_time": "2021-01-12T17:05:21.543356",
     "exception": false,
     "start_time": "2021-01-12T17:05:21.474056",
     "status": "completed"
    },
    "tags": []
   },
   "outputs": [],
   "source": [
    "X = df.drop('Survived',axis = 1)\n",
    "y = df['Survived']"
   ]
  },
  {
   "cell_type": "code",
   "execution_count": 32,
   "metadata": {
    "execution": {
     "iopub.execute_input": "2021-01-12T17:05:21.668925Z",
     "iopub.status.busy": "2021-01-12T17:05:21.668198Z",
     "iopub.status.idle": "2021-01-12T17:05:21.671914Z",
     "shell.execute_reply": "2021-01-12T17:05:21.672401Z"
    },
    "papermill": {
     "duration": 0.070077,
     "end_time": "2021-01-12T17:05:21.672549",
     "exception": false,
     "start_time": "2021-01-12T17:05:21.602472",
     "status": "completed"
    },
    "tags": []
   },
   "outputs": [],
   "source": [
    "X_train, X_test, y_train, y_test = train_test_split(  X, y, test_size=0.20, random_state=42)"
   ]
  },
  {
   "cell_type": "code",
   "execution_count": 33,
   "metadata": {
    "execution": {
     "iopub.execute_input": "2021-01-12T17:05:21.797547Z",
     "iopub.status.busy": "2021-01-12T17:05:21.796767Z",
     "iopub.status.idle": "2021-01-12T17:05:21.809714Z",
     "shell.execute_reply": "2021-01-12T17:05:21.810287Z"
    },
    "papermill": {
     "duration": 0.076995,
     "end_time": "2021-01-12T17:05:21.810447",
     "exception": false,
     "start_time": "2021-01-12T17:05:21.733452",
     "status": "completed"
    },
    "tags": []
   },
   "outputs": [],
   "source": [
    "from sklearn.preprocessing import StandardScaler\n",
    "scaler = StandardScaler()\n",
    "X_train= scaler.fit_transform(X_train)\n",
    "X_test = scaler.transform(X_test)"
   ]
  },
  {
   "cell_type": "markdown",
   "metadata": {
    "papermill": {
     "duration": 0.059779,
     "end_time": "2021-01-12T17:05:21.930397",
     "exception": false,
     "start_time": "2021-01-12T17:05:21.870618",
     "status": "completed"
    },
    "tags": []
   },
   "source": [
    "## Modelling with Logistic Regression"
   ]
  },
  {
   "cell_type": "code",
   "execution_count": 34,
   "metadata": {
    "execution": {
     "iopub.execute_input": "2021-01-12T17:05:22.067397Z",
     "iopub.status.busy": "2021-01-12T17:05:22.066601Z",
     "iopub.status.idle": "2021-01-12T17:05:22.208355Z",
     "shell.execute_reply": "2021-01-12T17:05:22.207402Z"
    },
    "papermill": {
     "duration": 0.218651,
     "end_time": "2021-01-12T17:05:22.208546",
     "exception": false,
     "start_time": "2021-01-12T17:05:21.989895",
     "status": "completed"
    },
    "tags": []
   },
   "outputs": [
    {
     "data": {
      "text/plain": [
       "LogisticRegression()"
      ]
     },
     "execution_count": 34,
     "metadata": {},
     "output_type": "execute_result"
    }
   ],
   "source": [
    "from sklearn.linear_model import LogisticRegression\n",
    "LogR = LogisticRegression()\n",
    "LogR.fit(X_train,y_train)"
   ]
  },
  {
   "cell_type": "code",
   "execution_count": 35,
   "metadata": {
    "execution": {
     "iopub.execute_input": "2021-01-12T17:05:22.409333Z",
     "iopub.status.busy": "2021-01-12T17:05:22.408383Z",
     "iopub.status.idle": "2021-01-12T17:05:22.412092Z",
     "shell.execute_reply": "2021-01-12T17:05:22.412780Z"
    },
    "papermill": {
     "duration": 0.092934,
     "end_time": "2021-01-12T17:05:22.412979",
     "exception": false,
     "start_time": "2021-01-12T17:05:22.320045",
     "status": "completed"
    },
    "tags": []
   },
   "outputs": [
    {
     "data": {
      "text/plain": [
       "0.8019662921348315"
      ]
     },
     "execution_count": 35,
     "metadata": {},
     "output_type": "execute_result"
    }
   ],
   "source": [
    "y_pred = LogR.predict(X_test)\n",
    "LogR.score(X_train,y_train)"
   ]
  },
  {
   "cell_type": "code",
   "execution_count": 36,
   "metadata": {
    "execution": {
     "iopub.execute_input": "2021-01-12T17:05:22.552281Z",
     "iopub.status.busy": "2021-01-12T17:05:22.551117Z",
     "iopub.status.idle": "2021-01-12T17:05:22.556756Z",
     "shell.execute_reply": "2021-01-12T17:05:22.557450Z"
    },
    "papermill": {
     "duration": 0.074011,
     "end_time": "2021-01-12T17:05:22.557609",
     "exception": false,
     "start_time": "2021-01-12T17:05:22.483598",
     "status": "completed"
    },
    "tags": []
   },
   "outputs": [
    {
     "data": {
      "text/plain": [
       "0.7988826815642458"
      ]
     },
     "execution_count": 36,
     "metadata": {},
     "output_type": "execute_result"
    }
   ],
   "source": [
    "LogR.score(X_test,y_test)"
   ]
  },
  {
   "cell_type": "markdown",
   "metadata": {
    "papermill": {
     "duration": 0.063377,
     "end_time": "2021-01-12T17:05:22.690134",
     "exception": false,
     "start_time": "2021-01-12T17:05:22.626757",
     "status": "completed"
    },
    "tags": []
   },
   "source": [
    "## Modelling with XGBClassifier"
   ]
  },
  {
   "cell_type": "code",
   "execution_count": 37,
   "metadata": {
    "execution": {
     "iopub.execute_input": "2021-01-12T17:05:22.817959Z",
     "iopub.status.busy": "2021-01-12T17:05:22.816586Z",
     "iopub.status.idle": "2021-01-12T17:05:23.825127Z",
     "shell.execute_reply": "2021-01-12T17:05:23.825920Z"
    },
    "papermill": {
     "duration": 1.074164,
     "end_time": "2021-01-12T17:05:23.826098",
     "exception": false,
     "start_time": "2021-01-12T17:05:22.751934",
     "status": "completed"
    },
    "tags": []
   },
   "outputs": [
    {
     "data": {
      "text/plain": [
       "XGBClassifier(base_score=0.5, booster='gbtree', colsample_bylevel=1,\n",
       "              colsample_bynode=1, colsample_bytree=1, gamma=0, gpu_id=-1,\n",
       "              importance_type='gain', interaction_constraints='',\n",
       "              learning_rate=0.300000012, max_delta_step=0, max_depth=6,\n",
       "              min_child_weight=1, missing=nan, monotone_constraints='()',\n",
       "              n_estimators=100, n_jobs=0, num_parallel_tree=1, random_state=0,\n",
       "              reg_alpha=0, reg_lambda=1, scale_pos_weight=1, subsample=1,\n",
       "              tree_method='exact', validate_parameters=1, verbosity=None)"
      ]
     },
     "execution_count": 37,
     "metadata": {},
     "output_type": "execute_result"
    }
   ],
   "source": [
    "from xgboost import XGBClassifier\n",
    "from matplotlib import pyplot\n",
    "model = XGBClassifier()\n",
    "model.fit(X_train, y_train)\n"
   ]
  },
  {
   "cell_type": "code",
   "execution_count": 38,
   "metadata": {
    "execution": {
     "iopub.execute_input": "2021-01-12T17:05:23.995647Z",
     "iopub.status.busy": "2021-01-12T17:05:23.994815Z",
     "iopub.status.idle": "2021-01-12T17:05:23.997893Z",
     "shell.execute_reply": "2021-01-12T17:05:23.998557Z"
    },
    "papermill": {
     "duration": 0.093199,
     "end_time": "2021-01-12T17:05:23.998727",
     "exception": false,
     "start_time": "2021-01-12T17:05:23.905528",
     "status": "completed"
    },
    "tags": []
   },
   "outputs": [
    {
     "data": {
      "text/plain": [
       "0.9634831460674157"
      ]
     },
     "execution_count": 38,
     "metadata": {},
     "output_type": "execute_result"
    }
   ],
   "source": [
    "xbg_pred = model.predict(X_test)\n",
    "model.score(X_train,y_train)"
   ]
  },
  {
   "cell_type": "code",
   "execution_count": 39,
   "metadata": {
    "execution": {
     "iopub.execute_input": "2021-01-12T17:05:24.171639Z",
     "iopub.status.busy": "2021-01-12T17:05:24.170784Z",
     "iopub.status.idle": "2021-01-12T17:05:24.174158Z",
     "shell.execute_reply": "2021-01-12T17:05:24.174963Z"
    },
    "papermill": {
     "duration": 0.092126,
     "end_time": "2021-01-12T17:05:24.175140",
     "exception": false,
     "start_time": "2021-01-12T17:05:24.083014",
     "status": "completed"
    },
    "tags": []
   },
   "outputs": [
    {
     "data": {
      "text/plain": [
       "0.8156424581005587"
      ]
     },
     "execution_count": 39,
     "metadata": {},
     "output_type": "execute_result"
    }
   ],
   "source": [
    "model.score(X_test,y_test)"
   ]
  },
  {
   "cell_type": "code",
   "execution_count": 40,
   "metadata": {
    "execution": {
     "iopub.execute_input": "2021-01-12T17:05:24.350510Z",
     "iopub.status.busy": "2021-01-12T17:05:24.349610Z",
     "iopub.status.idle": "2021-01-12T17:05:24.387712Z",
     "shell.execute_reply": "2021-01-12T17:05:24.388274Z"
    },
    "papermill": {
     "duration": 0.131626,
     "end_time": "2021-01-12T17:05:24.388424",
     "exception": false,
     "start_time": "2021-01-12T17:05:24.256798",
     "status": "completed"
    },
    "tags": []
   },
   "outputs": [
    {
     "name": "stdout",
     "output_type": "stream",
     "text": [
      "[0.2010305  0.6151088  0.03645358 0.07589259 0.03488223 0.03663237]\n"
     ]
    }
   ],
   "source": [
    "print(model.feature_importances_)"
   ]
  },
  {
   "cell_type": "markdown",
   "metadata": {
    "papermill": {
     "duration": 0.06281,
     "end_time": "2021-01-12T17:05:24.514399",
     "exception": false,
     "start_time": "2021-01-12T17:05:24.451589",
     "status": "completed"
    },
    "tags": []
   },
   "source": [
    "## Feature Importance Plotting"
   ]
  },
  {
   "cell_type": "code",
   "execution_count": 41,
   "metadata": {
    "execution": {
     "iopub.execute_input": "2021-01-12T17:05:24.647499Z",
     "iopub.status.busy": "2021-01-12T17:05:24.646385Z",
     "iopub.status.idle": "2021-01-12T17:05:24.684301Z",
     "shell.execute_reply": "2021-01-12T17:05:24.683562Z"
    },
    "papermill": {
     "duration": 0.106839,
     "end_time": "2021-01-12T17:05:24.684425",
     "exception": false,
     "start_time": "2021-01-12T17:05:24.577586",
     "status": "completed"
    },
    "tags": []
   },
   "outputs": [],
   "source": [
    "features = X.columns\n",
    "importances = model.feature_importances_"
   ]
  },
  {
   "cell_type": "code",
   "execution_count": 42,
   "metadata": {
    "execution": {
     "iopub.execute_input": "2021-01-12T17:05:24.824306Z",
     "iopub.status.busy": "2021-01-12T17:05:24.816482Z",
     "iopub.status.idle": "2021-01-12T17:05:24.964263Z",
     "shell.execute_reply": "2021-01-12T17:05:24.963477Z"
    },
    "papermill": {
     "duration": 0.21668,
     "end_time": "2021-01-12T17:05:24.964393",
     "exception": false,
     "start_time": "2021-01-12T17:05:24.747713",
     "status": "completed"
    },
    "tags": []
   },
   "outputs": [
    {
     "data": {
      "image/png": "[encoded data removed]",
      "text/plain": [
       "<Figure size 432x288 with 1 Axes>"
      ]
     },
     "metadata": {
      "needs_background": "light"
     },
     "output_type": "display_data"
    }
   ],
   "source": [
    "pyplot.bar(features,importances)\n",
    "pyplot.show()"
   ]
  },
  {
   "cell_type": "markdown",
   "metadata": {
    "papermill": {
     "duration": 0.064168,
     "end_time": "2021-01-12T17:05:25.095519",
     "exception": false,
     "start_time": "2021-01-12T17:05:25.031351",
     "status": "completed"
    },
    "tags": []
   },
   "source": [
    "## Predictions on Test_Data"
   ]
  },
  {
   "cell_type": "code",
   "execution_count": 43,
   "metadata": {
    "execution": {
     "iopub.execute_input": "2021-01-12T17:05:25.239510Z",
     "iopub.status.busy": "2021-01-12T17:05:25.238442Z",
     "iopub.status.idle": "2021-01-12T17:05:25.244470Z",
     "shell.execute_reply": "2021-01-12T17:05:25.243683Z"
    },
    "papermill": {
     "duration": 0.085331,
     "end_time": "2021-01-12T17:05:25.244603",
     "exception": false,
     "start_time": "2021-01-12T17:05:25.159272",
     "status": "completed"
    },
    "tags": []
   },
   "outputs": [
    {
     "data": {
      "text/html": [
       "<div>\n",
       "<style scoped>\n",
       "    .dataframe tbody tr th:only-of-type {\n",
       "        vertical-align: middle;\n",
       "    }\n",
       "\n",
       "    .dataframe tbody tr th {\n",
       "        vertical-align: top;\n",
       "    }\n",
       "\n",
       "    .dataframe thead th {\n",
       "        text-align: right;\n",
       "    }\n",
       "</style>\n",
       "<table border=\"1\" class=\"dataframe\">\n",
       "  <thead>\n",
       "    <tr style=\"text-align: right;\">\n",
       "      <th></th>\n",
       "      <th>PassengerId</th>\n",
       "      <th>Pclass</th>\n",
       "      <th>Name</th>\n",
       "      <th>Sex</th>\n",
       "      <th>Age</th>\n",
       "      <th>SibSp</th>\n",
       "      <th>Parch</th>\n",
       "      <th>Ticket</th>\n",
       "      <th>Fare</th>\n",
       "      <th>Embarked</th>\n",
       "    </tr>\n",
       "  </thead>\n",
       "  <tbody>\n",
       "    <tr>\n",
       "      <th>0</th>\n",
       "      <td>892</td>\n",
       "      <td>3</td>\n",
       "      <td>Kelly, Mr. James</td>\n",
       "      <td>male</td>\n",
       "      <td>34.5</td>\n",
       "      <td>0</td>\n",
       "      <td>0</td>\n",
       "      <td>330911</td>\n",
       "      <td>7.8292</td>\n",
       "      <td>Q</td>\n",
       "    </tr>\n",
       "    <tr>\n",
       "      <th>1</th>\n",
       "      <td>893</td>\n",
       "      <td>3</td>\n",
       "      <td>Wilkes, Mrs. James (Ellen Needs)</td>\n",
       "      <td>female</td>\n",
       "      <td>47.0</td>\n",
       "      <td>1</td>\n",
       "      <td>0</td>\n",
       "      <td>363272</td>\n",
       "      <td>7.0000</td>\n",
       "      <td>S</td>\n",
       "    </tr>\n",
       "    <tr>\n",
       "      <th>2</th>\n",
       "      <td>894</td>\n",
       "      <td>2</td>\n",
       "      <td>Myles, Mr. Thomas Francis</td>\n",
       "      <td>male</td>\n",
       "      <td>62.0</td>\n",
       "      <td>0</td>\n",
       "      <td>0</td>\n",
       "      <td>240276</td>\n",
       "      <td>9.6875</td>\n",
       "      <td>Q</td>\n",
       "    </tr>\n",
       "    <tr>\n",
       "      <th>3</th>\n",
       "      <td>895</td>\n",
       "      <td>3</td>\n",
       "      <td>Wirz, Mr. Albert</td>\n",
       "      <td>male</td>\n",
       "      <td>27.0</td>\n",
       "      <td>0</td>\n",
       "      <td>0</td>\n",
       "      <td>315154</td>\n",
       "      <td>8.6625</td>\n",
       "      <td>S</td>\n",
       "    </tr>\n",
       "    <tr>\n",
       "      <th>4</th>\n",
       "      <td>896</td>\n",
       "      <td>3</td>\n",
       "      <td>Hirvonen, Mrs. Alexander (Helga E Lindqvist)</td>\n",
       "      <td>female</td>\n",
       "      <td>22.0</td>\n",
       "      <td>1</td>\n",
       "      <td>1</td>\n",
       "      <td>3101298</td>\n",
       "      <td>12.2875</td>\n",
       "      <td>S</td>\n",
       "    </tr>\n",
       "  </tbody>\n",
       "</table>\n",
       "</div>"
      ],
      "text/plain": [
       "   PassengerId  Pclass                                          Name     Sex  \\\n",
       "0          892       3                              Kelly, Mr. James    male   \n",
       "1          893       3              Wilkes, Mrs. James (Ellen Needs)  female   \n",
       "2          894       2                     Myles, Mr. Thomas Francis    male   \n",
       "3          895       3                              Wirz, Mr. Albert    male   \n",
       "4          896       3  Hirvonen, Mrs. Alexander (Helga E Lindqvist)  female   \n",
       "\n",
       "    Age  SibSp  Parch   Ticket     Fare Embarked  \n",
       "0  34.5      0      0   330911   7.8292        Q  \n",
       "1  47.0      1      0   363272   7.0000        S  \n",
       "2  62.0      0      0   240276   9.6875        Q  \n",
       "3  27.0      0      0   315154   8.6625        S  \n",
       "4  22.0      1      1  3101298  12.2875        S  "
      ]
     },
     "execution_count": 43,
     "metadata": {},
     "output_type": "execute_result"
    }
   ],
   "source": [
    "df_test.head()"
   ]
  },
  {
   "cell_type": "code",
   "execution_count": 44,
   "metadata": {
    "execution": {
     "iopub.execute_input": "2021-01-12T17:05:25.403289Z",
     "iopub.status.busy": "2021-01-12T17:05:25.402257Z",
     "iopub.status.idle": "2021-01-12T17:05:25.405527Z",
     "shell.execute_reply": "2021-01-12T17:05:25.406056Z"
    },
    "papermill": {
     "duration": 0.088955,
     "end_time": "2021-01-12T17:05:25.406215",
     "exception": false,
     "start_time": "2021-01-12T17:05:25.317260",
     "status": "completed"
    },
    "tags": []
   },
   "outputs": [],
   "source": [
    "df_test.Age.fillna(df_test.Age.mean(),inplace=True)\n",
    "df_test.Embarked.fillna(df_test.Embarked.mode,inplace=True)\n",
    "df_test.Fare.fillna(df_test.Fare.mean(), inplace = True)"
   ]
  },
  {
   "cell_type": "code",
   "execution_count": 45,
   "metadata": {
    "execution": {
     "iopub.execute_input": "2021-01-12T17:05:25.565106Z",
     "iopub.status.busy": "2021-01-12T17:05:25.564112Z",
     "iopub.status.idle": "2021-01-12T17:05:25.566781Z",
     "shell.execute_reply": "2021-01-12T17:05:25.567304Z"
    },
    "papermill": {
     "duration": 0.089066,
     "end_time": "2021-01-12T17:05:25.567458",
     "exception": false,
     "start_time": "2021-01-12T17:05:25.478392",
     "status": "completed"
    },
    "tags": []
   },
   "outputs": [],
   "source": [
    "df_test.drop(['Embarked'],axis= 1,inplace = True)\n",
    "df_test.drop('Ticket',axis = 1,inplace = True)\n",
    "df_test['Sex']=pd.get_dummies(df[['Sex']],drop_first=True)\n"
   ]
  },
  {
   "cell_type": "code",
   "execution_count": 46,
   "metadata": {
    "execution": {
     "iopub.execute_input": "2021-01-12T17:05:25.707091Z",
     "iopub.status.busy": "2021-01-12T17:05:25.705992Z",
     "iopub.status.idle": "2021-01-12T17:05:25.710789Z",
     "shell.execute_reply": "2021-01-12T17:05:25.710088Z"
    },
    "papermill": {
     "duration": 0.078688,
     "end_time": "2021-01-12T17:05:25.710923",
     "exception": false,
     "start_time": "2021-01-12T17:05:25.632235",
     "status": "completed"
    },
    "tags": []
   },
   "outputs": [
    {
     "data": {
      "text/plain": [
       "PassengerId    0\n",
       "Pclass         0\n",
       "Name           0\n",
       "Sex            0\n",
       "Age            0\n",
       "SibSp          0\n",
       "Parch          0\n",
       "Fare           0\n",
       "dtype: int64"
      ]
     },
     "execution_count": 46,
     "metadata": {},
     "output_type": "execute_result"
    }
   ],
   "source": [
    "df_test.isnull().sum()\n"
   ]
  },
  {
   "cell_type": "code",
   "execution_count": 47,
   "metadata": {
    "execution": {
     "iopub.execute_input": "2021-01-12T17:05:25.849242Z",
     "iopub.status.busy": "2021-01-12T17:05:25.848393Z",
     "iopub.status.idle": "2021-01-12T17:05:25.851230Z",
     "shell.execute_reply": "2021-01-12T17:05:25.851749Z"
    },
    "papermill": {
     "duration": 0.075182,
     "end_time": "2021-01-12T17:05:25.851935",
     "exception": false,
     "start_time": "2021-01-12T17:05:25.776753",
     "status": "completed"
    },
    "tags": []
   },
   "outputs": [],
   "source": [
    "df_name = df_test['PassengerId']"
   ]
  },
  {
   "cell_type": "code",
   "execution_count": 48,
   "metadata": {
    "execution": {
     "iopub.execute_input": "2021-01-12T17:05:25.992823Z",
     "iopub.status.busy": "2021-01-12T17:05:25.991932Z",
     "iopub.status.idle": "2021-01-12T17:05:25.995076Z",
     "shell.execute_reply": "2021-01-12T17:05:25.994406Z"
    },
    "papermill": {
     "duration": 0.076582,
     "end_time": "2021-01-12T17:05:25.995191",
     "exception": false,
     "start_time": "2021-01-12T17:05:25.918609",
     "status": "completed"
    },
    "tags": []
   },
   "outputs": [],
   "source": [
    "df_test.drop(['Name','PassengerId'],axis = 1,inplace=True)"
   ]
  },
  {
   "cell_type": "code",
   "execution_count": 49,
   "metadata": {
    "execution": {
     "iopub.execute_input": "2021-01-12T17:05:26.135490Z",
     "iopub.status.busy": "2021-01-12T17:05:26.134786Z",
     "iopub.status.idle": "2021-01-12T17:05:26.141786Z",
     "shell.execute_reply": "2021-01-12T17:05:26.141098Z"
    },
    "papermill": {
     "duration": 0.081478,
     "end_time": "2021-01-12T17:05:26.141922",
     "exception": false,
     "start_time": "2021-01-12T17:05:26.060444",
     "status": "completed"
    },
    "tags": []
   },
   "outputs": [],
   "source": [
    "X_df_test= scaler.fit_transform(df_test)"
   ]
  },
  {
   "cell_type": "code",
   "execution_count": 50,
   "metadata": {
    "execution": {
     "iopub.execute_input": "2021-01-12T17:05:26.280789Z",
     "iopub.status.busy": "2021-01-12T17:05:26.279931Z",
     "iopub.status.idle": "2021-01-12T17:05:26.286874Z",
     "shell.execute_reply": "2021-01-12T17:05:26.286140Z"
    },
    "papermill": {
     "duration": 0.079442,
     "end_time": "2021-01-12T17:05:26.287015",
     "exception": false,
     "start_time": "2021-01-12T17:05:26.207573",
     "status": "completed"
    },
    "tags": []
   },
   "outputs": [],
   "source": [
    "xgb_predictions = model.predict(X_df_test)"
   ]
  },
  {
   "cell_type": "code",
   "execution_count": 51,
   "metadata": {
    "execution": {
     "iopub.execute_input": "2021-01-12T17:05:26.465822Z",
     "iopub.status.busy": "2021-01-12T17:05:26.464985Z",
     "iopub.status.idle": "2021-01-12T17:05:26.474488Z",
     "shell.execute_reply": "2021-01-12T17:05:26.475179Z"
    },
    "papermill": {
     "duration": 0.102804,
     "end_time": "2021-01-12T17:05:26.475332",
     "exception": false,
     "start_time": "2021-01-12T17:05:26.372528",
     "status": "completed"
    },
    "tags": []
   },
   "outputs": [
    {
     "data": {
      "text/html": [
       "<div>\n",
       "<style scoped>\n",
       "    .dataframe tbody tr th:only-of-type {\n",
       "        vertical-align: middle;\n",
       "    }\n",
       "\n",
       "    .dataframe tbody tr th {\n",
       "        vertical-align: top;\n",
       "    }\n",
       "\n",
       "    .dataframe thead th {\n",
       "        text-align: right;\n",
       "    }\n",
       "</style>\n",
       "<table border=\"1\" class=\"dataframe\">\n",
       "  <thead>\n",
       "    <tr style=\"text-align: right;\">\n",
       "      <th></th>\n",
       "      <th>PassengerId</th>\n",
       "      <th>Survived</th>\n",
       "    </tr>\n",
       "  </thead>\n",
       "  <tbody>\n",
       "    <tr>\n",
       "      <th>0</th>\n",
       "      <td>892</td>\n",
       "      <td>0</td>\n",
       "    </tr>\n",
       "    <tr>\n",
       "      <th>1</th>\n",
       "      <td>893</td>\n",
       "      <td>0</td>\n",
       "    </tr>\n",
       "    <tr>\n",
       "      <th>2</th>\n",
       "      <td>894</td>\n",
       "      <td>1</td>\n",
       "    </tr>\n",
       "    <tr>\n",
       "      <th>3</th>\n",
       "      <td>895</td>\n",
       "      <td>1</td>\n",
       "    </tr>\n",
       "    <tr>\n",
       "      <th>4</th>\n",
       "      <td>896</td>\n",
       "      <td>0</td>\n",
       "    </tr>\n",
       "    <tr>\n",
       "      <th>5</th>\n",
       "      <td>897</td>\n",
       "      <td>1</td>\n",
       "    </tr>\n",
       "    <tr>\n",
       "      <th>6</th>\n",
       "      <td>898</td>\n",
       "      <td>0</td>\n",
       "    </tr>\n",
       "    <tr>\n",
       "      <th>7</th>\n",
       "      <td>899</td>\n",
       "      <td>0</td>\n",
       "    </tr>\n",
       "    <tr>\n",
       "      <th>8</th>\n",
       "      <td>900</td>\n",
       "      <td>0</td>\n",
       "    </tr>\n",
       "    <tr>\n",
       "      <th>9</th>\n",
       "      <td>901</td>\n",
       "      <td>0</td>\n",
       "    </tr>\n",
       "  </tbody>\n",
       "</table>\n",
       "</div>"
      ],
      "text/plain": [
       "   PassengerId  Survived\n",
       "0          892         0\n",
       "1          893         0\n",
       "2          894         1\n",
       "3          895         1\n",
       "4          896         0\n",
       "5          897         1\n",
       "6          898         0\n",
       "7          899         0\n",
       "8          900         0\n",
       "9          901         0"
      ]
     },
     "execution_count": 51,
     "metadata": {},
     "output_type": "execute_result"
    }
   ],
   "source": [
    "#Create a  DataFrame\n",
    "submission = pd.DataFrame({'PassengerId':df_name,'Survived':xgb_predictions})\n",
    "                        \n",
    "\n",
    "#Visualize the first 10 rows\n",
    "submission.head(10)"
   ]
  },
  {
   "cell_type": "code",
   "execution_count": 52,
   "metadata": {
    "execution": {
     "iopub.execute_input": "2021-01-12T17:05:26.611986Z",
     "iopub.status.busy": "2021-01-12T17:05:26.611313Z",
     "iopub.status.idle": "2021-01-12T17:05:26.986728Z",
     "shell.execute_reply": "2021-01-12T17:05:26.985524Z"
    },
    "papermill": {
     "duration": 0.445044,
     "end_time": "2021-01-12T17:05:26.986872",
     "exception": false,
     "start_time": "2021-01-12T17:05:26.541828",
     "status": "completed"
    },
    "tags": []
   },
   "outputs": [],
   "source": [
    "##% Submit Predictions \n",
    "submission.to_csv('submission.csv',index=False)"
   ]
  }
 ],
 "metadata": {
  "kernelspec": {
   "display_name": "Python 3",
   "language": "python",
   "name": "python3"
  },
  "language_info": {
   "codemirror_mode": {
    "name": "ipython",
    "version": 3
   },
   "file_extension": ".py",
   "mimetype": "text/x-python",
   "name": "python",
   "nbconvert_exporter": "python",
   "pygments_lexer": "ipython3",
   "version": "3.7.6"
  },
  "papermill": {
   "duration": 19.179678,
   "end_time": "2021-01-12T17:05:28.081912",
   "environment_variables": {},
   "exception": null,
   "input_path": "__notebook__.ipynb",
   "output_path": "__notebook__.ipynb",
   "parameters": {},
   "start_time": "2021-01-12T17:05:08.902234",
   "version": "2.1.0"
  }
 },
 "nbformat": 4,
 "nbformat_minor": 4
}
