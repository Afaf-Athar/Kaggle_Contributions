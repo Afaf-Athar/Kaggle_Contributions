{
 "cells": [
  {
   "cell_type": "code",
   "execution_count": 1,
   "metadata": {
    "_cell_guid": "b1076dfc-b9ad-4769-8c92-a6c4dae69d19",
    "_uuid": "8f2839f25d086af736a60e9eeb907d3b93b6e0e5",
    "execution": {
     "iopub.execute_input": "2021-01-06T06:49:59.531905Z",
     "iopub.status.busy": "2021-01-06T06:49:59.531155Z",
     "iopub.status.idle": "2021-01-06T06:50:00.759796Z",
     "shell.execute_reply": "2021-01-06T06:50:00.760363Z"
    },
    "papermill": {
     "duration": 1.275466,
     "end_time": "2021-01-06T06:50:00.760529",
     "exception": false,
     "start_time": "2021-01-06T06:49:59.485063",
     "status": "completed"
    },
    "tags": []
   },
   "outputs": [
    {
     "name": "stdout",
     "output_type": "stream",
     "text": [
      "/kaggle/input/covid19-case-surveillance-public-use-dataset/COVID-19_Case_Surveillance_Public_Use_Data.csv\n"
     ]
    }
   ],
   "source": [
    "# This Python 3 environment comes with many helpful analytics libraries installed\n",
    "# It is defined by the kaggle/python Docker image: https://github.com/kaggle/docker-python\n",
    "# For example, here's several helpful packages to load\n",
    "\n",
    "import numpy as np # linear algebra\n",
    "import pandas as pd # data processing, CSV file I/O (e.g. pd.read_csv)\n",
    "import seaborn as sns \n",
    "import matplotlib.pyplot as plt\n",
    "# machine learning\n",
    "from sklearn.linear_model import LogisticRegression\n",
    "from sklearn.svm import SVC, LinearSVC\n",
    "from sklearn.ensemble import RandomForestClassifier\n",
    "from sklearn.neighbors import KNeighborsClassifier\n",
    "from sklearn.naive_bayes import GaussianNB\n",
    "from sklearn.linear_model import Perceptron\n",
    "from sklearn.linear_model import SGDClassifier\n",
    "from sklearn.tree import DecisionTreeClassifier\n",
    "# Input data files are available in the read-only \"../input/\" directory\n",
    "# For example, running this (by clicking run or pressing Shift+Enter) will list all files under the input directory\n",
    "\n",
    "import os\n",
    "for dirname, _, filenames in os.walk('/kaggle/input'):\n",
    "    for filename in filenames:\n",
    "        print(os.path.join(dirname, filename))\n",
    "\n",
    "# You can write up to 20GB to the current directory (/kaggle/working/) that gets preserved as output when you create a version using \"Save & Run All\" \n",
    "# You can also write temporary files to /kaggle/temp/, but they won't be saved outside of the current session"
   ]
  },
  {
   "cell_type": "markdown",
   "metadata": {
    "papermill": {
     "duration": 0.03537,
     "end_time": "2021-01-06T06:50:00.834304",
     "exception": false,
     "start_time": "2021-01-06T06:50:00.798934",
     "status": "completed"
    },
    "tags": []
   },
   "source": [
    "### Load the data"
   ]
  },
  {
   "cell_type": "code",
   "execution_count": 2,
   "metadata": {
    "_cell_guid": "79c7e3d0-c299-4dcb-8224-4455121ee9b0",
    "_uuid": "d629ff2d2480ee46fbb7e2d37f6b5fab8052498a",
    "execution": {
     "iopub.execute_input": "2021-01-06T06:50:00.914487Z",
     "iopub.status.busy": "2021-01-06T06:50:00.913859Z",
     "iopub.status.idle": "2021-01-06T06:50:28.317374Z",
     "shell.execute_reply": "2021-01-06T06:50:28.315967Z"
    },
    "papermill": {
     "duration": 27.445987,
     "end_time": "2021-01-06T06:50:28.317545",
     "exception": false,
     "start_time": "2021-01-06T06:50:00.871558",
     "status": "completed"
    },
    "tags": []
   },
   "outputs": [
    {
     "name": "stderr",
     "output_type": "stream",
     "text": [
      "/opt/conda/lib/python3.7/site-packages/IPython/core/interactiveshell.py:3063: DtypeWarning: Columns (1) have mixed types.Specify dtype option on import or set low_memory=False.\n",
      "  interactivity=interactivity, compiler=compiler, result=result)\n"
     ]
    }
   ],
   "source": [
    "df = pd.read_csv('../input/covid19-case-surveillance-public-use-dataset/COVID-19_Case_Surveillance_Public_Use_Data.csv')"
   ]
  },
  {
   "cell_type": "code",
   "execution_count": 3,
   "metadata": {
    "execution": {
     "iopub.execute_input": "2021-01-06T06:50:28.481859Z",
     "iopub.status.busy": "2021-01-06T06:50:28.481008Z",
     "iopub.status.idle": "2021-01-06T06:50:28.512146Z",
     "shell.execute_reply": "2021-01-06T06:50:28.512945Z"
    },
    "papermill": {
     "duration": 0.09796,
     "end_time": "2021-01-06T06:50:28.513128",
     "exception": false,
     "start_time": "2021-01-06T06:50:28.415168",
     "status": "completed"
    },
    "tags": []
   },
   "outputs": [
    {
     "data": {
      "text/html": [
       "<div>\n",
       "<style scoped>\n",
       "    .dataframe tbody tr th:only-of-type {\n",
       "        vertical-align: middle;\n",
       "    }\n",
       "\n",
       "    .dataframe tbody tr th {\n",
       "        vertical-align: top;\n",
       "    }\n",
       "\n",
       "    .dataframe thead th {\n",
       "        text-align: right;\n",
       "    }\n",
       "</style>\n",
       "<table border=\"1\" class=\"dataframe\">\n",
       "  <thead>\n",
       "    <tr style=\"text-align: right;\">\n",
       "      <th></th>\n",
       "      <th>cdc_report_dt</th>\n",
       "      <th>pos_spec_dt</th>\n",
       "      <th>onset_dt</th>\n",
       "      <th>current_status</th>\n",
       "      <th>sex</th>\n",
       "      <th>age_group</th>\n",
       "      <th>Race and ethnicity (combined)</th>\n",
       "      <th>hosp_yn</th>\n",
       "      <th>icu_yn</th>\n",
       "      <th>death_yn</th>\n",
       "      <th>medcond_yn</th>\n",
       "    </tr>\n",
       "  </thead>\n",
       "  <tbody>\n",
       "    <tr>\n",
       "      <th>0</th>\n",
       "      <td>2020/11/10</td>\n",
       "      <td>2020/11/10</td>\n",
       "      <td>NaN</td>\n",
       "      <td>Laboratory-confirmed case</td>\n",
       "      <td>Male</td>\n",
       "      <td>10 - 19 Years</td>\n",
       "      <td>Black, Non-Hispanic</td>\n",
       "      <td>No</td>\n",
       "      <td>Unknown</td>\n",
       "      <td>No</td>\n",
       "      <td>No</td>\n",
       "    </tr>\n",
       "    <tr>\n",
       "      <th>1</th>\n",
       "      <td>2020/11/14</td>\n",
       "      <td>2020/11/10</td>\n",
       "      <td>2020/11/10</td>\n",
       "      <td>Laboratory-confirmed case</td>\n",
       "      <td>Male</td>\n",
       "      <td>10 - 19 Years</td>\n",
       "      <td>Black, Non-Hispanic</td>\n",
       "      <td>No</td>\n",
       "      <td>No</td>\n",
       "      <td>No</td>\n",
       "      <td>No</td>\n",
       "    </tr>\n",
       "    <tr>\n",
       "      <th>2</th>\n",
       "      <td>2020/11/19</td>\n",
       "      <td>2020/11/10</td>\n",
       "      <td>2020/11/09</td>\n",
       "      <td>Laboratory-confirmed case</td>\n",
       "      <td>Male</td>\n",
       "      <td>10 - 19 Years</td>\n",
       "      <td>Black, Non-Hispanic</td>\n",
       "      <td>No</td>\n",
       "      <td>No</td>\n",
       "      <td>No</td>\n",
       "      <td>No</td>\n",
       "    </tr>\n",
       "    <tr>\n",
       "      <th>3</th>\n",
       "      <td>2020/11/14</td>\n",
       "      <td>2020/11/10</td>\n",
       "      <td>NaN</td>\n",
       "      <td>Laboratory-confirmed case</td>\n",
       "      <td>Male</td>\n",
       "      <td>10 - 19 Years</td>\n",
       "      <td>Black, Non-Hispanic</td>\n",
       "      <td>Missing</td>\n",
       "      <td>Missing</td>\n",
       "      <td>No</td>\n",
       "      <td>Missing</td>\n",
       "    </tr>\n",
       "    <tr>\n",
       "      <th>4</th>\n",
       "      <td>2020/11/13</td>\n",
       "      <td>2020/11/10</td>\n",
       "      <td>2020/11/10</td>\n",
       "      <td>Laboratory-confirmed case</td>\n",
       "      <td>Male</td>\n",
       "      <td>10 - 19 Years</td>\n",
       "      <td>Black, Non-Hispanic</td>\n",
       "      <td>No</td>\n",
       "      <td>No</td>\n",
       "      <td>No</td>\n",
       "      <td>Yes</td>\n",
       "    </tr>\n",
       "  </tbody>\n",
       "</table>\n",
       "</div>"
      ],
      "text/plain": [
       "  cdc_report_dt pos_spec_dt    onset_dt             current_status   sex  \\\n",
       "0    2020/11/10  2020/11/10         NaN  Laboratory-confirmed case  Male   \n",
       "1    2020/11/14  2020/11/10  2020/11/10  Laboratory-confirmed case  Male   \n",
       "2    2020/11/19  2020/11/10  2020/11/09  Laboratory-confirmed case  Male   \n",
       "3    2020/11/14  2020/11/10         NaN  Laboratory-confirmed case  Male   \n",
       "4    2020/11/13  2020/11/10  2020/11/10  Laboratory-confirmed case  Male   \n",
       "\n",
       "       age_group Race and ethnicity (combined)  hosp_yn   icu_yn death_yn  \\\n",
       "0  10 - 19 Years           Black, Non-Hispanic       No  Unknown       No   \n",
       "1  10 - 19 Years           Black, Non-Hispanic       No       No       No   \n",
       "2  10 - 19 Years           Black, Non-Hispanic       No       No       No   \n",
       "3  10 - 19 Years           Black, Non-Hispanic  Missing  Missing       No   \n",
       "4  10 - 19 Years           Black, Non-Hispanic       No       No       No   \n",
       "\n",
       "  medcond_yn  \n",
       "0         No  \n",
       "1         No  \n",
       "2         No  \n",
       "3    Missing  \n",
       "4        Yes  "
      ]
     },
     "execution_count": 3,
     "metadata": {},
     "output_type": "execute_result"
    }
   ],
   "source": [
    "df.head()"
   ]
  },
  {
   "cell_type": "code",
   "execution_count": 4,
   "metadata": {
    "execution": {
     "iopub.execute_input": "2021-01-06T06:50:28.642797Z",
     "iopub.status.busy": "2021-01-06T06:50:28.639754Z",
     "iopub.status.idle": "2021-01-06T06:50:28.645816Z",
     "shell.execute_reply": "2021-01-06T06:50:28.645098Z"
    },
    "papermill": {
     "duration": 0.073169,
     "end_time": "2021-01-06T06:50:28.645946",
     "exception": false,
     "start_time": "2021-01-06T06:50:28.572777",
     "status": "completed"
    },
    "tags": []
   },
   "outputs": [
    {
     "data": {
      "text/plain": [
       "(8405079, 11)"
      ]
     },
     "execution_count": 4,
     "metadata": {},
     "output_type": "execute_result"
    }
   ],
   "source": [
    "df.shape"
   ]
  },
  {
   "cell_type": "markdown",
   "metadata": {
    "papermill": {
     "duration": 0.058475,
     "end_time": "2021-01-06T06:50:28.763931",
     "exception": false,
     "start_time": "2021-01-06T06:50:28.705456",
     "status": "completed"
    },
    "tags": []
   },
   "source": [
    "Dropping the date columns and then the null values from dataset"
   ]
  },
  {
   "cell_type": "code",
   "execution_count": 5,
   "metadata": {
    "execution": {
     "iopub.execute_input": "2021-01-06T06:50:29.641226Z",
     "iopub.status.busy": "2021-01-06T06:50:29.246579Z",
     "iopub.status.idle": "2021-01-06T06:50:29.644340Z",
     "shell.execute_reply": "2021-01-06T06:50:29.643758Z"
    },
    "papermill": {
     "duration": 0.819756,
     "end_time": "2021-01-06T06:50:29.644578",
     "exception": false,
     "start_time": "2021-01-06T06:50:28.824822",
     "status": "completed"
    },
    "tags": []
   },
   "outputs": [],
   "source": [
    "df = df.drop(['pos_spec_dt','onset_dt'],axis =1)"
   ]
  },
  {
   "cell_type": "code",
   "execution_count": 6,
   "metadata": {
    "execution": {
     "iopub.execute_input": "2021-01-06T06:50:37.675878Z",
     "iopub.status.busy": "2021-01-06T06:50:37.674025Z",
     "iopub.status.idle": "2021-01-06T06:50:39.190039Z",
     "shell.execute_reply": "2021-01-06T06:50:39.189418Z"
    },
    "papermill": {
     "duration": 9.504925,
     "end_time": "2021-01-06T06:50:39.190173",
     "exception": false,
     "start_time": "2021-01-06T06:50:29.685248",
     "status": "completed"
    },
    "tags": []
   },
   "outputs": [],
   "source": [
    "df = df.dropna()"
   ]
  },
  {
   "cell_type": "code",
   "execution_count": 7,
   "metadata": {
    "execution": {
     "iopub.execute_input": "2021-01-06T06:50:47.241623Z",
     "iopub.status.busy": "2021-01-06T06:50:47.240509Z",
     "iopub.status.idle": "2021-01-06T06:50:47.412191Z",
     "shell.execute_reply": "2021-01-06T06:50:47.413619Z"
    },
    "papermill": {
     "duration": 8.182207,
     "end_time": "2021-01-06T06:50:47.413832",
     "exception": false,
     "start_time": "2021-01-06T06:50:39.231625",
     "status": "completed"
    },
    "tags": []
   },
   "outputs": [
    {
     "data": {
      "text/plain": [
       "cdc_report_dt                    0\n",
       "current_status                   0\n",
       "sex                              0\n",
       "age_group                        0\n",
       "Race and ethnicity (combined)    0\n",
       "hosp_yn                          0\n",
       "icu_yn                           0\n",
       "death_yn                         0\n",
       "medcond_yn                       0\n",
       "dtype: int64"
      ]
     },
     "execution_count": 7,
     "metadata": {},
     "output_type": "execute_result"
    }
   ],
   "source": [
    "df.isnull().sum()"
   ]
  },
  {
   "cell_type": "code",
   "execution_count": 8,
   "metadata": {
    "execution": {
     "iopub.execute_input": "2021-01-06T06:50:47.614627Z",
     "iopub.status.busy": "2021-01-06T06:50:47.607061Z",
     "iopub.status.idle": "2021-01-06T06:50:47.618608Z",
     "shell.execute_reply": "2021-01-06T06:50:47.617454Z"
    },
    "papermill": {
     "duration": 0.104829,
     "end_time": "2021-01-06T06:50:47.618906",
     "exception": false,
     "start_time": "2021-01-06T06:50:47.514077",
     "status": "completed"
    },
    "tags": []
   },
   "outputs": [
    {
     "data": {
      "text/plain": [
       "(8404990, 9)"
      ]
     },
     "execution_count": 8,
     "metadata": {},
     "output_type": "execute_result"
    }
   ],
   "source": [
    "df.shape"
   ]
  },
  {
   "cell_type": "code",
   "execution_count": 9,
   "metadata": {
    "execution": {
     "iopub.execute_input": "2021-01-06T06:50:47.763312Z",
     "iopub.status.busy": "2021-01-06T06:50:47.762296Z",
     "iopub.status.idle": "2021-01-06T06:50:47.774913Z",
     "shell.execute_reply": "2021-01-06T06:50:47.775700Z"
    },
    "papermill": {
     "duration": 0.08924,
     "end_time": "2021-01-06T06:50:47.775905",
     "exception": false,
     "start_time": "2021-01-06T06:50:47.686665",
     "status": "completed"
    },
    "tags": []
   },
   "outputs": [
    {
     "name": "stdout",
     "output_type": "stream",
     "text": [
      "<class 'pandas.core.frame.DataFrame'>\n",
      "Int64Index: 8404990 entries, 0 to 8405078\n",
      "Data columns (total 9 columns):\n",
      " #   Column                         Dtype \n",
      "---  ------                         ----- \n",
      " 0   cdc_report_dt                  object\n",
      " 1   current_status                 object\n",
      " 2   sex                            object\n",
      " 3   age_group                      object\n",
      " 4   Race and ethnicity (combined)  object\n",
      " 5   hosp_yn                        object\n",
      " 6   icu_yn                         object\n",
      " 7   death_yn                       object\n",
      " 8   medcond_yn                     object\n",
      "dtypes: object(9)\n",
      "memory usage: 641.2+ MB\n"
     ]
    }
   ],
   "source": [
    "df.info()"
   ]
  },
  {
   "cell_type": "code",
   "execution_count": 10,
   "metadata": {
    "execution": {
     "iopub.execute_input": "2021-01-06T06:50:48.390621Z",
     "iopub.status.busy": "2021-01-06T06:50:48.389607Z",
     "iopub.status.idle": "2021-01-06T06:51:59.442540Z",
     "shell.execute_reply": "2021-01-06T06:51:59.443433Z"
    },
    "papermill": {
     "duration": 71.601726,
     "end_time": "2021-01-06T06:51:59.443661",
     "exception": false,
     "start_time": "2021-01-06T06:50:47.841935",
     "status": "completed"
    },
    "tags": []
   },
   "outputs": [
    {
     "name": "stdout",
     "output_type": "stream",
     "text": [
      "current_status\n",
      "current_status             sex      age_group      Race and ethnicity (combined)  hosp_yn  icu_yn   death_yn  medcond_yn\n",
      "Laboratory-confirmed case  Female   20 - 29 Years  Unknown                        Missing  Missing  Missing   Missing       106485\n",
      "                           Male     20 - 29 Years  Unknown                        Missing  Missing  Missing   Missing       103285\n",
      "                                    30 - 39 Years  Unknown                        Missing  Missing  Missing   Missing        88420\n",
      "                           Female   30 - 39 Years  Unknown                        Missing  Missing  Missing   Missing        85402\n",
      "                                    40 - 49 Years  Unknown                        Missing  Missing  Missing   Missing        79194\n",
      "                                                                                                                             ...  \n",
      "                           Unknown  10 - 19 Years  White, Non-Hispanic            No       No       Missing   Unknown            1\n",
      "                                                                                                              Missing            1\n",
      "                                                                                  Missing  Missing  Unknown   Missing            1\n",
      "                                                                                                    Missing   No                 1\n",
      "Probable Case              Unknown  Unknown        White, Non-Hispanic            No       Unknown  No        Unknown            1\n",
      "Length: 33097, dtype: int64\n",
      "______________________\n",
      "sex\n",
      "current_status             sex      age_group      Race and ethnicity (combined)  hosp_yn  icu_yn   death_yn  medcond_yn\n",
      "Laboratory-confirmed case  Female   20 - 29 Years  Unknown                        Missing  Missing  Missing   Missing       106485\n",
      "                           Male     20 - 29 Years  Unknown                        Missing  Missing  Missing   Missing       103285\n",
      "                                    30 - 39 Years  Unknown                        Missing  Missing  Missing   Missing        88420\n",
      "                           Female   30 - 39 Years  Unknown                        Missing  Missing  Missing   Missing        85402\n",
      "                                    40 - 49 Years  Unknown                        Missing  Missing  Missing   Missing        79194\n",
      "                                                                                                                             ...  \n",
      "                           Unknown  10 - 19 Years  White, Non-Hispanic            No       No       Missing   Unknown            1\n",
      "                                                                                                              Missing            1\n",
      "                                                                                  Missing  Missing  Unknown   Missing            1\n",
      "                                                                                                    Missing   No                 1\n",
      "Probable Case              Unknown  Unknown        White, Non-Hispanic            No       Unknown  No        Unknown            1\n",
      "Length: 33097, dtype: int64\n",
      "______________________\n",
      "age_group\n",
      "current_status             sex      age_group      Race and ethnicity (combined)  hosp_yn  icu_yn   death_yn  medcond_yn\n",
      "Laboratory-confirmed case  Female   20 - 29 Years  Unknown                        Missing  Missing  Missing   Missing       106485\n",
      "                           Male     20 - 29 Years  Unknown                        Missing  Missing  Missing   Missing       103285\n",
      "                                    30 - 39 Years  Unknown                        Missing  Missing  Missing   Missing        88420\n",
      "                           Female   30 - 39 Years  Unknown                        Missing  Missing  Missing   Missing        85402\n",
      "                                    40 - 49 Years  Unknown                        Missing  Missing  Missing   Missing        79194\n",
      "                                                                                                                             ...  \n",
      "                           Unknown  10 - 19 Years  White, Non-Hispanic            No       No       Missing   Unknown            1\n",
      "                                                                                                              Missing            1\n",
      "                                                                                  Missing  Missing  Unknown   Missing            1\n",
      "                                                                                                    Missing   No                 1\n",
      "Probable Case              Unknown  Unknown        White, Non-Hispanic            No       Unknown  No        Unknown            1\n",
      "Length: 33097, dtype: int64\n",
      "______________________\n",
      "Race and ethnicity (combined)\n",
      "current_status             sex      age_group      Race and ethnicity (combined)  hosp_yn  icu_yn   death_yn  medcond_yn\n",
      "Laboratory-confirmed case  Female   20 - 29 Years  Unknown                        Missing  Missing  Missing   Missing       106485\n",
      "                           Male     20 - 29 Years  Unknown                        Missing  Missing  Missing   Missing       103285\n",
      "                                    30 - 39 Years  Unknown                        Missing  Missing  Missing   Missing        88420\n",
      "                           Female   30 - 39 Years  Unknown                        Missing  Missing  Missing   Missing        85402\n",
      "                                    40 - 49 Years  Unknown                        Missing  Missing  Missing   Missing        79194\n",
      "                                                                                                                             ...  \n",
      "                           Unknown  10 - 19 Years  White, Non-Hispanic            No       No       Missing   Unknown            1\n",
      "                                                                                                              Missing            1\n",
      "                                                                                  Missing  Missing  Unknown   Missing            1\n",
      "                                                                                                    Missing   No                 1\n",
      "Probable Case              Unknown  Unknown        White, Non-Hispanic            No       Unknown  No        Unknown            1\n",
      "Length: 33097, dtype: int64\n",
      "______________________\n",
      "hosp_yn\n",
      "current_status             sex      age_group      Race and ethnicity (combined)  hosp_yn  icu_yn   death_yn  medcond_yn\n",
      "Laboratory-confirmed case  Female   20 - 29 Years  Unknown                        Missing  Missing  Missing   Missing       106485\n",
      "                           Male     20 - 29 Years  Unknown                        Missing  Missing  Missing   Missing       103285\n",
      "                                    30 - 39 Years  Unknown                        Missing  Missing  Missing   Missing        88420\n",
      "                           Female   30 - 39 Years  Unknown                        Missing  Missing  Missing   Missing        85402\n",
      "                                    40 - 49 Years  Unknown                        Missing  Missing  Missing   Missing        79194\n",
      "                                                                                                                             ...  \n",
      "                           Unknown  10 - 19 Years  White, Non-Hispanic            No       No       Missing   Unknown            1\n",
      "                                                                                                              Missing            1\n",
      "                                                                                  Missing  Missing  Unknown   Missing            1\n",
      "                                                                                                    Missing   No                 1\n",
      "Probable Case              Unknown  Unknown        White, Non-Hispanic            No       Unknown  No        Unknown            1\n",
      "Length: 33097, dtype: int64\n",
      "______________________\n",
      "icu_yn\n",
      "current_status             sex      age_group      Race and ethnicity (combined)  hosp_yn  icu_yn   death_yn  medcond_yn\n",
      "Laboratory-confirmed case  Female   20 - 29 Years  Unknown                        Missing  Missing  Missing   Missing       106485\n",
      "                           Male     20 - 29 Years  Unknown                        Missing  Missing  Missing   Missing       103285\n",
      "                                    30 - 39 Years  Unknown                        Missing  Missing  Missing   Missing        88420\n",
      "                           Female   30 - 39 Years  Unknown                        Missing  Missing  Missing   Missing        85402\n",
      "                                    40 - 49 Years  Unknown                        Missing  Missing  Missing   Missing        79194\n",
      "                                                                                                                             ...  \n",
      "                           Unknown  10 - 19 Years  White, Non-Hispanic            No       No       Missing   Unknown            1\n",
      "                                                                                                              Missing            1\n",
      "                                                                                  Missing  Missing  Unknown   Missing            1\n",
      "                                                                                                    Missing   No                 1\n",
      "Probable Case              Unknown  Unknown        White, Non-Hispanic            No       Unknown  No        Unknown            1\n",
      "Length: 33097, dtype: int64\n",
      "______________________\n",
      "death_yn\n",
      "current_status             sex      age_group      Race and ethnicity (combined)  hosp_yn  icu_yn   death_yn  medcond_yn\n",
      "Laboratory-confirmed case  Female   20 - 29 Years  Unknown                        Missing  Missing  Missing   Missing       106485\n",
      "                           Male     20 - 29 Years  Unknown                        Missing  Missing  Missing   Missing       103285\n",
      "                                    30 - 39 Years  Unknown                        Missing  Missing  Missing   Missing        88420\n",
      "                           Female   30 - 39 Years  Unknown                        Missing  Missing  Missing   Missing        85402\n",
      "                                    40 - 49 Years  Unknown                        Missing  Missing  Missing   Missing        79194\n",
      "                                                                                                                             ...  \n",
      "                           Unknown  10 - 19 Years  White, Non-Hispanic            No       No       Missing   Unknown            1\n",
      "                                                                                                              Missing            1\n",
      "                                                                                  Missing  Missing  Unknown   Missing            1\n",
      "                                                                                                    Missing   No                 1\n",
      "Probable Case              Unknown  Unknown        White, Non-Hispanic            No       Unknown  No        Unknown            1\n",
      "Length: 33097, dtype: int64\n",
      "______________________\n",
      "medcond_yn\n",
      "current_status             sex      age_group      Race and ethnicity (combined)  hosp_yn  icu_yn   death_yn  medcond_yn\n",
      "Laboratory-confirmed case  Female   20 - 29 Years  Unknown                        Missing  Missing  Missing   Missing       106485\n",
      "                           Male     20 - 29 Years  Unknown                        Missing  Missing  Missing   Missing       103285\n",
      "                                    30 - 39 Years  Unknown                        Missing  Missing  Missing   Missing        88420\n",
      "                           Female   30 - 39 Years  Unknown                        Missing  Missing  Missing   Missing        85402\n",
      "                                    40 - 49 Years  Unknown                        Missing  Missing  Missing   Missing        79194\n",
      "                                                                                                                             ...  \n",
      "                           Unknown  10 - 19 Years  White, Non-Hispanic            No       No       Missing   Unknown            1\n",
      "                                                                                                              Missing            1\n",
      "                                                                                  Missing  Missing  Unknown   Missing            1\n",
      "                                                                                                    Missing   No                 1\n",
      "Probable Case              Unknown  Unknown        White, Non-Hispanic            No       Unknown  No        Unknown            1\n",
      "Length: 33097, dtype: int64\n",
      "______________________\n"
     ]
    }
   ],
   "source": [
    "colums = ['current_status', 'sex', 'age_group', 'Race and ethnicity (combined)', 'hosp_yn','icu_yn', 'death_yn', 'medcond_yn']\n",
    "for col in colums:\n",
    "    print(col)\n",
    "    print(df[colums].value_counts())\n",
    "    print(\"______________________\")"
   ]
  },
  {
   "cell_type": "code",
   "execution_count": 11,
   "metadata": {
    "execution": {
     "iopub.execute_input": "2021-01-06T06:52:01.688641Z",
     "iopub.status.busy": "2021-01-06T06:52:01.687527Z",
     "iopub.status.idle": "2021-01-06T06:52:28.062395Z",
     "shell.execute_reply": "2021-01-06T06:52:28.061409Z"
    },
    "papermill": {
     "duration": 28.570264,
     "end_time": "2021-01-06T06:52:28.062518",
     "exception": false,
     "start_time": "2021-01-06T06:51:59.492254",
     "status": "completed"
    },
    "tags": []
   },
   "outputs": [
    {
     "data": {
      "text/html": [
       "<div>\n",
       "<style scoped>\n",
       "    .dataframe tbody tr th:only-of-type {\n",
       "        vertical-align: middle;\n",
       "    }\n",
       "\n",
       "    .dataframe tbody tr th {\n",
       "        vertical-align: top;\n",
       "    }\n",
       "\n",
       "    .dataframe thead th {\n",
       "        text-align: right;\n",
       "    }\n",
       "</style>\n",
       "<table border=\"1\" class=\"dataframe\">\n",
       "  <thead>\n",
       "    <tr style=\"text-align: right;\">\n",
       "      <th></th>\n",
       "      <th>count</th>\n",
       "      <th>unique</th>\n",
       "      <th>top</th>\n",
       "      <th>freq</th>\n",
       "    </tr>\n",
       "  </thead>\n",
       "  <tbody>\n",
       "    <tr>\n",
       "      <th>cdc_report_dt</th>\n",
       "      <td>8404990</td>\n",
       "      <td>321</td>\n",
       "      <td>2020/06/24</td>\n",
       "      <td>155856</td>\n",
       "    </tr>\n",
       "    <tr>\n",
       "      <th>current_status</th>\n",
       "      <td>8404990</td>\n",
       "      <td>2</td>\n",
       "      <td>Laboratory-confirmed case</td>\n",
       "      <td>7910037</td>\n",
       "    </tr>\n",
       "    <tr>\n",
       "      <th>sex</th>\n",
       "      <td>8404990</td>\n",
       "      <td>5</td>\n",
       "      <td>Female</td>\n",
       "      <td>4340898</td>\n",
       "    </tr>\n",
       "    <tr>\n",
       "      <th>age_group</th>\n",
       "      <td>8404990</td>\n",
       "      <td>10</td>\n",
       "      <td>20 - 29 Years</td>\n",
       "      <td>1635264</td>\n",
       "    </tr>\n",
       "    <tr>\n",
       "      <th>Race and ethnicity (combined)</th>\n",
       "      <td>8404990</td>\n",
       "      <td>9</td>\n",
       "      <td>Unknown</td>\n",
       "      <td>2781165</td>\n",
       "    </tr>\n",
       "    <tr>\n",
       "      <th>hosp_yn</th>\n",
       "      <td>8404990</td>\n",
       "      <td>4</td>\n",
       "      <td>No</td>\n",
       "      <td>3502508</td>\n",
       "    </tr>\n",
       "    <tr>\n",
       "      <th>icu_yn</th>\n",
       "      <td>8404990</td>\n",
       "      <td>4</td>\n",
       "      <td>Missing</td>\n",
       "      <td>6178240</td>\n",
       "    </tr>\n",
       "    <tr>\n",
       "      <th>death_yn</th>\n",
       "      <td>8404990</td>\n",
       "      <td>4</td>\n",
       "      <td>No</td>\n",
       "      <td>3690765</td>\n",
       "    </tr>\n",
       "    <tr>\n",
       "      <th>medcond_yn</th>\n",
       "      <td>8404990</td>\n",
       "      <td>4</td>\n",
       "      <td>Missing</td>\n",
       "      <td>6063360</td>\n",
       "    </tr>\n",
       "  </tbody>\n",
       "</table>\n",
       "</div>"
      ],
      "text/plain": [
       "                                 count unique                        top  \\\n",
       "cdc_report_dt                  8404990    321                 2020/06/24   \n",
       "current_status                 8404990      2  Laboratory-confirmed case   \n",
       "sex                            8404990      5                     Female   \n",
       "age_group                      8404990     10              20 - 29 Years   \n",
       "Race and ethnicity (combined)  8404990      9                    Unknown   \n",
       "hosp_yn                        8404990      4                         No   \n",
       "icu_yn                         8404990      4                    Missing   \n",
       "death_yn                       8404990      4                         No   \n",
       "medcond_yn                     8404990      4                    Missing   \n",
       "\n",
       "                                  freq  \n",
       "cdc_report_dt                   155856  \n",
       "current_status                 7910037  \n",
       "sex                            4340898  \n",
       "age_group                      1635264  \n",
       "Race and ethnicity (combined)  2781165  \n",
       "hosp_yn                        3502508  \n",
       "icu_yn                         6178240  \n",
       "death_yn                       3690765  \n",
       "medcond_yn                     6063360  "
      ]
     },
     "execution_count": 11,
     "metadata": {},
     "output_type": "execute_result"
    }
   ],
   "source": [
    "df.describe().T"
   ]
  },
  {
   "cell_type": "code",
   "execution_count": 12,
   "metadata": {
    "execution": {
     "iopub.execute_input": "2021-01-06T06:52:28.156397Z",
     "iopub.status.busy": "2021-01-06T06:52:28.155654Z",
     "iopub.status.idle": "2021-01-06T06:52:34.632538Z",
     "shell.execute_reply": "2021-01-06T06:52:34.631548Z"
    },
    "papermill": {
     "duration": 6.52535,
     "end_time": "2021-01-06T06:52:34.632647",
     "exception": false,
     "start_time": "2021-01-06T06:52:28.107297",
     "status": "completed"
    },
    "tags": []
   },
   "outputs": [
    {
     "data": {
      "text/plain": [
       "cdc_report_dt                    321\n",
       "current_status                     2\n",
       "sex                                5\n",
       "age_group                         10\n",
       "Race and ethnicity (combined)      9\n",
       "hosp_yn                            4\n",
       "icu_yn                             4\n",
       "death_yn                           4\n",
       "medcond_yn                         4\n",
       "dtype: int64"
      ]
     },
     "execution_count": 12,
     "metadata": {},
     "output_type": "execute_result"
    }
   ],
   "source": [
    "#Unique values in data\n",
    "df.nunique()"
   ]
  },
  {
   "cell_type": "markdown",
   "metadata": {
    "papermill": {
     "duration": 0.046471,
     "end_time": "2021-01-06T06:52:34.724740",
     "exception": false,
     "start_time": "2021-01-06T06:52:34.678269",
     "status": "completed"
    },
    "tags": []
   },
   "source": [
    "## Some Interesting Insights from Visualization"
   ]
  },
  {
   "cell_type": "code",
   "execution_count": 13,
   "metadata": {
    "execution": {
     "iopub.execute_input": "2021-01-06T06:52:34.822601Z",
     "iopub.status.busy": "2021-01-06T06:52:34.821802Z",
     "iopub.status.idle": "2021-01-06T06:52:37.051313Z",
     "shell.execute_reply": "2021-01-06T06:52:37.050191Z"
    },
    "papermill": {
     "duration": 2.281291,
     "end_time": "2021-01-06T06:52:37.051475",
     "exception": false,
     "start_time": "2021-01-06T06:52:34.770184",
     "status": "completed"
    },
    "tags": []
   },
   "outputs": [
    {
     "data": {
      "text/plain": [
       "<matplotlib.axes._subplots.AxesSubplot at 0x7f04bd7f4b10>"
      ]
     },
     "execution_count": 13,
     "metadata": {},
     "output_type": "execute_result"
    },
    {
     "data": {
      "image/png": "[encoded data removed]",
      "text/plain": [
       "<Figure size 2160x720 with 1 Axes>"
      ]
     },
     "metadata": {},
     "output_type": "display_data"
    }
   ],
   "source": [
    "plt.figure(figsize=(30,10))\n",
    "plt.subplots_adjust(left=0.125, bottom=0.1, right=0.9, top=0.9,\n",
    "                      wspace=0.5, hspace=0.2)\n",
    "plt.subplot(141)\n",
    "plt.title('medcond_yn ',fontsize = 20)\n",
    "df['medcond_yn'].value_counts().plot.pie(autopct=\"%1.1f%%\")"
   ]
  },
  {
   "cell_type": "code",
   "execution_count": 14,
   "metadata": {
    "execution": {
     "iopub.execute_input": "2021-01-06T06:52:37.163424Z",
     "iopub.status.busy": "2021-01-06T06:52:37.162346Z",
     "iopub.status.idle": "2021-01-06T06:52:40.011491Z",
     "shell.execute_reply": "2021-01-06T06:52:40.010846Z"
    },
    "papermill": {
     "duration": 2.912031,
     "end_time": "2021-01-06T06:52:40.011620",
     "exception": false,
     "start_time": "2021-01-06T06:52:37.099589",
     "status": "completed"
    },
    "tags": []
   },
   "outputs": [
    {
     "data": {
      "text/plain": [
       "<matplotlib.axes._subplots.AxesSubplot at 0x7f04bd64b790>"
      ]
     },
     "execution_count": 14,
     "metadata": {},
     "output_type": "execute_result"
    },
    {
     "data": {
      "image/png": "[encoded data removed]",
      "text/plain": [
       "<Figure size 2160x720 with 1 Axes>"
      ]
     },
     "metadata": {},
     "output_type": "display_data"
    }
   ],
   "source": [
    "plt.figure(figsize=(30,10))\n",
    "plt.subplots_adjust(left=0.125, bottom=0.1, right=0.9, top=0.9,\n",
    "                      wspace=0.5, hspace=0.2)\n",
    "plt.subplot(141)\n",
    "plt.title('death_yn',fontsize = 20)\n",
    "df['death_yn'].value_counts().plot.pie(autopct=\"%1.1f%%\")"
   ]
  },
  {
   "cell_type": "code",
   "execution_count": 15,
   "metadata": {
    "execution": {
     "iopub.execute_input": "2021-01-06T06:52:40.200505Z",
     "iopub.status.busy": "2021-01-06T06:52:40.198311Z",
     "iopub.status.idle": "2021-01-06T06:52:42.325728Z",
     "shell.execute_reply": "2021-01-06T06:52:42.326253Z"
    },
    "papermill": {
     "duration": 2.263395,
     "end_time": "2021-01-06T06:52:42.326405",
     "exception": false,
     "start_time": "2021-01-06T06:52:40.063010",
     "status": "completed"
    },
    "tags": []
   },
   "outputs": [
    {
     "data": {
      "text/plain": [
       "<matplotlib.axes._subplots.AxesSubplot at 0x7f04bd649a90>"
      ]
     },
     "execution_count": 15,
     "metadata": {},
     "output_type": "execute_result"
    },
    {
     "data": {
      "image/png": "[encoded data removed]",
      "text/plain": [
       "<Figure size 2160x720 with 1 Axes>"
      ]
     },
     "metadata": {},
     "output_type": "display_data"
    }
   ],
   "source": [
    "plt.figure(figsize=(30,10))\n",
    "plt.subplots_adjust(left=0.125, bottom=0.1, right=0.9, top=0.9,\n",
    "                      wspace=0.5, hspace=0.2)\n",
    "plt.subplot(141)\n",
    "plt.title('hosp_yn',fontsize = 20)\n",
    "df['hosp_yn'].value_counts().plot.pie(autopct=\"%1.1f%%\")"
   ]
  },
  {
   "cell_type": "code",
   "execution_count": 16,
   "metadata": {
    "execution": {
     "iopub.execute_input": "2021-01-06T06:52:42.445660Z",
     "iopub.status.busy": "2021-01-06T06:52:42.444499Z",
     "iopub.status.idle": "2021-01-06T06:52:44.574500Z",
     "shell.execute_reply": "2021-01-06T06:52:44.575053Z"
    },
    "papermill": {
     "duration": 2.195369,
     "end_time": "2021-01-06T06:52:44.575194",
     "exception": false,
     "start_time": "2021-01-06T06:52:42.379825",
     "status": "completed"
    },
    "tags": []
   },
   "outputs": [
    {
     "data": {
      "text/plain": [
       "<matplotlib.axes._subplots.AxesSubplot at 0x7f04bd580c50>"
      ]
     },
     "execution_count": 16,
     "metadata": {},
     "output_type": "execute_result"
    },
    {
     "data": {
      "image/png": "[encoded data removed]",
      "text/plain": [
       "<Figure size 2160x720 with 1 Axes>"
      ]
     },
     "metadata": {},
     "output_type": "display_data"
    }
   ],
   "source": [
    "plt.figure(figsize=(30,10))\n",
    "plt.subplots_adjust(left=0.125, bottom=0.1, right=0.9, top=0.9,\n",
    "                      wspace=0.5, hspace=0.2)\n",
    "plt.subplot(141)\n",
    "plt.title('icu_yn',fontsize = 20)\n",
    "df['icu_yn'].value_counts().plot.pie(autopct=\"%1.1f%%\")"
   ]
  },
  {
   "cell_type": "markdown",
   "metadata": {
    "papermill": {
     "duration": 0.057147,
     "end_time": "2021-01-06T06:52:44.687683",
     "exception": false,
     "start_time": "2021-01-06T06:52:44.630536",
     "status": "completed"
    },
    "tags": []
   },
   "source": [
    "From the above pie charts we can see there are lot of missing data to conclude."
   ]
  },
  {
   "cell_type": "code",
   "execution_count": 17,
   "metadata": {
    "execution": {
     "iopub.execute_input": "2021-01-06T06:52:44.802521Z",
     "iopub.status.busy": "2021-01-06T06:52:44.801474Z",
     "iopub.status.idle": "2021-01-06T06:52:47.260141Z",
     "shell.execute_reply": "2021-01-06T06:52:47.259599Z"
    },
    "papermill": {
     "duration": 2.521642,
     "end_time": "2021-01-06T06:52:47.260334",
     "exception": false,
     "start_time": "2021-01-06T06:52:44.738692",
     "status": "completed"
    },
    "tags": []
   },
   "outputs": [
    {
     "data": {
      "text/plain": [
       "<matplotlib.axes._subplots.AxesSubplot at 0x7f04bd522dd0>"
      ]
     },
     "execution_count": 17,
     "metadata": {},
     "output_type": "execute_result"
    },
    {
     "data": {
      "image/png": "[encoded data removed]",
      "text/plain": [
       "<Figure size 2160x720 with 1 Axes>"
      ]
     },
     "metadata": {},
     "output_type": "display_data"
    }
   ],
   "source": [
    "plt.figure(figsize=(30,10))\n",
    "plt.subplots_adjust(left=0.125, bottom=0.1, right=0.9, top=0.9,wspace=0.5, hspace=0.2)\n",
    "plt.subplot(141)\n",
    "plt.title('Race and ethnicity (combined)',fontsize = 20)\n",
    "df['Race and ethnicity (combined)'].value_counts().plot.pie(autopct=\"%1.1f%%\")"
   ]
  },
  {
   "cell_type": "markdown",
   "metadata": {
    "papermill": {
     "duration": 0.074677,
     "end_time": "2021-01-06T06:52:47.386158",
     "exception": false,
     "start_time": "2021-01-06T06:52:47.311481",
     "status": "completed"
    },
    "tags": []
   },
   "source": [
    "Pie chart on the basis of Ethnicity/Race"
   ]
  },
  {
   "cell_type": "code",
   "execution_count": 18,
   "metadata": {
    "execution": {
     "iopub.execute_input": "2021-01-06T06:52:47.505061Z",
     "iopub.status.busy": "2021-01-06T06:52:47.504115Z",
     "iopub.status.idle": "2021-01-06T06:52:50.062432Z",
     "shell.execute_reply": "2021-01-06T06:52:50.061471Z"
    },
    "papermill": {
     "duration": 2.623455,
     "end_time": "2021-01-06T06:52:50.062552",
     "exception": false,
     "start_time": "2021-01-06T06:52:47.439097",
     "status": "completed"
    },
    "tags": []
   },
   "outputs": [
    {
     "data": {
      "text/plain": [
       "<matplotlib.axes._subplots.AxesSubplot at 0x7f04bd451bd0>"
      ]
     },
     "execution_count": 18,
     "metadata": {},
     "output_type": "execute_result"
    },
    {
     "data": {
      "image/png": "[encoded data removed]",
      "text/plain": [
       "<Figure size 2160x720 with 1 Axes>"
      ]
     },
     "metadata": {},
     "output_type": "display_data"
    }
   ],
   "source": [
    "plt.figure(figsize=(30,10))\n",
    "plt.subplots_adjust(left=0.125, bottom=0.1, right=0.9, top=0.9,\n",
    "                      wspace=0.5, hspace=0.2)\n",
    "plt.subplot(141)\n",
    "plt.title('current_status',fontsize = 20)\n",
    "df['current_status'].value_counts().plot.pie(autopct=\"%1.1f%%\")"
   ]
  },
  {
   "cell_type": "code",
   "execution_count": 19,
   "metadata": {
    "execution": {
     "iopub.execute_input": "2021-01-06T06:52:50.631685Z",
     "iopub.status.busy": "2021-01-06T06:52:50.630836Z",
     "iopub.status.idle": "2021-01-06T06:53:01.917942Z",
     "shell.execute_reply": "2021-01-06T06:53:01.918468Z"
    },
    "papermill": {
     "duration": 11.796472,
     "end_time": "2021-01-06T06:53:01.918620",
     "exception": false,
     "start_time": "2021-01-06T06:52:50.122148",
     "status": "completed"
    },
    "tags": []
   },
   "outputs": [
    {
     "data": {
      "text/plain": [
       "<matplotlib.axes._subplots.AxesSubplot at 0x7f04c4d59250>"
      ]
     },
     "execution_count": 19,
     "metadata": {},
     "output_type": "execute_result"
    },
    {
     "data": {
      "image/png": "[encoded data removed]",
      "text/plain": [
       "<Figure size 720x432 with 1 Axes>"
      ]
     },
     "metadata": {
      "needs_background": "light"
     },
     "output_type": "display_data"
    }
   ],
   "source": [
    "plt.figure(figsize=(10,6))\n",
    "sns.countplot(y=\"current_status\",hue ='sex',data=df)"
   ]
  },
  {
   "cell_type": "markdown",
   "metadata": {
    "papermill": {
     "duration": 0.053974,
     "end_time": "2021-01-06T06:53:02.034035",
     "exception": false,
     "start_time": "2021-01-06T06:53:01.980061",
     "status": "completed"
    },
    "tags": []
   },
   "source": [
    "Medical condition with respect to gender, while we have lot of missing data"
   ]
  },
  {
   "cell_type": "code",
   "execution_count": 20,
   "metadata": {
    "execution": {
     "iopub.execute_input": "2021-01-06T06:53:02.595267Z",
     "iopub.status.busy": "2021-01-06T06:53:02.285387Z",
     "iopub.status.idle": "2021-01-06T06:53:13.393383Z",
     "shell.execute_reply": "2021-01-06T06:53:13.392790Z"
    },
    "papermill": {
     "duration": 11.304801,
     "end_time": "2021-01-06T06:53:13.393509",
     "exception": false,
     "start_time": "2021-01-06T06:53:02.088708",
     "status": "completed"
    },
    "tags": []
   },
   "outputs": [
    {
     "data": {
      "text/plain": [
       "<matplotlib.axes._subplots.AxesSubplot at 0x7f04bd4c40d0>"
      ]
     },
     "execution_count": 20,
     "metadata": {},
     "output_type": "execute_result"
    },
    {
     "data": {
      "image/png": "[encoded data removed]",
      "text/plain": [
       "<Figure size 720x432 with 1 Axes>"
      ]
     },
     "metadata": {
      "needs_background": "light"
     },
     "output_type": "display_data"
    }
   ],
   "source": [
    "plt.figure(figsize=(10,6))\n",
    "sns.countplot(y=\"medcond_yn\",hue ='sex',data=df)"
   ]
  },
  {
   "cell_type": "markdown",
   "metadata": {
    "papermill": {
     "duration": 0.060533,
     "end_time": "2021-01-06T06:53:13.518031",
     "exception": false,
     "start_time": "2021-01-06T06:53:13.457498",
     "status": "completed"
    },
    "tags": []
   },
   "source": [
    "Death ratio of male and female are same, while missing rate is highest"
   ]
  },
  {
   "cell_type": "code",
   "execution_count": 21,
   "metadata": {
    "execution": {
     "iopub.execute_input": "2021-01-06T06:53:14.091199Z",
     "iopub.status.busy": "2021-01-06T06:53:14.090245Z",
     "iopub.status.idle": "2021-01-06T06:53:24.904921Z",
     "shell.execute_reply": "2021-01-06T06:53:24.905473Z"
    },
    "papermill": {
     "duration": 11.33038,
     "end_time": "2021-01-06T06:53:24.905644",
     "exception": false,
     "start_time": "2021-01-06T06:53:13.575264",
     "status": "completed"
    },
    "tags": []
   },
   "outputs": [
    {
     "data": {
      "text/plain": [
       "<matplotlib.axes._subplots.AxesSubplot at 0x7f04bd3c9310>"
      ]
     },
     "execution_count": 21,
     "metadata": {},
     "output_type": "execute_result"
    },
    {
     "data": {
      "image/png": "[encoded data removed]",
      "text/plain": [
       "<Figure size 720x432 with 1 Axes>"
      ]
     },
     "metadata": {
      "needs_background": "light"
     },
     "output_type": "display_data"
    }
   ],
   "source": [
    "plt.figure(figsize=(10,6))\n",
    "sns.countplot(y=\"death_yn\",hue ='sex',data=df)"
   ]
  },
  {
   "cell_type": "markdown",
   "metadata": {
    "papermill": {
     "duration": 0.058164,
     "end_time": "2021-01-06T06:53:25.027868",
     "exception": false,
     "start_time": "2021-01-06T06:53:24.969704",
     "status": "completed"
    },
    "tags": []
   },
   "source": [
    "Age group from 20-29 has the highest count"
   ]
  },
  {
   "cell_type": "code",
   "execution_count": 22,
   "metadata": {
    "execution": {
     "iopub.execute_input": "2021-01-06T06:53:25.608115Z",
     "iopub.status.busy": "2021-01-06T06:53:25.154338Z",
     "iopub.status.idle": "2021-01-06T06:53:27.973666Z",
     "shell.execute_reply": "2021-01-06T06:53:27.974227Z"
    },
    "papermill": {
     "duration": 2.884271,
     "end_time": "2021-01-06T06:53:27.974416",
     "exception": false,
     "start_time": "2021-01-06T06:53:25.090145",
     "status": "completed"
    },
    "tags": []
   },
   "outputs": [
    {
     "data": {
      "text/plain": [
       "<matplotlib.axes._subplots.AxesSubplot at 0x7f04bd2b00d0>"
      ]
     },
     "execution_count": 22,
     "metadata": {},
     "output_type": "execute_result"
    },
    {
     "data": {
      "image/png": "[encoded data removed]",
      "text/plain": [
       "<Figure size 720x432 with 1 Axes>"
      ]
     },
     "metadata": {
      "needs_background": "light"
     },
     "output_type": "display_data"
    }
   ],
   "source": [
    "plt.figure(figsize=(10,6))\n",
    "sns.countplot(y=\"age_group\",data=df)"
   ]
  },
  {
   "cell_type": "markdown",
   "metadata": {
    "papermill": {
     "duration": 0.06589,
     "end_time": "2021-01-06T06:53:28.105644",
     "exception": false,
     "start_time": "2021-01-06T06:53:28.039754",
     "status": "completed"
    },
    "tags": []
   },
   "source": [
    "Age Group with respect to their gender."
   ]
  },
  {
   "cell_type": "code",
   "execution_count": 23,
   "metadata": {
    "execution": {
     "iopub.execute_input": "2021-01-06T06:53:28.691236Z",
     "iopub.status.busy": "2021-01-06T06:53:28.690383Z",
     "iopub.status.idle": "2021-01-06T06:53:39.363336Z",
     "shell.execute_reply": "2021-01-06T06:53:39.363821Z"
    },
    "papermill": {
     "duration": 11.192053,
     "end_time": "2021-01-06T06:53:39.363969",
     "exception": false,
     "start_time": "2021-01-06T06:53:28.171916",
     "status": "completed"
    },
    "tags": []
   },
   "outputs": [
    {
     "data": {
      "text/plain": [
       "<matplotlib.axes._subplots.AxesSubplot at 0x7f04bd27d710>"
      ]
     },
     "execution_count": 23,
     "metadata": {},
     "output_type": "execute_result"
    },
    {
     "data": {
      "image/png": "[encoded data removed]",
      "text/plain": [
       "<Figure size 720x576 with 1 Axes>"
      ]
     },
     "metadata": {
      "needs_background": "light"
     },
     "output_type": "display_data"
    }
   ],
   "source": [
    "plt.figure(figsize=(10,8))\n",
    "sns.countplot(y=\"age_group\",hue ='sex',data=df)"
   ]
  },
  {
   "cell_type": "code",
   "execution_count": 24,
   "metadata": {
    "execution": {
     "iopub.execute_input": "2021-01-06T06:53:39.945525Z",
     "iopub.status.busy": "2021-01-06T06:53:39.944649Z",
     "iopub.status.idle": "2021-01-06T06:53:59.311587Z",
     "shell.execute_reply": "2021-01-06T06:53:59.310895Z"
    },
    "papermill": {
     "duration": 19.877917,
     "end_time": "2021-01-06T06:53:59.311717",
     "exception": false,
     "start_time": "2021-01-06T06:53:39.433800",
     "status": "completed"
    },
    "tags": []
   },
   "outputs": [
    {
     "data": {
      "text/plain": [
       "<Figure size 720x576 with 0 Axes>"
      ]
     },
     "metadata": {},
     "output_type": "display_data"
    },
    {
     "data": {
      "image/png": "[encoded data removed]",
      "text/plain": [
       "<Figure size 586.375x360 with 2 Axes>"
      ]
     },
     "metadata": {
      "needs_background": "light"
     },
     "output_type": "display_data"
    }
   ],
   "source": [
    "plt.figure(figsize=(10,8))\n",
    "sns.catplot(x=\"age_group\", hue=\"sex\", col=\"current_status\", data=df, kind=\"count\", height=5, aspect=.7);"
   ]
  },
  {
   "cell_type": "code",
   "execution_count": 25,
   "metadata": {
    "execution": {
     "iopub.execute_input": "2021-01-06T06:54:00.273396Z",
     "iopub.status.busy": "2021-01-06T06:54:00.271667Z",
     "iopub.status.idle": "2021-01-06T06:54:02.087178Z",
     "shell.execute_reply": "2021-01-06T06:54:02.086356Z"
    },
    "papermill": {
     "duration": 2.705956,
     "end_time": "2021-01-06T06:54:02.087359",
     "exception": false,
     "start_time": "2021-01-06T06:53:59.381403",
     "status": "completed"
    },
    "tags": []
   },
   "outputs": [
    {
     "name": "stdout",
     "output_type": "stream",
     "text": [
      "Start Date: 2020/01/01\n",
      "End Date: 2020/11/19\n"
     ]
    }
   ],
   "source": [
    "print(\"Start Date:\", df['cdc_report_dt'].min())\n",
    "print(\"End Date:\", df['cdc_report_dt'].max())"
   ]
  },
  {
   "cell_type": "code",
   "execution_count": 26,
   "metadata": {
    "execution": {
     "iopub.execute_input": "2021-01-06T06:54:04.311860Z",
     "iopub.status.busy": "2021-01-06T06:54:04.310860Z",
     "iopub.status.idle": "2021-01-06T06:54:04.323509Z",
     "shell.execute_reply": "2021-01-06T06:54:04.322931Z"
    },
    "papermill": {
     "duration": 2.173476,
     "end_time": "2021-01-06T06:54:04.323625",
     "exception": false,
     "start_time": "2021-01-06T06:54:02.150149",
     "status": "completed"
    },
    "tags": []
   },
   "outputs": [
    {
     "data": {
      "text/plain": [
       "20 - 29 Years    1635264\n",
       "30 - 39 Years    1372623\n",
       "40 - 49 Years    1267350\n",
       "50 - 59 Years    1227493\n",
       "60 - 69 Years     863260\n",
       "10 - 19 Years     841450\n",
       "70 - 79 Years     483689\n",
       "80+ Years         382869\n",
       "0 - 9 Years       299040\n",
       "Unknown            31952\n",
       "Name: age_group, dtype: int64"
      ]
     },
     "execution_count": 26,
     "metadata": {},
     "output_type": "execute_result"
    }
   ],
   "source": [
    "df['age_group'].value_counts()"
   ]
  },
  {
   "cell_type": "markdown",
   "metadata": {
    "papermill": {
     "duration": 0.067641,
     "end_time": "2021-01-06T06:54:04.456131",
     "exception": false,
     "start_time": "2021-01-06T06:54:04.388490",
     "status": "completed"
    },
    "tags": []
   },
   "source": [
    "## Data Preparation For Model"
   ]
  },
  {
   "cell_type": "code",
   "execution_count": 27,
   "metadata": {
    "execution": {
     "iopub.execute_input": "2021-01-06T06:54:05.516353Z",
     "iopub.status.busy": "2021-01-06T06:54:05.515132Z",
     "iopub.status.idle": "2021-01-06T06:54:05.523401Z",
     "shell.execute_reply": "2021-01-06T06:54:05.524114Z"
    },
    "papermill": {
     "duration": 1.002661,
     "end_time": "2021-01-06T06:54:05.524340",
     "exception": false,
     "start_time": "2021-01-06T06:54:04.521679",
     "status": "completed"
    },
    "tags": []
   },
   "outputs": [],
   "source": [
    "data = df.copy()"
   ]
  },
  {
   "cell_type": "code",
   "execution_count": 28,
   "metadata": {
    "execution": {
     "iopub.execute_input": "2021-01-06T06:54:05.714585Z",
     "iopub.status.busy": "2021-01-06T06:54:05.713809Z",
     "iopub.status.idle": "2021-01-06T06:54:08.033231Z",
     "shell.execute_reply": "2021-01-06T06:54:08.032634Z"
    },
    "papermill": {
     "duration": 2.41713,
     "end_time": "2021-01-06T06:54:08.033374",
     "exception": false,
     "start_time": "2021-01-06T06:54:05.616244",
     "status": "completed"
    },
    "tags": []
   },
   "outputs": [
    {
     "data": {
      "text/plain": [
       "Female     4340898\n",
       "Male       3970591\n",
       "Unknown      73838\n",
       "Missing      19508\n",
       "Other          155\n",
       "Name: sex, dtype: int64"
      ]
     },
     "execution_count": 28,
     "metadata": {},
     "output_type": "execute_result"
    }
   ],
   "source": [
    "data['sex'].value_counts()"
   ]
  },
  {
   "cell_type": "markdown",
   "metadata": {
    "papermill": {
     "duration": 0.064922,
     "end_time": "2021-01-06T06:54:08.165759",
     "exception": false,
     "start_time": "2021-01-06T06:54:08.100837",
     "status": "completed"
    },
    "tags": []
   },
   "source": [
    "### Converting categorical feature to numeric"
   ]
  },
  {
   "cell_type": "code",
   "execution_count": 29,
   "metadata": {
    "execution": {
     "iopub.execute_input": "2021-01-06T06:54:08.303651Z",
     "iopub.status.busy": "2021-01-06T06:54:08.302934Z",
     "iopub.status.idle": "2021-01-06T06:54:08.306619Z",
     "shell.execute_reply": "2021-01-06T06:54:08.307551Z"
    },
    "papermill": {
     "duration": 0.07575,
     "end_time": "2021-01-06T06:54:08.307691",
     "exception": false,
     "start_time": "2021-01-06T06:54:08.231941",
     "status": "completed"
    },
    "tags": []
   },
   "outputs": [],
   "source": [
    "from sklearn.preprocessing import LabelEncoder\n",
    "\n",
    "lb_make = LabelEncoder()"
   ]
  },
  {
   "cell_type": "markdown",
   "metadata": {
    "papermill": {
     "duration": 0.068253,
     "end_time": "2021-01-06T06:54:08.442021",
     "exception": false,
     "start_time": "2021-01-06T06:54:08.373768",
     "status": "completed"
    },
    "tags": []
   },
   "source": [
    "Converting a categorical feature\n",
    "Now we can convert features which contain strings to numerical values. This is required by most model algorithms. Doing so will also help us in achieving the feature completing goal.\n",
    "\n",
    "Let us start by converting Sex feature to a new feature called Gender where female=0 and male=1 and so on."
   ]
  },
  {
   "cell_type": "code",
   "execution_count": 30,
   "metadata": {
    "execution": {
     "iopub.execute_input": "2021-01-06T06:54:09.594095Z",
     "iopub.status.busy": "2021-01-06T06:54:08.716900Z",
     "iopub.status.idle": "2021-01-06T06:54:10.665653Z",
     "shell.execute_reply": "2021-01-06T06:54:10.666333Z"
    },
    "papermill": {
     "duration": 2.156369,
     "end_time": "2021-01-06T06:54:10.666511",
     "exception": false,
     "start_time": "2021-01-06T06:54:08.510142",
     "status": "completed"
    },
    "tags": []
   },
   "outputs": [
    {
     "name": "stdout",
     "output_type": "stream",
     "text": [
      "  cdc_report_dt             current_status  sex      age_group  \\\n",
      "0    2020/11/10  Laboratory-confirmed case    1  10 - 19 Years   \n",
      "1    2020/11/14  Laboratory-confirmed case    1  10 - 19 Years   \n",
      "2    2020/11/19  Laboratory-confirmed case    1  10 - 19 Years   \n",
      "3    2020/11/14  Laboratory-confirmed case    1  10 - 19 Years   \n",
      "4    2020/11/13  Laboratory-confirmed case    1  10 - 19 Years   \n",
      "\n",
      "  Race and ethnicity (combined)  hosp_yn   icu_yn death_yn medcond_yn  \n",
      "0           Black, Non-Hispanic       No  Unknown       No         No  \n",
      "1           Black, Non-Hispanic       No       No       No         No  \n",
      "2           Black, Non-Hispanic       No       No       No         No  \n",
      "3           Black, Non-Hispanic  Missing  Missing       No    Missing  \n",
      "4           Black, Non-Hispanic       No       No       No        Yes  \n"
     ]
    }
   ],
   "source": [
    "# mapp = {'Female':1,'Male':2,'Unknown':3,'Missing':4,'Other':5}\n",
    "# data['sex'] = data['sex'].apply(lambda x:mapp[x])\n",
    "\n",
    "data['sex'] = data['sex'].map({'Female':0,'Male':1,'Unknown':2,'Missing':3,'Other':4})\n",
    "print(data.head())"
   ]
  },
  {
   "cell_type": "code",
   "execution_count": 31,
   "metadata": {
    "execution": {
     "iopub.execute_input": "2021-01-06T06:54:11.284748Z",
     "iopub.status.busy": "2021-01-06T06:54:11.274633Z",
     "iopub.status.idle": "2021-01-06T06:54:30.691926Z",
     "shell.execute_reply": "2021-01-06T06:54:30.691046Z"
    },
    "papermill": {
     "duration": 19.96058,
     "end_time": "2021-01-06T06:54:30.692065",
     "exception": false,
     "start_time": "2021-01-06T06:54:10.731485",
     "status": "completed"
    },
    "tags": []
   },
   "outputs": [],
   "source": [
    "data[\"current_status\"] = lb_make.fit_transform(data[\"current_status\"])\n",
    "data[\"hosp_yn\"] = lb_make.fit_transform(data[\"hosp_yn\"])\n",
    "data[\"icu_yn\"] = lb_make.fit_transform(data[\"icu_yn\"])\n",
    "data[\"death_yn\"] = lb_make.fit_transform(data[\"death_yn\"])\n",
    "data[\"medcond_yn\"] = lb_make.fit_transform(data[\"medcond_yn\"])"
   ]
  },
  {
   "cell_type": "code",
   "execution_count": 32,
   "metadata": {
    "execution": {
     "iopub.execute_input": "2021-01-06T06:54:30.838522Z",
     "iopub.status.busy": "2021-01-06T06:54:30.837558Z",
     "iopub.status.idle": "2021-01-06T06:54:30.841443Z",
     "shell.execute_reply": "2021-01-06T06:54:30.841908Z"
    },
    "papermill": {
     "duration": 0.083486,
     "end_time": "2021-01-06T06:54:30.842036",
     "exception": false,
     "start_time": "2021-01-06T06:54:30.758550",
     "status": "completed"
    },
    "tags": []
   },
   "outputs": [
    {
     "data": {
      "text/html": [
       "<div>\n",
       "<style scoped>\n",
       "    .dataframe tbody tr th:only-of-type {\n",
       "        vertical-align: middle;\n",
       "    }\n",
       "\n",
       "    .dataframe tbody tr th {\n",
       "        vertical-align: top;\n",
       "    }\n",
       "\n",
       "    .dataframe thead th {\n",
       "        text-align: right;\n",
       "    }\n",
       "</style>\n",
       "<table border=\"1\" class=\"dataframe\">\n",
       "  <thead>\n",
       "    <tr style=\"text-align: right;\">\n",
       "      <th></th>\n",
       "      <th>cdc_report_dt</th>\n",
       "      <th>current_status</th>\n",
       "      <th>sex</th>\n",
       "      <th>age_group</th>\n",
       "      <th>Race and ethnicity (combined)</th>\n",
       "      <th>hosp_yn</th>\n",
       "      <th>icu_yn</th>\n",
       "      <th>death_yn</th>\n",
       "      <th>medcond_yn</th>\n",
       "    </tr>\n",
       "  </thead>\n",
       "  <tbody>\n",
       "    <tr>\n",
       "      <th>0</th>\n",
       "      <td>2020/11/10</td>\n",
       "      <td>0</td>\n",
       "      <td>1</td>\n",
       "      <td>10 - 19 Years</td>\n",
       "      <td>Black, Non-Hispanic</td>\n",
       "      <td>1</td>\n",
       "      <td>2</td>\n",
       "      <td>1</td>\n",
       "      <td>1</td>\n",
       "    </tr>\n",
       "    <tr>\n",
       "      <th>1</th>\n",
       "      <td>2020/11/14</td>\n",
       "      <td>0</td>\n",
       "      <td>1</td>\n",
       "      <td>10 - 19 Years</td>\n",
       "      <td>Black, Non-Hispanic</td>\n",
       "      <td>1</td>\n",
       "      <td>1</td>\n",
       "      <td>1</td>\n",
       "      <td>1</td>\n",
       "    </tr>\n",
       "    <tr>\n",
       "      <th>2</th>\n",
       "      <td>2020/11/19</td>\n",
       "      <td>0</td>\n",
       "      <td>1</td>\n",
       "      <td>10 - 19 Years</td>\n",
       "      <td>Black, Non-Hispanic</td>\n",
       "      <td>1</td>\n",
       "      <td>1</td>\n",
       "      <td>1</td>\n",
       "      <td>1</td>\n",
       "    </tr>\n",
       "    <tr>\n",
       "      <th>3</th>\n",
       "      <td>2020/11/14</td>\n",
       "      <td>0</td>\n",
       "      <td>1</td>\n",
       "      <td>10 - 19 Years</td>\n",
       "      <td>Black, Non-Hispanic</td>\n",
       "      <td>0</td>\n",
       "      <td>0</td>\n",
       "      <td>1</td>\n",
       "      <td>0</td>\n",
       "    </tr>\n",
       "    <tr>\n",
       "      <th>4</th>\n",
       "      <td>2020/11/13</td>\n",
       "      <td>0</td>\n",
       "      <td>1</td>\n",
       "      <td>10 - 19 Years</td>\n",
       "      <td>Black, Non-Hispanic</td>\n",
       "      <td>1</td>\n",
       "      <td>1</td>\n",
       "      <td>1</td>\n",
       "      <td>3</td>\n",
       "    </tr>\n",
       "  </tbody>\n",
       "</table>\n",
       "</div>"
      ],
      "text/plain": [
       "  cdc_report_dt  current_status  sex      age_group  \\\n",
       "0    2020/11/10               0    1  10 - 19 Years   \n",
       "1    2020/11/14               0    1  10 - 19 Years   \n",
       "2    2020/11/19               0    1  10 - 19 Years   \n",
       "3    2020/11/14               0    1  10 - 19 Years   \n",
       "4    2020/11/13               0    1  10 - 19 Years   \n",
       "\n",
       "  Race and ethnicity (combined)  hosp_yn  icu_yn  death_yn  medcond_yn  \n",
       "0           Black, Non-Hispanic        1       2         1           1  \n",
       "1           Black, Non-Hispanic        1       1         1           1  \n",
       "2           Black, Non-Hispanic        1       1         1           1  \n",
       "3           Black, Non-Hispanic        0       0         1           0  \n",
       "4           Black, Non-Hispanic        1       1         1           3  "
      ]
     },
     "execution_count": 32,
     "metadata": {},
     "output_type": "execute_result"
    }
   ],
   "source": [
    "data.head()"
   ]
  },
  {
   "cell_type": "code",
   "execution_count": 33,
   "metadata": {
    "execution": {
     "iopub.execute_input": "2021-01-06T06:54:30.979792Z",
     "iopub.status.busy": "2021-01-06T06:54:30.978975Z",
     "iopub.status.idle": "2021-01-06T06:54:30.982873Z",
     "shell.execute_reply": "2021-01-06T06:54:30.982385Z"
    },
    "papermill": {
     "duration": 0.074568,
     "end_time": "2021-01-06T06:54:30.982968",
     "exception": false,
     "start_time": "2021-01-06T06:54:30.908400",
     "status": "completed"
    },
    "tags": []
   },
   "outputs": [
    {
     "data": {
      "text/plain": [
       "(8404990, 9)"
      ]
     },
     "execution_count": 33,
     "metadata": {},
     "output_type": "execute_result"
    }
   ],
   "source": [
    "data.shape"
   ]
  },
  {
   "cell_type": "code",
   "execution_count": 34,
   "metadata": {
    "execution": {
     "iopub.execute_input": "2021-01-06T06:54:31.123670Z",
     "iopub.status.busy": "2021-01-06T06:54:31.122232Z",
     "iopub.status.idle": "2021-01-06T06:54:31.543032Z",
     "shell.execute_reply": "2021-01-06T06:54:31.542402Z"
    },
    "papermill": {
     "duration": 0.492694,
     "end_time": "2021-01-06T06:54:31.543156",
     "exception": false,
     "start_time": "2021-01-06T06:54:31.050462",
     "status": "completed"
    },
    "tags": []
   },
   "outputs": [],
   "source": [
    "X =  data[['current_status','hosp_yn','icu_yn','medcond_yn','sex']]\n",
    "y = data['death_yn']"
   ]
  },
  {
   "cell_type": "code",
   "execution_count": 35,
   "metadata": {
    "execution": {
     "iopub.execute_input": "2021-01-06T06:54:31.696722Z",
     "iopub.status.busy": "2021-01-06T06:54:31.695765Z",
     "iopub.status.idle": "2021-01-06T06:54:32.974676Z",
     "shell.execute_reply": "2021-01-06T06:54:32.974028Z"
    },
    "papermill": {
     "duration": 1.357465,
     "end_time": "2021-01-06T06:54:32.974811",
     "exception": false,
     "start_time": "2021-01-06T06:54:31.617346",
     "status": "completed"
    },
    "tags": []
   },
   "outputs": [],
   "source": [
    "from sklearn.model_selection import train_test_split\n",
    "\n",
    "X_train, X_test, y_train, y_test = train_test_split(X, y, test_size=0.33, random_state=42)"
   ]
  },
  {
   "cell_type": "markdown",
   "metadata": {
    "papermill": {
     "duration": 0.066493,
     "end_time": "2021-01-06T06:54:33.109277",
     "exception": false,
     "start_time": "2021-01-06T06:54:33.042784",
     "status": "completed"
    },
    "tags": []
   },
   "source": [
    "## Model Building with Logistic Regression and Decision Tree:"
   ]
  },
  {
   "cell_type": "markdown",
   "metadata": {
    "papermill": {
     "duration": 0.067971,
     "end_time": "2021-01-06T06:54:33.244652",
     "exception": false,
     "start_time": "2021-01-06T06:54:33.176681",
     "status": "completed"
    },
    "tags": []
   },
   "source": [
    "Logistic Regression is a useful model to run early in the workflow. Logistic regression measures the relationship between the categorical dependent variable (feature) and one or more independent variables (features) by estimating probabilities using a logistic function, which is the cumulative logistic distribution"
   ]
  },
  {
   "cell_type": "code",
   "execution_count": 36,
   "metadata": {
    "execution": {
     "iopub.execute_input": "2021-01-06T06:54:33.389678Z",
     "iopub.status.busy": "2021-01-06T06:54:33.388405Z",
     "iopub.status.idle": "2021-01-06T06:57:00.143632Z",
     "shell.execute_reply": "2021-01-06T06:57:00.144132Z"
    },
    "papermill": {
     "duration": 146.832132,
     "end_time": "2021-01-06T06:57:00.144293",
     "exception": false,
     "start_time": "2021-01-06T06:54:33.312161",
     "status": "completed"
    },
    "tags": []
   },
   "outputs": [
    {
     "data": {
      "text/plain": [
       "73.29"
      ]
     },
     "execution_count": 36,
     "metadata": {},
     "output_type": "execute_result"
    }
   ],
   "source": [
    "# Logistic Regression\n",
    "\n",
    "logreg = LogisticRegression()\n",
    "logreg.fit(X_train, y_train)\n",
    "Y_pred = logreg.predict(X_test)\n",
    "acc_log = round(logreg.score(X_train, y_train) * 100, 2)\n",
    "acc_log"
   ]
  },
  {
   "cell_type": "markdown",
   "metadata": {
    "papermill": {
     "duration": 0.068197,
     "end_time": "2021-01-06T06:57:00.279320",
     "exception": false,
     "start_time": "2021-01-06T06:57:00.211123",
     "status": "completed"
    },
    "tags": []
   },
   "source": [
    "This model uses a decision tree as a predictive model which maps features (tree branches) to conclusions about the target value (tree leaves). Tree models where the target variable can take a finite set of values are called classification trees; in these tree structures, leaves represent class labels and branches represent conjunctions of features that lead to those class labels. Decision trees where the target variable can take continuous values (typically real numbers) are called regression trees.\n",
    "\n",
    "The model confidence score is the highest among models evaluated so far."
   ]
  },
  {
   "cell_type": "code",
   "execution_count": 37,
   "metadata": {
    "execution": {
     "iopub.execute_input": "2021-01-06T06:57:00.420726Z",
     "iopub.status.busy": "2021-01-06T06:57:00.419685Z",
     "iopub.status.idle": "2021-01-06T06:57:10.835386Z",
     "shell.execute_reply": "2021-01-06T06:57:10.834359Z"
    },
    "papermill": {
     "duration": 10.488439,
     "end_time": "2021-01-06T06:57:10.835507",
     "exception": false,
     "start_time": "2021-01-06T06:57:00.347068",
     "status": "completed"
    },
    "tags": []
   },
   "outputs": [
    {
     "data": {
      "text/plain": [
       "78.07"
      ]
     },
     "execution_count": 37,
     "metadata": {},
     "output_type": "execute_result"
    }
   ],
   "source": [
    "# Decision Tree\n",
    "\n",
    "decision_tree = DecisionTreeClassifier()\n",
    "decision_tree.fit(X_train, y_train)\n",
    "Y_pred = decision_tree.predict(X_test)\n",
    "acc_decision_tree = round(decision_tree.score(X_train, y_train) * 100, 2)\n",
    "acc_decision_tree"
   ]
  },
  {
   "cell_type": "markdown",
   "metadata": {
    "papermill": {
     "duration": 0.067392,
     "end_time": "2021-01-06T06:57:10.971909",
     "exception": false,
     "start_time": "2021-01-06T06:57:10.904517",
     "status": "completed"
    },
    "tags": []
   },
   "source": [
    "#### Model evaluation\n",
    "We can now rank our evaluation of all the models to choose the best one for our problem. While both Decision Tree and Logisitic Regression score the different, we choose to use Decision Tree, habit of overfitting to their training set."
   ]
  },
  {
   "cell_type": "code",
   "execution_count": 38,
   "metadata": {
    "execution": {
     "iopub.execute_input": "2021-01-06T06:57:11.117822Z",
     "iopub.status.busy": "2021-01-06T06:57:11.116988Z",
     "iopub.status.idle": "2021-01-06T06:57:11.121014Z",
     "shell.execute_reply": "2021-01-06T06:57:11.120449Z"
    },
    "papermill": {
     "duration": 0.082736,
     "end_time": "2021-01-06T06:57:11.121117",
     "exception": false,
     "start_time": "2021-01-06T06:57:11.038381",
     "status": "completed"
    },
    "tags": []
   },
   "outputs": [
    {
     "data": {
      "text/html": [
       "<div>\n",
       "<style scoped>\n",
       "    .dataframe tbody tr th:only-of-type {\n",
       "        vertical-align: middle;\n",
       "    }\n",
       "\n",
       "    .dataframe tbody tr th {\n",
       "        vertical-align: top;\n",
       "    }\n",
       "\n",
       "    .dataframe thead th {\n",
       "        text-align: right;\n",
       "    }\n",
       "</style>\n",
       "<table border=\"1\" class=\"dataframe\">\n",
       "  <thead>\n",
       "    <tr style=\"text-align: right;\">\n",
       "      <th></th>\n",
       "      <th>Model</th>\n",
       "      <th>Score</th>\n",
       "    </tr>\n",
       "  </thead>\n",
       "  <tbody>\n",
       "    <tr>\n",
       "      <th>1</th>\n",
       "      <td>Decision Tree</td>\n",
       "      <td>78.07</td>\n",
       "    </tr>\n",
       "    <tr>\n",
       "      <th>0</th>\n",
       "      <td>Logistic Regression</td>\n",
       "      <td>73.29</td>\n",
       "    </tr>\n",
       "  </tbody>\n",
       "</table>\n",
       "</div>"
      ],
      "text/plain": [
       "                 Model  Score\n",
       "1        Decision Tree  78.07\n",
       "0  Logistic Regression  73.29"
      ]
     },
     "execution_count": 38,
     "metadata": {},
     "output_type": "execute_result"
    }
   ],
   "source": [
    "models = pd.DataFrame({\n",
    "    'Model': ['Logistic Regression', 'Decision Tree'],\n",
    "    'Score': [ acc_log, acc_decision_tree]})\n",
    "sorted_model=models.sort_values(by='Score', ascending=False)\n",
    "sorted_model"
   ]
  },
  {
   "cell_type": "code",
   "execution_count": 39,
   "metadata": {
    "execution": {
     "iopub.execute_input": "2021-01-06T06:57:11.270774Z",
     "iopub.status.busy": "2021-01-06T06:57:11.269703Z",
     "iopub.status.idle": "2021-01-06T06:57:11.437442Z",
     "shell.execute_reply": "2021-01-06T06:57:11.437995Z"
    },
    "papermill": {
     "duration": 0.249963,
     "end_time": "2021-01-06T06:57:11.438153",
     "exception": false,
     "start_time": "2021-01-06T06:57:11.188190",
     "status": "completed"
    },
    "tags": []
   },
   "outputs": [
    {
     "data": {
      "image/png": "[encoded data removed]",
      "text/plain": [
       "<Figure size 1440x720 with 1 Axes>"
      ]
     },
     "metadata": {
      "needs_background": "light"
     },
     "output_type": "display_data"
    }
   ],
   "source": [
    "plt.figure(figsize=(20,10))\n",
    "fig = plt.bar(sorted_model['Model'], sorted_model['Score'],color='aqua')\n",
    "plt.grid()\n",
    "plt.show()"
   ]
  },
  {
   "cell_type": "markdown",
   "metadata": {
    "papermill": {
     "duration": 0.075775,
     "end_time": "2021-01-06T06:57:11.591844",
     "exception": false,
     "start_time": "2021-01-06T06:57:11.516069",
     "status": "completed"
    },
    "tags": []
   },
   "source": [
    "## Can Try with below Models as well."
   ]
  },
  {
   "cell_type": "code",
   "execution_count": 40,
   "metadata": {
    "execution": {
     "iopub.execute_input": "2021-01-06T06:57:11.747474Z",
     "iopub.status.busy": "2021-01-06T06:57:11.745498Z",
     "iopub.status.idle": "2021-01-06T06:57:11.748227Z",
     "shell.execute_reply": "2021-01-06T06:57:11.748815Z"
    },
    "papermill": {
     "duration": 0.082235,
     "end_time": "2021-01-06T06:57:11.748952",
     "exception": false,
     "start_time": "2021-01-06T06:57:11.666717",
     "status": "completed"
    },
    "tags": []
   },
   "outputs": [],
   "source": [
    "# # Logistic Regression\n",
    "\n",
    "# logreg = LogisticRegression()\n",
    "# logreg.fit(X_train, Y_train)\n",
    "# Y_pred = logreg.predict(X_test)\n",
    "# acc_log = round(logreg.score(X_train, Y_train) * 100, 2)\n",
    "# acc_log\n",
    "\n",
    "# # Support Vector Machines\n",
    "\n",
    "# svc = SVC()\n",
    "# svc.fit(X_train, Y_train)\n",
    "# Y_pred = svc.predict(X_test)\n",
    "# acc_svc = round(svc.score(X_train, Y_train) * 100, 2)\n",
    "# acc_svc\n",
    "\n",
    "\n",
    "# knn = KNeighborsClassifier(n_neighbors = 3)\n",
    "# knn.fit(X_train, Y_train)\n",
    "# Y_pred = knn.predict(X_test)\n",
    "# acc_knn = round(knn.score(X_train, Y_train) * 100, 2)\n",
    "# acc_knn\n",
    "\n",
    "# # Gaussian Naive Bayes\n",
    "\n",
    "# gaussian = GaussianNB()\n",
    "# gaussian.fit(X_train, Y_train)\n",
    "# Y_pred = gaussian.predict(X_test)\n",
    "# acc_gaussian = round(gaussian.score(X_train, Y_train) * 100, 2)\n",
    "# acc_gaussian\n",
    "\n",
    "\n",
    "# # Perceptron\n",
    "\n",
    "# perceptron = Perceptron()\n",
    "# perceptron.fit(X_train, Y_train)\n",
    "# Y_pred = perceptron.predict(X_test)\n",
    "# acc_perceptron = round(perceptron.score(X_train, Y_train) * 100, 2)\n",
    "# acc_perceptron\n",
    "\n",
    "\n",
    "\n",
    "# # Linear SVC\n",
    "\n",
    "# linear_svc = LinearSVC()\n",
    "# linear_svc.fit(X_train, Y_train)\n",
    "# Y_pred = linear_svc.predict(X_test)\n",
    "# acc_linear_svc = round(linear_svc.score(X_train, Y_train) * 100, 2)\n",
    "# acc_linear_svc\n",
    "\n",
    "\n",
    "# # Stochastic Gradient Descent\n",
    "\n",
    "# sgd = SGDClassifier()\n",
    "# sgd.fit(X_train, Y_train)\n",
    "# Y_pred = sgd.predict(X_test)\n",
    "# acc_sgd = round(sgd.score(X_train, Y_train) * 100, 2)\n",
    "# acc_sgd\n",
    "\n",
    "\n",
    "# # Decision Tree\n",
    "\n",
    "# decision_tree = DecisionTreeClassifier()\n",
    "# decision_tree.fit(X_train, Y_train)\n",
    "# Y_pred = decision_tree.predict(X_test)\n",
    "# acc_decision_tree = round(decision_tree.score(X_train, Y_train) * 100, 2)\n",
    "# acc_decision_tree\n",
    "\n",
    "\n",
    "# # Random Forest\n",
    "\n",
    "# random_forest = RandomForestClassifier(n_estimators=100)\n",
    "# random_forest.fit(X_train, Y_train)\n",
    "# Y_pred = random_forest.predict(X_test)\n",
    "# random_forest.score(X_train, Y_train)\n",
    "# acc_random_forest = round(random_forest.score(X_train, Y_train) * 100, 2)\n",
    "# acc_random_forest\n",
    "\n",
    "# models = pd.DataFrame({\n",
    "#     'Model': ['Support Vector Machines', 'KNN', 'Logistic Regression', \n",
    "#               'Random Forest', 'Naive Bayes', 'Perceptron', \n",
    "#               'Stochastic Gradient Decent', 'Linear SVC', \n",
    "#               'Decision Tree'],\n",
    "#     'Score': [acc_svc, acc_knn, acc_log, \n",
    "#               acc_random_forest, acc_gaussian, acc_perceptron, \n",
    "#               acc_sgd, acc_linear_svc, acc_decision_tree]})\n",
    "# sorted_model=models.sort_values(by='Score', ascending=False)\n",
    "# sorted_model\n"
   ]
  },
  {
   "cell_type": "code",
   "execution_count": 41,
   "metadata": {
    "execution": {
     "iopub.execute_input": "2021-01-06T06:57:11.896496Z",
     "iopub.status.busy": "2021-01-06T06:57:11.895814Z",
     "iopub.status.idle": "2021-01-06T06:57:11.900246Z",
     "shell.execute_reply": "2021-01-06T06:57:11.899758Z"
    },
    "papermill": {
     "duration": 0.078495,
     "end_time": "2021-01-06T06:57:11.900356",
     "exception": false,
     "start_time": "2021-01-06T06:57:11.821861",
     "status": "completed"
    },
    "tags": []
   },
   "outputs": [],
   "source": [
    "# submission = pd.DataFrame({\n",
    "#         \"PatientId\": test_df[\"patient\"],\n",
    "#         \"death_yn\": Y_pred\n",
    "#     })\n",
    "# submission.to_csv('submission2.csv', index=False)"
   ]
  },
  {
   "cell_type": "markdown",
   "metadata": {
    "papermill": {
     "duration": 0.070519,
     "end_time": "2021-01-06T06:57:12.041275",
     "exception": false,
     "start_time": "2021-01-06T06:57:11.970756",
     "status": "completed"
    },
    "tags": []
   },
   "source": [
    "### Please upvote, if it helps :)"
   ]
  }
 ],
 "metadata": {
  "kernelspec": {
   "display_name": "Python 3",
   "language": "python",
   "name": "python3"
  },
  "language_info": {
   "codemirror_mode": {
    "name": "ipython",
    "version": 3
   },
   "file_extension": ".py",
   "mimetype": "text/x-python",
   "name": "python",
   "nbconvert_exporter": "python",
   "pygments_lexer": "ipython3",
   "version": "3.7.6"
  },
  "papermill": {
   "duration": 437.320032,
   "end_time": "2021-01-06T06:57:12.220913",
   "environment_variables": {},
   "exception": null,
   "input_path": "__notebook__.ipynb",
   "output_path": "__notebook__.ipynb",
   "parameters": {},
   "start_time": "2021-01-06T06:49:54.900881",
   "version": "2.1.0"
  }
 },
 "nbformat": 4,
 "nbformat_minor": 4
}
