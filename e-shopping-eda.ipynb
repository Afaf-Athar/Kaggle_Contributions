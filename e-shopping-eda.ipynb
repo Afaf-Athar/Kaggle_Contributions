{
 "cells": [
  {
   "cell_type": "code",
   "execution_count": 1,
   "metadata": {
    "_cell_guid": "b1076dfc-b9ad-4769-8c92-a6c4dae69d19",
    "_uuid": "8f2839f25d086af736a60e9eeb907d3b93b6e0e5",
    "execution": {
     "iopub.execute_input": "2021-01-01T08:00:52.722539Z",
     "iopub.status.busy": "2021-01-01T08:00:52.721804Z",
     "iopub.status.idle": "2021-01-01T08:00:52.739512Z",
     "shell.execute_reply": "2021-01-01T08:00:52.740510Z"
    },
    "papermill": {
     "duration": 0.046623,
     "end_time": "2021-01-01T08:00:52.740766",
     "exception": false,
     "start_time": "2021-01-01T08:00:52.694143",
     "status": "completed"
    },
    "tags": []
   },
   "outputs": [
    {
     "name": "stdout",
     "output_type": "stream",
     "text": [
      "/kaggle/input/eshopping/e-shop clothing 2008.csv\n"
     ]
    }
   ],
   "source": [
    "# This Python 3 environment comes with many helpful analytics libraries installed\n",
    "# It is defined by the kaggle/python Docker image: https://github.com/kaggle/docker-python\n",
    "# For example, here's several helpful packages to load\n",
    "\n",
    "import numpy as np # linear algebra\n",
    "import pandas as pd # data processing, CSV file I/O (e.g. pd.read_csv)\n",
    "\n",
    "# Input data files are available in the read-only \"../input/\" directory\n",
    "# For example, running this (by clicking run or pressing Shift+Enter) will list all files under the input directory\n",
    "\n",
    "import os\n",
    "for dirname, _, filenames in os.walk('/kaggle/input'):\n",
    "    for filename in filenames:\n",
    "        print(os.path.join(dirname, filename))\n",
    "\n",
    "# You can write up to 20GB to the current directory (/kaggle/working/) that gets preserved as output when you create a version using \"Save & Run All\" \n",
    "# You can also write temporary files to /kaggle/temp/, but they won't be saved outside of the current session"
   ]
  },
  {
   "cell_type": "code",
   "execution_count": 2,
   "metadata": {
    "execution": {
     "iopub.execute_input": "2021-01-01T08:00:52.788296Z",
     "iopub.status.busy": "2021-01-01T08:00:52.787489Z",
     "iopub.status.idle": "2021-01-01T08:00:53.583460Z",
     "shell.execute_reply": "2021-01-01T08:00:53.582739Z"
    },
    "papermill": {
     "duration": 0.820995,
     "end_time": "2021-01-01T08:00:53.583588",
     "exception": false,
     "start_time": "2021-01-01T08:00:52.762593",
     "status": "completed"
    },
    "tags": []
   },
   "outputs": [],
   "source": [
    "import matplotlib.pyplot as plt # plotting\n",
    "import seaborn as sns\n",
    "import numpy as np # linear algebra\n",
    "import os # accessing directory structure\n",
    "import pandas as pd # data processing, CSV file I/O (e.g. pd.read_csv)"
   ]
  },
  {
   "cell_type": "code",
   "execution_count": 3,
   "metadata": {
    "_cell_guid": "79c7e3d0-c299-4dcb-8224-4455121ee9b0",
    "_uuid": "d629ff2d2480ee46fbb7e2d37f6b5fab8052498a",
    "execution": {
     "iopub.execute_input": "2021-01-01T08:00:53.630903Z",
     "iopub.status.busy": "2021-01-01T08:00:53.630209Z",
     "iopub.status.idle": "2021-01-01T08:00:53.993949Z",
     "shell.execute_reply": "2021-01-01T08:00:53.994545Z"
    },
    "papermill": {
     "duration": 0.390524,
     "end_time": "2021-01-01T08:00:53.994693",
     "exception": false,
     "start_time": "2021-01-01T08:00:53.604169",
     "status": "completed"
    },
    "tags": []
   },
   "outputs": [
    {
     "data": {
      "text/html": [
       "<div>\n",
       "<style scoped>\n",
       "    .dataframe tbody tr th:only-of-type {\n",
       "        vertical-align: middle;\n",
       "    }\n",
       "\n",
       "    .dataframe tbody tr th {\n",
       "        vertical-align: top;\n",
       "    }\n",
       "\n",
       "    .dataframe thead th {\n",
       "        text-align: right;\n",
       "    }\n",
       "</style>\n",
       "<table border=\"1\" class=\"dataframe\">\n",
       "  <thead>\n",
       "    <tr style=\"text-align: right;\">\n",
       "      <th></th>\n",
       "      <th>year</th>\n",
       "      <th>month</th>\n",
       "      <th>day</th>\n",
       "      <th>order</th>\n",
       "      <th>country</th>\n",
       "      <th>session ID</th>\n",
       "      <th>page 1 (main category)</th>\n",
       "      <th>page 2 (clothing model)</th>\n",
       "      <th>colour</th>\n",
       "      <th>location</th>\n",
       "      <th>model photography</th>\n",
       "      <th>price</th>\n",
       "      <th>price 2</th>\n",
       "      <th>page</th>\n",
       "    </tr>\n",
       "  </thead>\n",
       "  <tbody>\n",
       "    <tr>\n",
       "      <th>0</th>\n",
       "      <td>2008</td>\n",
       "      <td>4</td>\n",
       "      <td>1</td>\n",
       "      <td>1</td>\n",
       "      <td>29</td>\n",
       "      <td>1</td>\n",
       "      <td>1</td>\n",
       "      <td>A13</td>\n",
       "      <td>1</td>\n",
       "      <td>5</td>\n",
       "      <td>1</td>\n",
       "      <td>28</td>\n",
       "      <td>2</td>\n",
       "      <td>1</td>\n",
       "    </tr>\n",
       "    <tr>\n",
       "      <th>1</th>\n",
       "      <td>2008</td>\n",
       "      <td>4</td>\n",
       "      <td>1</td>\n",
       "      <td>2</td>\n",
       "      <td>29</td>\n",
       "      <td>1</td>\n",
       "      <td>1</td>\n",
       "      <td>A16</td>\n",
       "      <td>1</td>\n",
       "      <td>6</td>\n",
       "      <td>1</td>\n",
       "      <td>33</td>\n",
       "      <td>2</td>\n",
       "      <td>1</td>\n",
       "    </tr>\n",
       "    <tr>\n",
       "      <th>2</th>\n",
       "      <td>2008</td>\n",
       "      <td>4</td>\n",
       "      <td>1</td>\n",
       "      <td>3</td>\n",
       "      <td>29</td>\n",
       "      <td>1</td>\n",
       "      <td>2</td>\n",
       "      <td>B4</td>\n",
       "      <td>10</td>\n",
       "      <td>2</td>\n",
       "      <td>1</td>\n",
       "      <td>52</td>\n",
       "      <td>1</td>\n",
       "      <td>1</td>\n",
       "    </tr>\n",
       "    <tr>\n",
       "      <th>3</th>\n",
       "      <td>2008</td>\n",
       "      <td>4</td>\n",
       "      <td>1</td>\n",
       "      <td>4</td>\n",
       "      <td>29</td>\n",
       "      <td>1</td>\n",
       "      <td>2</td>\n",
       "      <td>B17</td>\n",
       "      <td>6</td>\n",
       "      <td>6</td>\n",
       "      <td>2</td>\n",
       "      <td>38</td>\n",
       "      <td>2</td>\n",
       "      <td>1</td>\n",
       "    </tr>\n",
       "    <tr>\n",
       "      <th>4</th>\n",
       "      <td>2008</td>\n",
       "      <td>4</td>\n",
       "      <td>1</td>\n",
       "      <td>5</td>\n",
       "      <td>29</td>\n",
       "      <td>1</td>\n",
       "      <td>2</td>\n",
       "      <td>B8</td>\n",
       "      <td>4</td>\n",
       "      <td>3</td>\n",
       "      <td>2</td>\n",
       "      <td>52</td>\n",
       "      <td>1</td>\n",
       "      <td>1</td>\n",
       "    </tr>\n",
       "  </tbody>\n",
       "</table>\n",
       "</div>"
      ],
      "text/plain": [
       "   year  month  day  order  country  session ID  page 1 (main category)  \\\n",
       "0  2008      4    1      1       29           1                       1   \n",
       "1  2008      4    1      2       29           1                       1   \n",
       "2  2008      4    1      3       29           1                       2   \n",
       "3  2008      4    1      4       29           1                       2   \n",
       "4  2008      4    1      5       29           1                       2   \n",
       "\n",
       "  page 2 (clothing model)  colour  location  model photography  price  \\\n",
       "0                     A13       1         5                  1     28   \n",
       "1                     A16       1         6                  1     33   \n",
       "2                      B4      10         2                  1     52   \n",
       "3                     B17       6         6                  2     38   \n",
       "4                      B8       4         3                  2     52   \n",
       "\n",
       "   price 2  page  \n",
       "0        2     1  \n",
       "1        2     1  \n",
       "2        1     1  \n",
       "3        2     1  \n",
       "4        1     1  "
      ]
     },
     "execution_count": 3,
     "metadata": {},
     "output_type": "execute_result"
    }
   ],
   "source": [
    "df = pd.read_csv('../input/eshopping/e-shop clothing 2008.csv',sep =';')\n",
    "df.head()"
   ]
  },
  {
   "cell_type": "markdown",
   "metadata": {
    "papermill": {
     "duration": 0.021386,
     "end_time": "2021-01-01T08:00:54.037329",
     "exception": false,
     "start_time": "2021-01-01T08:00:54.015943",
     "status": "completed"
    },
    "tags": []
   },
   "source": [
    "Shape of dataset\n"
   ]
  },
  {
   "cell_type": "code",
   "execution_count": 4,
   "metadata": {
    "execution": {
     "iopub.execute_input": "2021-01-01T08:00:54.084385Z",
     "iopub.status.busy": "2021-01-01T08:00:54.083614Z",
     "iopub.status.idle": "2021-01-01T08:00:54.088262Z",
     "shell.execute_reply": "2021-01-01T08:00:54.088785Z"
    },
    "papermill": {
     "duration": 0.030673,
     "end_time": "2021-01-01T08:00:54.088937",
     "exception": false,
     "start_time": "2021-01-01T08:00:54.058264",
     "status": "completed"
    },
    "tags": []
   },
   "outputs": [
    {
     "data": {
      "text/plain": [
       "(165474, 14)"
      ]
     },
     "execution_count": 4,
     "metadata": {},
     "output_type": "execute_result"
    }
   ],
   "source": [
    "df.shape"
   ]
  },
  {
   "cell_type": "code",
   "execution_count": 5,
   "metadata": {
    "execution": {
     "iopub.execute_input": "2021-01-01T08:00:54.155846Z",
     "iopub.status.busy": "2021-01-01T08:00:54.154842Z",
     "iopub.status.idle": "2021-01-01T08:00:54.165268Z",
     "shell.execute_reply": "2021-01-01T08:00:54.164671Z"
    },
    "papermill": {
     "duration": 0.054737,
     "end_time": "2021-01-01T08:00:54.165382",
     "exception": false,
     "start_time": "2021-01-01T08:00:54.110645",
     "status": "completed"
    },
    "tags": []
   },
   "outputs": [
    {
     "data": {
      "text/plain": [
       "year                       0\n",
       "month                      0\n",
       "day                        0\n",
       "order                      0\n",
       "country                    0\n",
       "session ID                 0\n",
       "page 1 (main category)     0\n",
       "page 2 (clothing model)    0\n",
       "colour                     0\n",
       "location                   0\n",
       "model photography          0\n",
       "price                      0\n",
       "price 2                    0\n",
       "page                       0\n",
       "dtype: int64"
      ]
     },
     "execution_count": 5,
     "metadata": {},
     "output_type": "execute_result"
    }
   ],
   "source": [
    "df.isnull().sum()"
   ]
  },
  {
   "cell_type": "markdown",
   "metadata": {
    "papermill": {
     "duration": 0.022134,
     "end_time": "2021-01-01T08:00:54.209684",
     "exception": false,
     "start_time": "2021-01-01T08:00:54.187550",
     "status": "completed"
    },
    "tags": []
   },
   "source": [
    "Unique values in the dataset"
   ]
  },
  {
   "cell_type": "code",
   "execution_count": 6,
   "metadata": {
    "execution": {
     "iopub.execute_input": "2021-01-01T08:00:54.258842Z",
     "iopub.status.busy": "2021-01-01T08:00:54.258142Z",
     "iopub.status.idle": "2021-01-01T08:00:54.295457Z",
     "shell.execute_reply": "2021-01-01T08:00:54.296032Z"
    },
    "papermill": {
     "duration": 0.064142,
     "end_time": "2021-01-01T08:00:54.296170",
     "exception": false,
     "start_time": "2021-01-01T08:00:54.232028",
     "status": "completed"
    },
    "tags": []
   },
   "outputs": [
    {
     "data": {
      "text/plain": [
       "year                           1\n",
       "month                          5\n",
       "day                           31\n",
       "order                        195\n",
       "country                       47\n",
       "session ID                 24026\n",
       "page 1 (main category)         4\n",
       "page 2 (clothing model)      217\n",
       "colour                        14\n",
       "location                       6\n",
       "model photography              2\n",
       "price                         20\n",
       "price 2                        2\n",
       "page                           5\n",
       "dtype: int64"
      ]
     },
     "execution_count": 6,
     "metadata": {},
     "output_type": "execute_result"
    }
   ],
   "source": [
    "df.nunique()"
   ]
  },
  {
   "cell_type": "code",
   "execution_count": 7,
   "metadata": {
    "execution": {
     "iopub.execute_input": "2021-01-01T08:00:54.346207Z",
     "iopub.status.busy": "2021-01-01T08:00:54.345225Z",
     "iopub.status.idle": "2021-01-01T08:00:54.348319Z",
     "shell.execute_reply": "2021-01-01T08:00:54.347617Z"
    },
    "papermill": {
     "duration": 0.02925,
     "end_time": "2021-01-01T08:00:54.348425",
     "exception": false,
     "start_time": "2021-01-01T08:00:54.319175",
     "status": "completed"
    },
    "tags": []
   },
   "outputs": [],
   "source": [
    "# df['country'].value_counts()"
   ]
  },
  {
   "cell_type": "code",
   "execution_count": 8,
   "metadata": {
    "execution": {
     "iopub.execute_input": "2021-01-01T08:00:54.411097Z",
     "iopub.status.busy": "2021-01-01T08:00:54.410344Z",
     "iopub.status.idle": "2021-01-01T08:00:54.505143Z",
     "shell.execute_reply": "2021-01-01T08:00:54.504372Z"
    },
    "papermill": {
     "duration": 0.133917,
     "end_time": "2021-01-01T08:00:54.505270",
     "exception": false,
     "start_time": "2021-01-01T08:00:54.371353",
     "status": "completed"
    },
    "tags": []
   },
   "outputs": [
    {
     "data": {
      "text/html": [
       "<div>\n",
       "<style scoped>\n",
       "    .dataframe tbody tr th:only-of-type {\n",
       "        vertical-align: middle;\n",
       "    }\n",
       "\n",
       "    .dataframe tbody tr th {\n",
       "        vertical-align: top;\n",
       "    }\n",
       "\n",
       "    .dataframe thead th {\n",
       "        text-align: right;\n",
       "    }\n",
       "</style>\n",
       "<table border=\"1\" class=\"dataframe\">\n",
       "  <thead>\n",
       "    <tr style=\"text-align: right;\">\n",
       "      <th></th>\n",
       "      <th>year</th>\n",
       "      <th>month</th>\n",
       "      <th>day</th>\n",
       "      <th>order</th>\n",
       "      <th>country</th>\n",
       "      <th>session ID</th>\n",
       "      <th>page 1 (main category)</th>\n",
       "      <th>colour</th>\n",
       "      <th>location</th>\n",
       "      <th>model photography</th>\n",
       "      <th>price</th>\n",
       "      <th>price 2</th>\n",
       "      <th>page</th>\n",
       "    </tr>\n",
       "  </thead>\n",
       "  <tbody>\n",
       "    <tr>\n",
       "      <th>count</th>\n",
       "      <td>165474.0</td>\n",
       "      <td>165474.000000</td>\n",
       "      <td>165474.000000</td>\n",
       "      <td>165474.000000</td>\n",
       "      <td>165474.000000</td>\n",
       "      <td>165474.000000</td>\n",
       "      <td>165474.000000</td>\n",
       "      <td>165474.000000</td>\n",
       "      <td>165474.000000</td>\n",
       "      <td>165474.000000</td>\n",
       "      <td>165474.000000</td>\n",
       "      <td>165474.000000</td>\n",
       "      <td>165474.000000</td>\n",
       "    </tr>\n",
       "    <tr>\n",
       "      <th>mean</th>\n",
       "      <td>2008.0</td>\n",
       "      <td>5.585887</td>\n",
       "      <td>14.524554</td>\n",
       "      <td>9.817476</td>\n",
       "      <td>26.952621</td>\n",
       "      <td>12058.417056</td>\n",
       "      <td>2.400842</td>\n",
       "      <td>6.227655</td>\n",
       "      <td>3.258198</td>\n",
       "      <td>1.260071</td>\n",
       "      <td>43.802507</td>\n",
       "      <td>1.488167</td>\n",
       "      <td>1.710166</td>\n",
       "    </tr>\n",
       "    <tr>\n",
       "      <th>std</th>\n",
       "      <td>0.0</td>\n",
       "      <td>1.328160</td>\n",
       "      <td>8.830374</td>\n",
       "      <td>13.478411</td>\n",
       "      <td>7.150691</td>\n",
       "      <td>7008.418903</td>\n",
       "      <td>1.144420</td>\n",
       "      <td>4.235606</td>\n",
       "      <td>1.713206</td>\n",
       "      <td>0.438674</td>\n",
       "      <td>12.548131</td>\n",
       "      <td>0.499861</td>\n",
       "      <td>0.982412</td>\n",
       "    </tr>\n",
       "    <tr>\n",
       "      <th>min</th>\n",
       "      <td>2008.0</td>\n",
       "      <td>4.000000</td>\n",
       "      <td>1.000000</td>\n",
       "      <td>1.000000</td>\n",
       "      <td>1.000000</td>\n",
       "      <td>1.000000</td>\n",
       "      <td>1.000000</td>\n",
       "      <td>1.000000</td>\n",
       "      <td>1.000000</td>\n",
       "      <td>1.000000</td>\n",
       "      <td>18.000000</td>\n",
       "      <td>1.000000</td>\n",
       "      <td>1.000000</td>\n",
       "    </tr>\n",
       "    <tr>\n",
       "      <th>25%</th>\n",
       "      <td>2008.0</td>\n",
       "      <td>4.000000</td>\n",
       "      <td>7.000000</td>\n",
       "      <td>2.000000</td>\n",
       "      <td>29.000000</td>\n",
       "      <td>5931.000000</td>\n",
       "      <td>1.000000</td>\n",
       "      <td>3.000000</td>\n",
       "      <td>2.000000</td>\n",
       "      <td>1.000000</td>\n",
       "      <td>33.000000</td>\n",
       "      <td>1.000000</td>\n",
       "      <td>1.000000</td>\n",
       "    </tr>\n",
       "    <tr>\n",
       "      <th>50%</th>\n",
       "      <td>2008.0</td>\n",
       "      <td>5.000000</td>\n",
       "      <td>14.000000</td>\n",
       "      <td>6.000000</td>\n",
       "      <td>29.000000</td>\n",
       "      <td>11967.500000</td>\n",
       "      <td>2.000000</td>\n",
       "      <td>4.000000</td>\n",
       "      <td>3.000000</td>\n",
       "      <td>1.000000</td>\n",
       "      <td>43.000000</td>\n",
       "      <td>1.000000</td>\n",
       "      <td>1.000000</td>\n",
       "    </tr>\n",
       "    <tr>\n",
       "      <th>75%</th>\n",
       "      <td>2008.0</td>\n",
       "      <td>7.000000</td>\n",
       "      <td>22.000000</td>\n",
       "      <td>12.000000</td>\n",
       "      <td>29.000000</td>\n",
       "      <td>18219.000000</td>\n",
       "      <td>3.000000</td>\n",
       "      <td>9.000000</td>\n",
       "      <td>5.000000</td>\n",
       "      <td>2.000000</td>\n",
       "      <td>52.000000</td>\n",
       "      <td>2.000000</td>\n",
       "      <td>2.000000</td>\n",
       "    </tr>\n",
       "    <tr>\n",
       "      <th>max</th>\n",
       "      <td>2008.0</td>\n",
       "      <td>8.000000</td>\n",
       "      <td>31.000000</td>\n",
       "      <td>195.000000</td>\n",
       "      <td>47.000000</td>\n",
       "      <td>24026.000000</td>\n",
       "      <td>4.000000</td>\n",
       "      <td>14.000000</td>\n",
       "      <td>6.000000</td>\n",
       "      <td>2.000000</td>\n",
       "      <td>82.000000</td>\n",
       "      <td>2.000000</td>\n",
       "      <td>5.000000</td>\n",
       "    </tr>\n",
       "  </tbody>\n",
       "</table>\n",
       "</div>"
      ],
      "text/plain": [
       "           year          month            day          order        country  \\\n",
       "count  165474.0  165474.000000  165474.000000  165474.000000  165474.000000   \n",
       "mean     2008.0       5.585887      14.524554       9.817476      26.952621   \n",
       "std         0.0       1.328160       8.830374      13.478411       7.150691   \n",
       "min      2008.0       4.000000       1.000000       1.000000       1.000000   \n",
       "25%      2008.0       4.000000       7.000000       2.000000      29.000000   \n",
       "50%      2008.0       5.000000      14.000000       6.000000      29.000000   \n",
       "75%      2008.0       7.000000      22.000000      12.000000      29.000000   \n",
       "max      2008.0       8.000000      31.000000     195.000000      47.000000   \n",
       "\n",
       "          session ID  page 1 (main category)         colour       location  \\\n",
       "count  165474.000000           165474.000000  165474.000000  165474.000000   \n",
       "mean    12058.417056                2.400842       6.227655       3.258198   \n",
       "std      7008.418903                1.144420       4.235606       1.713206   \n",
       "min         1.000000                1.000000       1.000000       1.000000   \n",
       "25%      5931.000000                1.000000       3.000000       2.000000   \n",
       "50%     11967.500000                2.000000       4.000000       3.000000   \n",
       "75%     18219.000000                3.000000       9.000000       5.000000   \n",
       "max     24026.000000                4.000000      14.000000       6.000000   \n",
       "\n",
       "       model photography          price        price 2           page  \n",
       "count      165474.000000  165474.000000  165474.000000  165474.000000  \n",
       "mean            1.260071      43.802507       1.488167       1.710166  \n",
       "std             0.438674      12.548131       0.499861       0.982412  \n",
       "min             1.000000      18.000000       1.000000       1.000000  \n",
       "25%             1.000000      33.000000       1.000000       1.000000  \n",
       "50%             1.000000      43.000000       1.000000       1.000000  \n",
       "75%             2.000000      52.000000       2.000000       2.000000  \n",
       "max             2.000000      82.000000       2.000000       5.000000  "
      ]
     },
     "execution_count": 8,
     "metadata": {},
     "output_type": "execute_result"
    }
   ],
   "source": [
    "df.describe()"
   ]
  },
  {
   "cell_type": "code",
   "execution_count": 9,
   "metadata": {
    "execution": {
     "iopub.execute_input": "2021-01-01T08:00:54.561120Z",
     "iopub.status.busy": "2021-01-01T08:00:54.560395Z",
     "iopub.status.idle": "2021-01-01T08:00:54.756134Z",
     "shell.execute_reply": "2021-01-01T08:00:54.755415Z"
    },
    "papermill": {
     "duration": 0.226788,
     "end_time": "2021-01-01T08:00:54.756252",
     "exception": false,
     "start_time": "2021-01-01T08:00:54.529464",
     "status": "completed"
    },
    "tags": []
   },
   "outputs": [
    {
     "data": {
      "text/plain": [
       "<matplotlib.axes._subplots.AxesSubplot at 0x7f05921e2b90>"
      ]
     },
     "execution_count": 9,
     "metadata": {},
     "output_type": "execute_result"
    },
    {
     "data": {
      "image/png": "[encoded data removed]",
      "text/plain": [
       "<Figure size 2160x1440 with 1 Axes>"
      ]
     },
     "metadata": {},
     "output_type": "display_data"
    }
   ],
   "source": [
    "plt.figure(figsize=(30,20))\n",
    "plt.subplots_adjust(left=0.125, bottom=0.1, right=0.9, top=0.9,\n",
    "                      wspace=0.5, hspace=0.2)\n",
    "plt.subplot(141)\n",
    "plt.title('Colour',fontsize = 20)\n",
    "df['colour'].value_counts().plot.pie(autopct=\"%1.1f%%\")"
   ]
  },
  {
   "cell_type": "code",
   "execution_count": 10,
   "metadata": {
    "execution": {
     "iopub.execute_input": "2021-01-01T08:00:54.821406Z",
     "iopub.status.busy": "2021-01-01T08:00:54.819738Z",
     "iopub.status.idle": "2021-01-01T08:00:54.903194Z",
     "shell.execute_reply": "2021-01-01T08:00:54.903707Z"
    },
    "papermill": {
     "duration": 0.121583,
     "end_time": "2021-01-01T08:00:54.903863",
     "exception": false,
     "start_time": "2021-01-01T08:00:54.782280",
     "status": "completed"
    },
    "tags": []
   },
   "outputs": [
    {
     "data": {
      "text/plain": [
       "<matplotlib.axes._subplots.AxesSubplot at 0x7f05920f4ed0>"
      ]
     },
     "execution_count": 10,
     "metadata": {},
     "output_type": "execute_result"
    },
    {
     "data": {
      "image/png": "[encoded data removed]",
      "text/plain": [
       "<Figure size 2160x1440 with 1 Axes>"
      ]
     },
     "metadata": {},
     "output_type": "display_data"
    }
   ],
   "source": [
    "plt.figure(figsize=(30,20))\n",
    "plt.subplots_adjust(left=0.125, bottom=0.1, right=0.9, top=0.9,\n",
    "                      wspace=0.5, hspace=0.2)\n",
    "plt.subplot(141)\n",
    "plt.title('Location',fontsize = 20)\n",
    "df['location'].value_counts().plot.pie(autopct=\"%1.1f%%\")"
   ]
  },
  {
   "cell_type": "code",
   "execution_count": 11,
   "metadata": {
    "execution": {
     "iopub.execute_input": "2021-01-01T08:00:54.971332Z",
     "iopub.status.busy": "2021-01-01T08:00:54.970612Z",
     "iopub.status.idle": "2021-01-01T08:00:55.050090Z",
     "shell.execute_reply": "2021-01-01T08:00:55.049475Z"
    },
    "papermill": {
     "duration": 0.118617,
     "end_time": "2021-01-01T08:00:55.050208",
     "exception": false,
     "start_time": "2021-01-01T08:00:54.931591",
     "status": "completed"
    },
    "tags": []
   },
   "outputs": [
    {
     "data": {
      "text/plain": [
       "<matplotlib.axes._subplots.AxesSubplot at 0x7f05915d5610>"
      ]
     },
     "execution_count": 11,
     "metadata": {},
     "output_type": "execute_result"
    },
    {
     "data": {
      "image/png": "[encoded data removed]",
      "text/plain": [
       "<Figure size 2160x1440 with 1 Axes>"
      ]
     },
     "metadata": {},
     "output_type": "display_data"
    }
   ],
   "source": [
    "plt.figure(figsize=(30,20))\n",
    "plt.subplots_adjust(left=0.125, bottom=0.1, right=0.9, top=0.9,\n",
    "                      wspace=0.5, hspace=0.2)\n",
    "plt.subplot(141)\n",
    "plt.title('Page',fontsize = 20)\n",
    "df['page'].value_counts().plot.pie(autopct=\"%1.1f%%\")"
   ]
  },
  {
   "cell_type": "code",
   "execution_count": 12,
   "metadata": {
    "execution": {
     "iopub.execute_input": "2021-01-01T08:00:55.113863Z",
     "iopub.status.busy": "2021-01-01T08:00:55.113194Z",
     "iopub.status.idle": "2021-01-01T08:00:55.247130Z",
     "shell.execute_reply": "2021-01-01T08:00:55.247896Z"
    },
    "papermill": {
     "duration": 0.168534,
     "end_time": "2021-01-01T08:00:55.248120",
     "exception": false,
     "start_time": "2021-01-01T08:00:55.079586",
     "status": "completed"
    },
    "tags": []
   },
   "outputs": [
    {
     "data": {
      "image/png": "[encoded data removed]",
      "text/plain": [
       "<Figure size 432x288 with 1 Axes>"
      ]
     },
     "metadata": {
      "needs_background": "light"
     },
     "output_type": "display_data"
    }
   ],
   "source": [
    "ax = sns.countplot(x=\"month\", data=df)"
   ]
  },
  {
   "cell_type": "code",
   "execution_count": 13,
   "metadata": {
    "execution": {
     "iopub.execute_input": "2021-01-01T08:00:55.313461Z",
     "iopub.status.busy": "2021-01-01T08:00:55.312721Z",
     "iopub.status.idle": "2021-01-01T08:00:55.320188Z",
     "shell.execute_reply": "2021-01-01T08:00:55.320736Z"
    },
    "papermill": {
     "duration": 0.042289,
     "end_time": "2021-01-01T08:00:55.320872",
     "exception": false,
     "start_time": "2021-01-01T08:00:55.278583",
     "status": "completed"
    },
    "tags": []
   },
   "outputs": [
    {
     "data": {
      "text/plain": [
       "4    48199\n",
       "5    35654\n",
       "7    35231\n",
       "6    32242\n",
       "8    14148\n",
       "Name: month, dtype: int64"
      ]
     },
     "execution_count": 13,
     "metadata": {},
     "output_type": "execute_result"
    }
   ],
   "source": [
    "df['month'].value_counts()"
   ]
  },
  {
   "cell_type": "code",
   "execution_count": 14,
   "metadata": {
    "execution": {
     "iopub.execute_input": "2021-01-01T08:00:55.386948Z",
     "iopub.status.busy": "2021-01-01T08:00:55.386269Z",
     "iopub.status.idle": "2021-01-01T08:00:55.538327Z",
     "shell.execute_reply": "2021-01-01T08:00:55.537600Z"
    },
    "papermill": {
     "duration": 0.186988,
     "end_time": "2021-01-01T08:00:55.538446",
     "exception": false,
     "start_time": "2021-01-01T08:00:55.351458",
     "status": "completed"
    },
    "tags": []
   },
   "outputs": [
    {
     "data": {
      "image/png": "[encoded data removed]",
      "text/plain": [
       "<Figure size 432x288 with 1 Axes>"
      ]
     },
     "metadata": {
      "needs_background": "light"
     },
     "output_type": "display_data"
    }
   ],
   "source": [
    "ax = sns.countplot(x=\"location\", data=df)"
   ]
  },
  {
   "cell_type": "code",
   "execution_count": 15,
   "metadata": {
    "execution": {
     "iopub.execute_input": "2021-01-01T08:00:55.608094Z",
     "iopub.status.busy": "2021-01-01T08:00:55.606915Z",
     "iopub.status.idle": "2021-01-01T08:00:55.932365Z",
     "shell.execute_reply": "2021-01-01T08:00:55.931723Z"
    },
    "papermill": {
     "duration": 0.362018,
     "end_time": "2021-01-01T08:00:55.932486",
     "exception": false,
     "start_time": "2021-01-01T08:00:55.570468",
     "status": "completed"
    },
    "tags": []
   },
   "outputs": [
    {
     "data": {
      "image/png": "[encoded data removed]",
      "text/plain": [
       "<Figure size 432x288 with 1 Axes>"
      ]
     },
     "metadata": {
      "needs_background": "light"
     },
     "output_type": "display_data"
    }
   ],
   "source": [
    "ax = sns.countplot(x=\"price\", data=df)"
   ]
  },
  {
   "cell_type": "code",
   "execution_count": 16,
   "metadata": {
    "execution": {
     "iopub.execute_input": "2021-01-01T08:00:56.003483Z",
     "iopub.status.busy": "2021-01-01T08:00:56.002749Z",
     "iopub.status.idle": "2021-01-01T08:00:56.123585Z",
     "shell.execute_reply": "2021-01-01T08:00:56.122834Z"
    },
    "papermill": {
     "duration": 0.158211,
     "end_time": "2021-01-01T08:00:56.123702",
     "exception": false,
     "start_time": "2021-01-01T08:00:55.965491",
     "status": "completed"
    },
    "tags": []
   },
   "outputs": [
    {
     "data": {
      "image/png": "[encoded data removed]",
      "text/plain": [
       "<Figure size 432x288 with 1 Axes>"
      ]
     },
     "metadata": {
      "needs_background": "light"
     },
     "output_type": "display_data"
    }
   ],
   "source": [
    " ax = sns.countplot(x=\"model photography\", data=df)"
   ]
  },
  {
   "cell_type": "code",
   "execution_count": 17,
   "metadata": {
    "execution": {
     "iopub.execute_input": "2021-01-01T08:00:56.196772Z",
     "iopub.status.busy": "2021-01-01T08:00:56.195700Z",
     "iopub.status.idle": "2021-01-01T08:00:56.665901Z",
     "shell.execute_reply": "2021-01-01T08:00:56.666462Z"
    },
    "papermill": {
     "duration": 0.509353,
     "end_time": "2021-01-01T08:00:56.666619",
     "exception": false,
     "start_time": "2021-01-01T08:00:56.157266",
     "status": "completed"
    },
    "tags": []
   },
   "outputs": [
    {
     "data": {
      "image/png": "[encoded data removed]",
      "text/plain": [
       "<Figure size 432x288 with 1 Axes>"
      ]
     },
     "metadata": {
      "needs_background": "light"
     },
     "output_type": "display_data"
    }
   ],
   "source": [
    " ax = sns.countplot(x=\"country\", data=df)"
   ]
  },
  {
   "cell_type": "code",
   "execution_count": 18,
   "metadata": {
    "execution": {
     "iopub.execute_input": "2021-01-01T08:00:56.742033Z",
     "iopub.status.busy": "2021-01-01T08:00:56.741102Z",
     "iopub.status.idle": "2021-01-01T08:00:56.749261Z",
     "shell.execute_reply": "2021-01-01T08:00:56.749945Z"
    },
    "papermill": {
     "duration": 0.048421,
     "end_time": "2021-01-01T08:00:56.750119",
     "exception": false,
     "start_time": "2021-01-01T08:00:56.701698",
     "status": "completed"
    },
    "tags": []
   },
   "outputs": [
    {
     "data": {
      "text/plain": [
       "29    133963\n",
       "9      18003\n",
       "24      4091\n",
       "46      2522\n",
       "44      1385\n",
       "16       834\n",
       "21       811\n",
       "34       716\n",
       "41       684\n",
       "3        256\n",
       "27       227\n",
       "12       210\n",
       "42       170\n",
       "37       163\n",
       "10       152\n",
       "31       144\n",
       "22       144\n",
       "28       139\n",
       "38       137\n",
       "15       125\n",
       "11       115\n",
       "25        71\n",
       "2         58\n",
       "32        49\n",
       "23        46\n",
       "14        43\n",
       "39        34\n",
       "43        31\n",
       "19        29\n",
       "17        23\n",
       "36        19\n",
       "18        18\n",
       "20        10\n",
       "7          9\n",
       "47         7\n",
       "45         6\n",
       "30         5\n",
       "6          5\n",
       "5          4\n",
       "33         3\n",
       "35         3\n",
       "1          3\n",
       "13         2\n",
       "26         2\n",
       "8          1\n",
       "4          1\n",
       "40         1\n",
       "Name: country, dtype: int64"
      ]
     },
     "execution_count": 18,
     "metadata": {},
     "output_type": "execute_result"
    }
   ],
   "source": [
    "df['country'].value_counts()"
   ]
  },
  {
   "cell_type": "code",
   "execution_count": 19,
   "metadata": {
    "execution": {
     "iopub.execute_input": "2021-01-01T08:00:56.827333Z",
     "iopub.status.busy": "2021-01-01T08:00:56.826221Z",
     "iopub.status.idle": "2021-01-01T08:00:57.029766Z",
     "shell.execute_reply": "2021-01-01T08:00:57.029152Z"
    },
    "papermill": {
     "duration": 0.244314,
     "end_time": "2021-01-01T08:00:57.029882",
     "exception": false,
     "start_time": "2021-01-01T08:00:56.785568",
     "status": "completed"
    },
    "tags": []
   },
   "outputs": [
    {
     "data": {
      "image/png": "[encoded data removed]",
      "text/plain": [
       "<Figure size 432x288 with 1 Axes>"
      ]
     },
     "metadata": {
      "needs_background": "light"
     },
     "output_type": "display_data"
    }
   ],
   "source": [
    "ax = sns.countplot(x=\"location\", hue=\"model photography\", data=df)"
   ]
  },
  {
   "cell_type": "markdown",
   "metadata": {
    "papermill": {
     "duration": 0.036068,
     "end_time": "2021-01-01T08:00:57.103226",
     "exception": false,
     "start_time": "2021-01-01T08:00:57.067158",
     "status": "completed"
    },
    "tags": []
   },
   "source": [
    "## Month by Model photography"
   ]
  },
  {
   "cell_type": "code",
   "execution_count": 20,
   "metadata": {
    "execution": {
     "iopub.execute_input": "2021-01-01T08:00:57.181696Z",
     "iopub.status.busy": "2021-01-01T08:00:57.180953Z",
     "iopub.status.idle": "2021-01-01T08:00:57.374248Z",
     "shell.execute_reply": "2021-01-01T08:00:57.373520Z"
    },
    "papermill": {
     "duration": 0.234517,
     "end_time": "2021-01-01T08:00:57.374367",
     "exception": false,
     "start_time": "2021-01-01T08:00:57.139850",
     "status": "completed"
    },
    "tags": []
   },
   "outputs": [
    {
     "data": {
      "image/png": "[encoded data removed]",
      "text/plain": [
       "<Figure size 432x288 with 1 Axes>"
      ]
     },
     "metadata": {
      "needs_background": "light"
     },
     "output_type": "display_data"
    }
   ],
   "source": [
    "ax = sns.countplot(x=\"month\", hue=\"model photography\", data=df)"
   ]
  },
  {
   "cell_type": "markdown",
   "metadata": {
    "papermill": {
     "duration": 0.037071,
     "end_time": "2021-01-01T08:00:57.448871",
     "exception": false,
     "start_time": "2021-01-01T08:00:57.411800",
     "status": "completed"
    },
    "tags": []
   },
   "source": [
    "## Model Photography by colour"
   ]
  },
  {
   "cell_type": "code",
   "execution_count": 21,
   "metadata": {
    "execution": {
     "iopub.execute_input": "2021-01-01T08:00:57.529203Z",
     "iopub.status.busy": "2021-01-01T08:00:57.528453Z",
     "iopub.status.idle": "2021-01-01T08:00:57.841999Z",
     "shell.execute_reply": "2021-01-01T08:00:57.841430Z"
    },
    "papermill": {
     "duration": 0.355969,
     "end_time": "2021-01-01T08:00:57.842146",
     "exception": false,
     "start_time": "2021-01-01T08:00:57.486177",
     "status": "completed"
    },
    "tags": []
   },
   "outputs": [
    {
     "data": {
      "image/png": "[encoded data removed]",
      "text/plain": [
       "<Figure size 432x288 with 1 Axes>"
      ]
     },
     "metadata": {
      "needs_background": "light"
     },
     "output_type": "display_data"
    }
   ],
   "source": [
    "ax = sns.countplot(x=\"colour\", hue=\"model photography\", data=df)"
   ]
  },
  {
   "cell_type": "code",
   "execution_count": null,
   "metadata": {
    "papermill": {
     "duration": 0.038697,
     "end_time": "2021-01-01T08:00:57.919638",
     "exception": false,
     "start_time": "2021-01-01T08:00:57.880941",
     "status": "completed"
    },
    "tags": []
   },
   "outputs": [],
   "source": []
  },
  {
   "cell_type": "code",
   "execution_count": null,
   "metadata": {
    "papermill": {
     "duration": 0.037953,
     "end_time": "2021-01-01T08:00:57.996124",
     "exception": false,
     "start_time": "2021-01-01T08:00:57.958171",
     "status": "completed"
    },
    "tags": []
   },
   "outputs": [],
   "source": []
  }
 ],
 "metadata": {
  "kernelspec": {
   "display_name": "Python 3",
   "language": "python",
   "name": "python3"
  },
  "language_info": {
   "codemirror_mode": {
    "name": "ipython",
    "version": 3
   },
   "file_extension": ".py",
   "mimetype": "text/x-python",
   "name": "python",
   "nbconvert_exporter": "python",
   "pygments_lexer": "ipython3",
   "version": "3.7.6"
  },
  "papermill": {
   "duration": 10.807573,
   "end_time": "2021-01-01T08:00:59.046398",
   "environment_variables": {},
   "exception": null,
   "input_path": "__notebook__.ipynb",
   "output_path": "__notebook__.ipynb",
   "parameters": {},
   "start_time": "2021-01-01T08:00:48.238825",
   "version": "2.1.0"
  }
 },
 "nbformat": 4,
 "nbformat_minor": 4
}
